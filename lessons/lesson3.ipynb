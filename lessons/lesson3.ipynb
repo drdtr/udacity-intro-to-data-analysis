{
 "cells": [
  {
   "cell_type": "markdown",
   "metadata": {},
   "source": [
    "# Lesson 3: NumPy and Pandas for 2D Data"
   ]
  },
  {
   "cell_type": "code",
   "execution_count": 1,
   "metadata": {
    "pycharm": {
     "name": "#%%\n"
    }
   },
   "outputs": [],
   "source": [
    "import numpy as np\n",
    "import pandas as pd"
   ]
  },
  {
   "cell_type": "markdown",
   "metadata": {
    "pycharm": {
     "name": "#%% md\n"
    }
   },
   "source": [
    "## Two-Dimensional NumPy arrays"
   ]
  },
  {
   "cell_type": "markdown",
   "metadata": {
    "pycharm": {
     "name": "#%% md\n"
    }
   },
   "source": [
    "Find mean ridership and station with maximum ridership for given data for 5 stations on 10 different days."
   ]
  },
  {
   "cell_type": "code",
   "execution_count": 2,
   "metadata": {
    "pycharm": {
     "name": "#%%\n"
    }
   },
   "outputs": [
    {
     "data": {
      "text/plain": "(2342.6, 3239.9)"
     },
     "execution_count": 2,
     "metadata": {},
     "output_type": "execute_result"
    }
   ],
   "source": [
    "ridership = np.array([\n",
    "    [   0,    0,    2,    5,    0],\n",
    "    [1478, 3877, 3674, 2328, 2539],\n",
    "    [1613, 4088, 3991, 6461, 2691],\n",
    "    [1560, 3392, 3826, 4787, 2613],\n",
    "    [1608, 4802, 3932, 4477, 2705],\n",
    "    [1576, 3933, 3909, 4979, 2685],\n",
    "    [  95,  229,  255,  496,  201],\n",
    "    [   2,    0,    1,   27,    0],\n",
    "    [1438, 3785, 3589, 4174, 2215],\n",
    "    [1342, 4043, 4009, 4665, 3033]\n",
    "])\n",
    "\n",
    "def mean_riders_for_max_station(ridership):\n",
    "    \"\"\"\n",
    "    :param ridership: 2D array of ridership data, each 1D sub-array containing data for all stations on one day.\n",
    "    :return: a tuple containing the mean value over all days and stations, as well as the mean value for the station with most riders on the first day.\n",
    "    \"\"\"\n",
    "    mean_overall = ridership.mean()\n",
    "    max_station_on_1st_day_idx = ridership[0].argmax()\n",
    "    max_station_on_1st_day_ridership = ridership[:,max_station_on_1st_day_idx]\n",
    "    mean_for_max_station_on_1st_day = max_station_on_1st_day_ridership.mean()\n",
    "    return mean_overall, mean_for_max_station_on_1st_day\n",
    "\n",
    "mean_riders_for_max_station(ridership)"
   ]
  },
  {
   "cell_type": "markdown",
   "metadata": {
    "pycharm": {
     "name": "#%% md\n"
    }
   },
   "source": [
    "Calculate the mean ridership for each station using the axis parameter."
   ]
  },
  {
   "cell_type": "code",
   "execution_count": 3,
   "metadata": {
    "pycharm": {
     "name": "#%%\n"
    }
   },
   "outputs": [
    {
     "data": {
      "text/plain": "(3239.9, 1071.2)"
     },
     "execution_count": 3,
     "metadata": {},
     "output_type": "execute_result"
    }
   ],
   "source": [
    "def min_and_max_riders_per_day(ridership):\n",
    "    \"\"\"\n",
    "    :param ridership: 2D array of ridership data, each 1D sub-array containing data for all stations on one day.\n",
    "    :return: the minimum and maximum values of mean station ridership.\n",
    "    \"\"\"\n",
    "    # we calculate the mean of each column, because a column represents a station\n",
    "    mean_daily_ridership = ridership.mean(axis=0)\n",
    "\n",
    "    max_daily_ridership = mean_daily_ridership.max()\n",
    "    min_daily_ridership = mean_daily_ridership.min()\n",
    "\n",
    "    return max_daily_ridership, min_daily_ridership\n",
    "\n",
    "min_and_max_riders_per_day(ridership)"
   ]
  },
  {
   "cell_type": "markdown",
   "metadata": {
    "pycharm": {
     "name": "#%% md\n"
    }
   },
   "source": [
    "## Accessing elements of a Pandas DataFrame"
   ]
  },
  {
   "cell_type": "code",
   "execution_count": 4,
   "metadata": {
    "pycharm": {
     "name": "#%%\n"
    }
   },
   "outputs": [
    {
     "data": {
      "text/plain": "            R003  R004  R005  R006  R007\n2011-05-01     0     0     2     5     0\n2011-05-02  1478  3877  3674  2328  2539\n2011-05-03  1613  4088  3991  6461  2691\n2011-05-04  1560  3392  3826  4787  2613\n2011-05-05  1608  4802  3932  4477  2705\n2011-05-06  1576  3933  3909  4979  2685\n2011-05-07    95   229   255   496   201\n2011-05-08     2     0     1    27     0\n2011-05-09  1438  3785  3589  4174  2215\n2011-05-10  1342  4043  4009  4665  3033",
      "text/html": "<div>\n<style scoped>\n    .dataframe tbody tr th:only-of-type {\n        vertical-align: middle;\n    }\n\n    .dataframe tbody tr th {\n        vertical-align: top;\n    }\n\n    .dataframe thead th {\n        text-align: right;\n    }\n</style>\n<table border=\"1\" class=\"dataframe\">\n  <thead>\n    <tr style=\"text-align: right;\">\n      <th></th>\n      <th>R003</th>\n      <th>R004</th>\n      <th>R005</th>\n      <th>R006</th>\n      <th>R007</th>\n    </tr>\n  </thead>\n  <tbody>\n    <tr>\n      <th>2011-05-01</th>\n      <td>0</td>\n      <td>0</td>\n      <td>2</td>\n      <td>5</td>\n      <td>0</td>\n    </tr>\n    <tr>\n      <th>2011-05-02</th>\n      <td>1478</td>\n      <td>3877</td>\n      <td>3674</td>\n      <td>2328</td>\n      <td>2539</td>\n    </tr>\n    <tr>\n      <th>2011-05-03</th>\n      <td>1613</td>\n      <td>4088</td>\n      <td>3991</td>\n      <td>6461</td>\n      <td>2691</td>\n    </tr>\n    <tr>\n      <th>2011-05-04</th>\n      <td>1560</td>\n      <td>3392</td>\n      <td>3826</td>\n      <td>4787</td>\n      <td>2613</td>\n    </tr>\n    <tr>\n      <th>2011-05-05</th>\n      <td>1608</td>\n      <td>4802</td>\n      <td>3932</td>\n      <td>4477</td>\n      <td>2705</td>\n    </tr>\n    <tr>\n      <th>2011-05-06</th>\n      <td>1576</td>\n      <td>3933</td>\n      <td>3909</td>\n      <td>4979</td>\n      <td>2685</td>\n    </tr>\n    <tr>\n      <th>2011-05-07</th>\n      <td>95</td>\n      <td>229</td>\n      <td>255</td>\n      <td>496</td>\n      <td>201</td>\n    </tr>\n    <tr>\n      <th>2011-05-08</th>\n      <td>2</td>\n      <td>0</td>\n      <td>1</td>\n      <td>27</td>\n      <td>0</td>\n    </tr>\n    <tr>\n      <th>2011-05-09</th>\n      <td>1438</td>\n      <td>3785</td>\n      <td>3589</td>\n      <td>4174</td>\n      <td>2215</td>\n    </tr>\n    <tr>\n      <th>2011-05-10</th>\n      <td>1342</td>\n      <td>4043</td>\n      <td>4009</td>\n      <td>4665</td>\n      <td>3033</td>\n    </tr>\n  </tbody>\n</table>\n</div>"
     },
     "execution_count": 4,
     "metadata": {},
     "output_type": "execute_result"
    }
   ],
   "source": [
    "ridership_df = pd.DataFrame(\n",
    "    data = ridership,\n",
    "    index = ['2011-05-01', '2011-05-02', '2011-05-03', '2011-05-04', '2011-05-05',\n",
    "             '2011-05-06', '2011-05-07', '2011-05-08', '2011-05-09', '2011-05-10'],\n",
    "    columns=['R003', 'R004', 'R005', 'R006', 'R007'])\n",
    "\n",
    "ridership_df"
   ]
  },
  {
   "cell_type": "markdown",
   "metadata": {},
   "source": [
    "Get a row of the data frame by numerical index."
   ]
  },
  {
   "cell_type": "code",
   "execution_count": 5,
   "metadata": {
    "pycharm": {
     "name": "#%%\n"
    }
   },
   "outputs": [
    {
     "data": {
      "text/plain": "R003    0\nR004    0\nR005    2\nR006    5\nR007    0\nName: 2011-05-01, dtype: int32"
     },
     "execution_count": 5,
     "metadata": {},
     "output_type": "execute_result"
    }
   ],
   "source": [
    "ridership_df.iloc[0]"
   ]
  },
  {
   "cell_type": "markdown",
   "metadata": {},
   "source": [
    "Get a column of the data frame by numerical index."
   ]
  },
  {
   "cell_type": "code",
   "execution_count": 6,
   "metadata": {
    "pycharm": {
     "name": "#%%\n"
    }
   },
   "outputs": [
    {
     "data": {
      "text/plain": "2011-05-01       0\n2011-05-02    1478\n2011-05-03    1613\n2011-05-04    1560\n2011-05-05    1608\n2011-05-06    1576\n2011-05-07      95\n2011-05-08       2\n2011-05-09    1438\n2011-05-10    1342\nName: R003, dtype: int32"
     },
     "execution_count": 6,
     "metadata": {},
     "output_type": "execute_result"
    }
   ],
   "source": [
    "ridership_df.iloc[:, 0]"
   ]
  },
  {
   "cell_type": "markdown",
   "metadata": {
    "pycharm": {
     "name": "#%% md\n"
    }
   },
   "source": [
    "Get a row of the data frame by index."
   ]
  },
  {
   "cell_type": "code",
   "execution_count": 7,
   "metadata": {
    "pycharm": {
     "name": "#%%\n"
    }
   },
   "outputs": [
    {
     "data": {
      "text/plain": "R003    0\nR004    0\nR005    2\nR006    5\nR007    0\nName: 2011-05-01, dtype: int32"
     },
     "execution_count": 7,
     "metadata": {},
     "output_type": "execute_result"
    }
   ],
   "source": [
    "ridership_df.loc['2011-05-01']"
   ]
  },
  {
   "cell_type": "markdown",
   "metadata": {},
   "source": [
    "Get a column of the data frame by index."
   ]
  },
  {
   "cell_type": "code",
   "execution_count": 8,
   "metadata": {
    "pycharm": {
     "name": "#%%\n"
    }
   },
   "outputs": [
    {
     "data": {
      "text/plain": "2011-05-01       0\n2011-05-02    1478\n2011-05-03    1613\n2011-05-04    1560\n2011-05-05    1608\n2011-05-06    1576\n2011-05-07      95\n2011-05-08       2\n2011-05-09    1438\n2011-05-10    1342\nName: R003, dtype: int32"
     },
     "execution_count": 8,
     "metadata": {},
     "output_type": "execute_result"
    }
   ],
   "source": [
    "ridership_df['R003']"
   ]
  },
  {
   "cell_type": "markdown",
   "metadata": {},
   "source": [
    "Get multiple rows by numerical index."
   ]
  },
  {
   "cell_type": "code",
   "execution_count": 9,
   "metadata": {
    "pycharm": {
     "name": "#%%\n"
    }
   },
   "outputs": [
    {
     "data": {
      "text/plain": "            R003  R004  R005  R006  R007\n2011-05-02  1478  3877  3674  2328  2539\n2011-05-03  1613  4088  3991  6461  2691",
      "text/html": "<div>\n<style scoped>\n    .dataframe tbody tr th:only-of-type {\n        vertical-align: middle;\n    }\n\n    .dataframe tbody tr th {\n        vertical-align: top;\n    }\n\n    .dataframe thead th {\n        text-align: right;\n    }\n</style>\n<table border=\"1\" class=\"dataframe\">\n  <thead>\n    <tr style=\"text-align: right;\">\n      <th></th>\n      <th>R003</th>\n      <th>R004</th>\n      <th>R005</th>\n      <th>R006</th>\n      <th>R007</th>\n    </tr>\n  </thead>\n  <tbody>\n    <tr>\n      <th>2011-05-02</th>\n      <td>1478</td>\n      <td>3877</td>\n      <td>3674</td>\n      <td>2328</td>\n      <td>2539</td>\n    </tr>\n    <tr>\n      <th>2011-05-03</th>\n      <td>1613</td>\n      <td>4088</td>\n      <td>3991</td>\n      <td>6461</td>\n      <td>2691</td>\n    </tr>\n  </tbody>\n</table>\n</div>"
     },
     "execution_count": 9,
     "metadata": {},
     "output_type": "execute_result"
    }
   ],
   "source": [
    "ridership_df.iloc[1:3]"
   ]
  },
  {
   "cell_type": "markdown",
   "metadata": {},
   "source": [
    "Get multiple columns by numerical index."
   ]
  },
  {
   "cell_type": "code",
   "execution_count": 10,
   "metadata": {
    "pycharm": {
     "name": "#%%\n"
    }
   },
   "outputs": [
    {
     "data": {
      "text/plain": "            R004  R005\n2011-05-01     0     2\n2011-05-02  3877  3674\n2011-05-03  4088  3991\n2011-05-04  3392  3826\n2011-05-05  4802  3932\n2011-05-06  3933  3909\n2011-05-07   229   255\n2011-05-08     0     1\n2011-05-09  3785  3589\n2011-05-10  4043  4009",
      "text/html": "<div>\n<style scoped>\n    .dataframe tbody tr th:only-of-type {\n        vertical-align: middle;\n    }\n\n    .dataframe tbody tr th {\n        vertical-align: top;\n    }\n\n    .dataframe thead th {\n        text-align: right;\n    }\n</style>\n<table border=\"1\" class=\"dataframe\">\n  <thead>\n    <tr style=\"text-align: right;\">\n      <th></th>\n      <th>R004</th>\n      <th>R005</th>\n    </tr>\n  </thead>\n  <tbody>\n    <tr>\n      <th>2011-05-01</th>\n      <td>0</td>\n      <td>2</td>\n    </tr>\n    <tr>\n      <th>2011-05-02</th>\n      <td>3877</td>\n      <td>3674</td>\n    </tr>\n    <tr>\n      <th>2011-05-03</th>\n      <td>4088</td>\n      <td>3991</td>\n    </tr>\n    <tr>\n      <th>2011-05-04</th>\n      <td>3392</td>\n      <td>3826</td>\n    </tr>\n    <tr>\n      <th>2011-05-05</th>\n      <td>4802</td>\n      <td>3932</td>\n    </tr>\n    <tr>\n      <th>2011-05-06</th>\n      <td>3933</td>\n      <td>3909</td>\n    </tr>\n    <tr>\n      <th>2011-05-07</th>\n      <td>229</td>\n      <td>255</td>\n    </tr>\n    <tr>\n      <th>2011-05-08</th>\n      <td>0</td>\n      <td>1</td>\n    </tr>\n    <tr>\n      <th>2011-05-09</th>\n      <td>3785</td>\n      <td>3589</td>\n    </tr>\n    <tr>\n      <th>2011-05-10</th>\n      <td>4043</td>\n      <td>4009</td>\n    </tr>\n  </tbody>\n</table>\n</div>"
     },
     "execution_count": 10,
     "metadata": {},
     "output_type": "execute_result"
    }
   ],
   "source": [
    "ridership_df.iloc[:, 1:3]"
   ]
  },
  {
   "cell_type": "markdown",
   "metadata": {
    "pycharm": {
     "name": "#%% md\n"
    }
   },
   "source": [
    "Get multiple rows by index."
   ]
  },
  {
   "cell_type": "code",
   "execution_count": 11,
   "metadata": {
    "pycharm": {
     "name": "#%%\n"
    }
   },
   "outputs": [
    {
     "data": {
      "text/plain": "            R003  R004  R005  R006  R007\n2011-05-03  1613  4088  3991  6461  2691\n2011-05-07    95   229   255   496   201",
      "text/html": "<div>\n<style scoped>\n    .dataframe tbody tr th:only-of-type {\n        vertical-align: middle;\n    }\n\n    .dataframe tbody tr th {\n        vertical-align: top;\n    }\n\n    .dataframe thead th {\n        text-align: right;\n    }\n</style>\n<table border=\"1\" class=\"dataframe\">\n  <thead>\n    <tr style=\"text-align: right;\">\n      <th></th>\n      <th>R003</th>\n      <th>R004</th>\n      <th>R005</th>\n      <th>R006</th>\n      <th>R007</th>\n    </tr>\n  </thead>\n  <tbody>\n    <tr>\n      <th>2011-05-03</th>\n      <td>1613</td>\n      <td>4088</td>\n      <td>3991</td>\n      <td>6461</td>\n      <td>2691</td>\n    </tr>\n    <tr>\n      <th>2011-05-07</th>\n      <td>95</td>\n      <td>229</td>\n      <td>255</td>\n      <td>496</td>\n      <td>201</td>\n    </tr>\n  </tbody>\n</table>\n</div>"
     },
     "execution_count": 11,
     "metadata": {},
     "output_type": "execute_result"
    }
   ],
   "source": [
    "ridership_df.loc[['2011-05-03', '2011-05-07']]"
   ]
  },
  {
   "cell_type": "markdown",
   "metadata": {},
   "source": [
    "Get multiple columns by index."
   ]
  },
  {
   "cell_type": "code",
   "execution_count": 12,
   "metadata": {
    "pycharm": {
     "name": "#%%\n"
    }
   },
   "outputs": [
    {
     "data": {
      "text/plain": "            R003  R006\n2011-05-01     0     5\n2011-05-02  1478  2328\n2011-05-03  1613  6461\n2011-05-04  1560  4787\n2011-05-05  1608  4477\n2011-05-06  1576  4979\n2011-05-07    95   496\n2011-05-08     2    27\n2011-05-09  1438  4174\n2011-05-10  1342  4665",
      "text/html": "<div>\n<style scoped>\n    .dataframe tbody tr th:only-of-type {\n        vertical-align: middle;\n    }\n\n    .dataframe tbody tr th {\n        vertical-align: top;\n    }\n\n    .dataframe thead th {\n        text-align: right;\n    }\n</style>\n<table border=\"1\" class=\"dataframe\">\n  <thead>\n    <tr style=\"text-align: right;\">\n      <th></th>\n      <th>R003</th>\n      <th>R006</th>\n    </tr>\n  </thead>\n  <tbody>\n    <tr>\n      <th>2011-05-01</th>\n      <td>0</td>\n      <td>5</td>\n    </tr>\n    <tr>\n      <th>2011-05-02</th>\n      <td>1478</td>\n      <td>2328</td>\n    </tr>\n    <tr>\n      <th>2011-05-03</th>\n      <td>1613</td>\n      <td>6461</td>\n    </tr>\n    <tr>\n      <th>2011-05-04</th>\n      <td>1560</td>\n      <td>4787</td>\n    </tr>\n    <tr>\n      <th>2011-05-05</th>\n      <td>1608</td>\n      <td>4477</td>\n    </tr>\n    <tr>\n      <th>2011-05-06</th>\n      <td>1576</td>\n      <td>4979</td>\n    </tr>\n    <tr>\n      <th>2011-05-07</th>\n      <td>95</td>\n      <td>496</td>\n    </tr>\n    <tr>\n      <th>2011-05-08</th>\n      <td>2</td>\n      <td>27</td>\n    </tr>\n    <tr>\n      <th>2011-05-09</th>\n      <td>1438</td>\n      <td>4174</td>\n    </tr>\n    <tr>\n      <th>2011-05-10</th>\n      <td>1342</td>\n      <td>4665</td>\n    </tr>\n  </tbody>\n</table>\n</div>"
     },
     "execution_count": 12,
     "metadata": {},
     "output_type": "execute_result"
    }
   ],
   "source": [
    "ridership_df[['R003', 'R006']]"
   ]
  },
  {
   "cell_type": "markdown",
   "metadata": {},
   "source": [
    "Compute mean values per row using `axis=0`."
   ]
  },
  {
   "cell_type": "code",
   "execution_count": 13,
   "metadata": {
    "pycharm": {
     "name": "#%%\n"
    }
   },
   "outputs": [
    {
     "data": {
      "text/plain": "R003    1071.2\nR004    2814.9\nR005    2718.8\nR006    3239.9\nR007    1868.2\ndtype: float64"
     },
     "execution_count": 13,
     "metadata": {},
     "output_type": "execute_result"
    }
   ],
   "source": [
    "ridership_df.mean(axis=0)"
   ]
  },
  {
   "cell_type": "markdown",
   "metadata": {
    "pycharm": {
     "name": "#%% md\n"
    }
   },
   "source": [
    "Compute mean values per column using `axis=1`."
   ]
  },
  {
   "cell_type": "code",
   "execution_count": 14,
   "metadata": {
    "pycharm": {
     "name": "#%%\n"
    }
   },
   "outputs": [
    {
     "data": {
      "text/plain": "2011-05-01       1.4\n2011-05-02    2779.2\n2011-05-03    3768.8\n2011-05-04    3235.6\n2011-05-05    3504.8\n2011-05-06    3416.4\n2011-05-07     255.2\n2011-05-08       6.0\n2011-05-09    3040.2\n2011-05-10    3418.4\ndtype: float64"
     },
     "execution_count": 14,
     "metadata": {},
     "output_type": "execute_result"
    }
   ],
   "source": [
    "ridership_df.mean(axis=1)"
   ]
  },
  {
   "cell_type": "markdown",
   "metadata": {
    "pycharm": {
     "name": "#%% md\n"
    }
   },
   "source": [
    "Find mean ridership and station with maximum ridership using Pandas data frame."
   ]
  },
  {
   "cell_type": "code",
   "execution_count": 15,
   "metadata": {
    "pycharm": {
     "name": "#%%\n"
    }
   },
   "outputs": [
    {
     "data": {
      "text/plain": "(2342.6, 3239.9)"
     },
     "execution_count": 15,
     "metadata": {},
     "output_type": "execute_result"
    }
   ],
   "source": [
    "def mean_riders_for_max_station(ridership_df):\n",
    "    \"\"\"\n",
    "    :param ridership_df: DataFrame of ridership data,\n",
    "    each row representing a day and each column representing a station\n",
    "    :return: a tuple containing the mean value over all days and stations,\n",
    "    as well as the mean value over all days for the station with most riders on the first day\n",
    "    \"\"\"\n",
    "    mean_overall = ridership_df.values.mean()\n",
    "    max_station_on_1st_day_idx = ridership_df.iloc[0].idxmax()\n",
    "    max_station_on_1st_day_ridership = ridership_df[max_station_on_1st_day_idx]\n",
    "    mean_for_max_station_on_1st_day = max_station_on_1st_day_ridership.mean()\n",
    "    return mean_overall, mean_for_max_station_on_1st_day\n",
    "\n",
    "mean_riders_for_max_station(ridership_df)"
   ]
  },
  {
   "cell_type": "markdown",
   "metadata": {},
   "source": [
    "## Loading data into a DataFrame from CSV\n",
    "\n",
    "Load data on NYC subway ridership and weather from CSV."
   ]
  },
  {
   "cell_type": "code",
   "execution_count": 16,
   "metadata": {
    "pycharm": {
     "name": "#%%\n"
    }
   },
   "outputs": [
    {
     "data": {
      "text/plain": "UNIT                              R003\nDATEn                         05-19-11\nTIMEn                         04:00:00\nENTRIESn                       7378680\nEXITSn                         4879799\nENTRIESn_hourly                     15\nEXITSn_hourly                       45\ndatetime           2011-05-19 04:00:00\nhour                                 4\nday_week                             3\nweekday                              1\nstation                  CYPRESS HILLS\nlatitude                       40.6899\nlongitude                     -73.8726\nconds                         Overcast\nfog                                  0\nprecipi                              0\npressurei                        29.97\nrain                                 0\ntempi                             57.9\nwspdi                              6.9\nmeanprecipi                          0\nmeanpressurei                   29.972\nmeantempi                         63.4\nmeanwspdi                         9.68\nweather_lat                    40.7003\nweather_lon                   -73.8872\nName: 100, dtype: object"
     },
     "execution_count": 16,
     "metadata": {},
     "output_type": "execute_result"
    }
   ],
   "source": [
    "subway_df = pd.read_csv('../resources/lesson3/nyc_subway_weather.csv')\n",
    "subway_df.iloc[100]"
   ]
  },
  {
   "cell_type": "markdown",
   "metadata": {
    "pycharm": {
     "name": "#%% md\n"
    }
   },
   "source": [
    "We use pre-defined column names."
   ]
  },
  {
   "cell_type": "code",
   "execution_count": 17,
   "metadata": {
    "pycharm": {
     "name": "#%%\n"
    }
   },
   "outputs": [],
   "source": [
    "class Col:\n",
    "    \"\"\" Column names for NYC subway ridership data set. \"\"\"\n",
    "    unit = 'UNIT'\n",
    "    date = 'DATEn'\n",
    "    time = 'TIMEn'\n",
    "    entries = 'ENTRIESn'\n",
    "    exits = 'EXITSn'\n",
    "    entries_hourly = 'ENTRIESn_hourly'\n",
    "    exits_hourly = 'EXITSn_hourly'\n",
    "    datetime = 'datetime'\n",
    "    hour = 'hour'\n",
    "    day_week = 'day_week'\n",
    "    weekday = 'weekday'\n",
    "    station = 'station'\n",
    "    latitude = 'latitude'\n",
    "    longitude = 'longitude'\n",
    "    conds = 'conds'\n",
    "    fog = 'fog'\n",
    "    precipi = 'precipi'\n",
    "    pressurei = 'pressurei'\n",
    "    rain = 'rain'\n",
    "    tempi = 'tempi'\n",
    "    wspdi = 'wspdi'\n",
    "    meanprecipi = 'meanprecipi'\n",
    "    meanpressurei = 'meanpressurei'\n",
    "    meantempi = 'meantempi'\n",
    "    meanwspdi = 'meanwspdi'\n",
    "    weather_lat = 'weather_lat'\n",
    "    weather_lon = 'weather_lon'"
   ]
  },
  {
   "cell_type": "markdown",
   "metadata": {
    "pycharm": {
     "name": "#%% md\n"
    }
   },
   "source": [
    "Print first rows using `head`."
   ]
  },
  {
   "cell_type": "code",
   "execution_count": 18,
   "metadata": {
    "pycharm": {
     "name": "#%%\n"
    }
   },
   "outputs": [
    {
     "data": {
      "text/plain": "   UNIT     DATEn     TIMEn  ENTRIESn   EXITSn  ENTRIESn_hourly  \\\n0  R003  05-01-11  00:00:00   4388333  2911002              0.0   \n1  R003  05-01-11  04:00:00   4388333  2911002              0.0   \n2  R003  05-01-11  12:00:00   4388333  2911002              0.0   \n3  R003  05-01-11  16:00:00   4388333  2911002              0.0   \n4  R003  05-01-11  20:00:00   4388333  2911002              0.0   \n\n   EXITSn_hourly             datetime  hour  day_week  ...  pressurei rain  \\\n0            0.0  2011-05-01 00:00:00     0         6  ...      30.22    0   \n1            0.0  2011-05-01 04:00:00     4         6  ...      30.25    0   \n2            0.0  2011-05-01 12:00:00    12         6  ...      30.28    0   \n3            0.0  2011-05-01 16:00:00    16         6  ...      30.26    0   \n4            0.0  2011-05-01 20:00:00    20         6  ...      30.28    0   \n\n   tempi  wspdi meanprecipi  meanpressurei  meantempi  meanwspdi  weather_lat  \\\n0   55.9    3.5         0.0         30.258      55.98       7.86    40.700348   \n1   52.0    3.5         0.0         30.258      55.98       7.86    40.700348   \n2   62.1    6.9         0.0         30.258      55.98       7.86    40.700348   \n3   57.9   15.0         0.0         30.258      55.98       7.86    40.700348   \n4   52.0   10.4         0.0         30.258      55.98       7.86    40.700348   \n\n   weather_lon  \n0   -73.887177  \n1   -73.887177  \n2   -73.887177  \n3   -73.887177  \n4   -73.887177  \n\n[5 rows x 27 columns]",
      "text/html": "<div>\n<style scoped>\n    .dataframe tbody tr th:only-of-type {\n        vertical-align: middle;\n    }\n\n    .dataframe tbody tr th {\n        vertical-align: top;\n    }\n\n    .dataframe thead th {\n        text-align: right;\n    }\n</style>\n<table border=\"1\" class=\"dataframe\">\n  <thead>\n    <tr style=\"text-align: right;\">\n      <th></th>\n      <th>UNIT</th>\n      <th>DATEn</th>\n      <th>TIMEn</th>\n      <th>ENTRIESn</th>\n      <th>EXITSn</th>\n      <th>ENTRIESn_hourly</th>\n      <th>EXITSn_hourly</th>\n      <th>datetime</th>\n      <th>hour</th>\n      <th>day_week</th>\n      <th>...</th>\n      <th>pressurei</th>\n      <th>rain</th>\n      <th>tempi</th>\n      <th>wspdi</th>\n      <th>meanprecipi</th>\n      <th>meanpressurei</th>\n      <th>meantempi</th>\n      <th>meanwspdi</th>\n      <th>weather_lat</th>\n      <th>weather_lon</th>\n    </tr>\n  </thead>\n  <tbody>\n    <tr>\n      <th>0</th>\n      <td>R003</td>\n      <td>05-01-11</td>\n      <td>00:00:00</td>\n      <td>4388333</td>\n      <td>2911002</td>\n      <td>0.0</td>\n      <td>0.0</td>\n      <td>2011-05-01 00:00:00</td>\n      <td>0</td>\n      <td>6</td>\n      <td>...</td>\n      <td>30.22</td>\n      <td>0</td>\n      <td>55.9</td>\n      <td>3.5</td>\n      <td>0.0</td>\n      <td>30.258</td>\n      <td>55.98</td>\n      <td>7.86</td>\n      <td>40.700348</td>\n      <td>-73.887177</td>\n    </tr>\n    <tr>\n      <th>1</th>\n      <td>R003</td>\n      <td>05-01-11</td>\n      <td>04:00:00</td>\n      <td>4388333</td>\n      <td>2911002</td>\n      <td>0.0</td>\n      <td>0.0</td>\n      <td>2011-05-01 04:00:00</td>\n      <td>4</td>\n      <td>6</td>\n      <td>...</td>\n      <td>30.25</td>\n      <td>0</td>\n      <td>52.0</td>\n      <td>3.5</td>\n      <td>0.0</td>\n      <td>30.258</td>\n      <td>55.98</td>\n      <td>7.86</td>\n      <td>40.700348</td>\n      <td>-73.887177</td>\n    </tr>\n    <tr>\n      <th>2</th>\n      <td>R003</td>\n      <td>05-01-11</td>\n      <td>12:00:00</td>\n      <td>4388333</td>\n      <td>2911002</td>\n      <td>0.0</td>\n      <td>0.0</td>\n      <td>2011-05-01 12:00:00</td>\n      <td>12</td>\n      <td>6</td>\n      <td>...</td>\n      <td>30.28</td>\n      <td>0</td>\n      <td>62.1</td>\n      <td>6.9</td>\n      <td>0.0</td>\n      <td>30.258</td>\n      <td>55.98</td>\n      <td>7.86</td>\n      <td>40.700348</td>\n      <td>-73.887177</td>\n    </tr>\n    <tr>\n      <th>3</th>\n      <td>R003</td>\n      <td>05-01-11</td>\n      <td>16:00:00</td>\n      <td>4388333</td>\n      <td>2911002</td>\n      <td>0.0</td>\n      <td>0.0</td>\n      <td>2011-05-01 16:00:00</td>\n      <td>16</td>\n      <td>6</td>\n      <td>...</td>\n      <td>30.26</td>\n      <td>0</td>\n      <td>57.9</td>\n      <td>15.0</td>\n      <td>0.0</td>\n      <td>30.258</td>\n      <td>55.98</td>\n      <td>7.86</td>\n      <td>40.700348</td>\n      <td>-73.887177</td>\n    </tr>\n    <tr>\n      <th>4</th>\n      <td>R003</td>\n      <td>05-01-11</td>\n      <td>20:00:00</td>\n      <td>4388333</td>\n      <td>2911002</td>\n      <td>0.0</td>\n      <td>0.0</td>\n      <td>2011-05-01 20:00:00</td>\n      <td>20</td>\n      <td>6</td>\n      <td>...</td>\n      <td>30.28</td>\n      <td>0</td>\n      <td>52.0</td>\n      <td>10.4</td>\n      <td>0.0</td>\n      <td>30.258</td>\n      <td>55.98</td>\n      <td>7.86</td>\n      <td>40.700348</td>\n      <td>-73.887177</td>\n    </tr>\n  </tbody>\n</table>\n<p>5 rows × 27 columns</p>\n</div>"
     },
     "execution_count": 18,
     "metadata": {},
     "output_type": "execute_result"
    }
   ],
   "source": [
    "subway_df.head()"
   ]
  },
  {
   "cell_type": "markdown",
   "metadata": {},
   "source": [
    "Print descriptive statistics using `describe`."
   ]
  },
  {
   "cell_type": "code",
   "execution_count": 19,
   "metadata": {
    "pycharm": {
     "name": "#%%\n"
    }
   },
   "outputs": [
    {
     "data": {
      "text/plain": "           ENTRIESn        EXITSn  ENTRIESn_hourly  EXITSn_hourly  \\\ncount  4.264900e+04  4.264900e+04     42649.000000   42649.000000   \nmean   2.812486e+07  1.986993e+07      1886.589955    1361.487866   \nstd    3.043607e+07  2.028986e+07      2952.385585    2183.845409   \nmin    0.000000e+00  0.000000e+00         0.000000       0.000000   \n25%    1.039762e+07  7.613712e+06       274.000000     237.000000   \n50%    1.818389e+07  1.331609e+07       905.000000     664.000000   \n75%    3.263049e+07  2.393771e+07      2255.000000    1537.000000   \nmax    2.357746e+08  1.493782e+08     32814.000000   34828.000000   \n\n               hour      day_week       weekday      latitude     longitude  \\\ncount  42649.000000  42649.000000  42649.000000  42649.000000  42649.000000   \nmean      10.046754      2.905719      0.714436     40.724647    -73.940364   \nstd        6.938928      2.079231      0.451688      0.071650      0.059713   \nmin        0.000000      0.000000      0.000000     40.576152    -74.073622   \n25%        4.000000      1.000000      0.000000     40.677107    -73.987342   \n50%       12.000000      3.000000      1.000000     40.717241    -73.953459   \n75%       16.000000      5.000000      1.000000     40.759123    -73.907733   \nmax       20.000000      6.000000      1.000000     40.889185    -73.755383   \n\n                fog  ...     pressurei          rain         tempi  \\\ncount  42649.000000  ...  42649.000000  42649.000000  42649.000000   \nmean       0.009824  ...     29.971096      0.224741     63.103780   \nstd        0.098631  ...      0.137942      0.417417      8.455597   \nmin        0.000000  ...     29.550000      0.000000     46.900000   \n25%        0.000000  ...     29.890000      0.000000     57.000000   \n50%        0.000000  ...     29.960000      0.000000     61.000000   \n75%        0.000000  ...     30.060000      0.000000     69.100000   \nmax        1.000000  ...     30.320000      1.000000     86.000000   \n\n              wspdi   meanprecipi  meanpressurei     meantempi     meanwspdi  \\\ncount  42649.000000  42649.000000   42649.000000  42649.000000  42649.000000   \nmean       6.927872      0.004618      29.971096     63.103780      6.927872   \nstd        4.510178      0.016344       0.131158      6.939011      3.179832   \nmin        0.000000      0.000000      29.590000     49.400000      0.000000   \n25%        4.600000      0.000000      29.913333     58.283333      4.816667   \n50%        6.900000      0.000000      29.958000     60.950000      6.166667   \n75%        9.200000      0.000000      30.060000     67.466667      8.850000   \nmax       23.000000      0.157500      30.293333     79.800000     17.083333   \n\n        weather_lat   weather_lon  \ncount  42649.000000  42649.000000  \nmean      40.728555    -73.938693  \nstd        0.065420      0.059582  \nmin       40.600204    -74.014870  \n25%       40.688591    -73.985130  \n50%       40.720570    -73.949150  \n75%       40.755226    -73.912033  \nmax       40.862064    -73.694176  \n\n[8 rows x 21 columns]",
      "text/html": "<div>\n<style scoped>\n    .dataframe tbody tr th:only-of-type {\n        vertical-align: middle;\n    }\n\n    .dataframe tbody tr th {\n        vertical-align: top;\n    }\n\n    .dataframe thead th {\n        text-align: right;\n    }\n</style>\n<table border=\"1\" class=\"dataframe\">\n  <thead>\n    <tr style=\"text-align: right;\">\n      <th></th>\n      <th>ENTRIESn</th>\n      <th>EXITSn</th>\n      <th>ENTRIESn_hourly</th>\n      <th>EXITSn_hourly</th>\n      <th>hour</th>\n      <th>day_week</th>\n      <th>weekday</th>\n      <th>latitude</th>\n      <th>longitude</th>\n      <th>fog</th>\n      <th>...</th>\n      <th>pressurei</th>\n      <th>rain</th>\n      <th>tempi</th>\n      <th>wspdi</th>\n      <th>meanprecipi</th>\n      <th>meanpressurei</th>\n      <th>meantempi</th>\n      <th>meanwspdi</th>\n      <th>weather_lat</th>\n      <th>weather_lon</th>\n    </tr>\n  </thead>\n  <tbody>\n    <tr>\n      <th>count</th>\n      <td>4.264900e+04</td>\n      <td>4.264900e+04</td>\n      <td>42649.000000</td>\n      <td>42649.000000</td>\n      <td>42649.000000</td>\n      <td>42649.000000</td>\n      <td>42649.000000</td>\n      <td>42649.000000</td>\n      <td>42649.000000</td>\n      <td>42649.000000</td>\n      <td>...</td>\n      <td>42649.000000</td>\n      <td>42649.000000</td>\n      <td>42649.000000</td>\n      <td>42649.000000</td>\n      <td>42649.000000</td>\n      <td>42649.000000</td>\n      <td>42649.000000</td>\n      <td>42649.000000</td>\n      <td>42649.000000</td>\n      <td>42649.000000</td>\n    </tr>\n    <tr>\n      <th>mean</th>\n      <td>2.812486e+07</td>\n      <td>1.986993e+07</td>\n      <td>1886.589955</td>\n      <td>1361.487866</td>\n      <td>10.046754</td>\n      <td>2.905719</td>\n      <td>0.714436</td>\n      <td>40.724647</td>\n      <td>-73.940364</td>\n      <td>0.009824</td>\n      <td>...</td>\n      <td>29.971096</td>\n      <td>0.224741</td>\n      <td>63.103780</td>\n      <td>6.927872</td>\n      <td>0.004618</td>\n      <td>29.971096</td>\n      <td>63.103780</td>\n      <td>6.927872</td>\n      <td>40.728555</td>\n      <td>-73.938693</td>\n    </tr>\n    <tr>\n      <th>std</th>\n      <td>3.043607e+07</td>\n      <td>2.028986e+07</td>\n      <td>2952.385585</td>\n      <td>2183.845409</td>\n      <td>6.938928</td>\n      <td>2.079231</td>\n      <td>0.451688</td>\n      <td>0.071650</td>\n      <td>0.059713</td>\n      <td>0.098631</td>\n      <td>...</td>\n      <td>0.137942</td>\n      <td>0.417417</td>\n      <td>8.455597</td>\n      <td>4.510178</td>\n      <td>0.016344</td>\n      <td>0.131158</td>\n      <td>6.939011</td>\n      <td>3.179832</td>\n      <td>0.065420</td>\n      <td>0.059582</td>\n    </tr>\n    <tr>\n      <th>min</th>\n      <td>0.000000e+00</td>\n      <td>0.000000e+00</td>\n      <td>0.000000</td>\n      <td>0.000000</td>\n      <td>0.000000</td>\n      <td>0.000000</td>\n      <td>0.000000</td>\n      <td>40.576152</td>\n      <td>-74.073622</td>\n      <td>0.000000</td>\n      <td>...</td>\n      <td>29.550000</td>\n      <td>0.000000</td>\n      <td>46.900000</td>\n      <td>0.000000</td>\n      <td>0.000000</td>\n      <td>29.590000</td>\n      <td>49.400000</td>\n      <td>0.000000</td>\n      <td>40.600204</td>\n      <td>-74.014870</td>\n    </tr>\n    <tr>\n      <th>25%</th>\n      <td>1.039762e+07</td>\n      <td>7.613712e+06</td>\n      <td>274.000000</td>\n      <td>237.000000</td>\n      <td>4.000000</td>\n      <td>1.000000</td>\n      <td>0.000000</td>\n      <td>40.677107</td>\n      <td>-73.987342</td>\n      <td>0.000000</td>\n      <td>...</td>\n      <td>29.890000</td>\n      <td>0.000000</td>\n      <td>57.000000</td>\n      <td>4.600000</td>\n      <td>0.000000</td>\n      <td>29.913333</td>\n      <td>58.283333</td>\n      <td>4.816667</td>\n      <td>40.688591</td>\n      <td>-73.985130</td>\n    </tr>\n    <tr>\n      <th>50%</th>\n      <td>1.818389e+07</td>\n      <td>1.331609e+07</td>\n      <td>905.000000</td>\n      <td>664.000000</td>\n      <td>12.000000</td>\n      <td>3.000000</td>\n      <td>1.000000</td>\n      <td>40.717241</td>\n      <td>-73.953459</td>\n      <td>0.000000</td>\n      <td>...</td>\n      <td>29.960000</td>\n      <td>0.000000</td>\n      <td>61.000000</td>\n      <td>6.900000</td>\n      <td>0.000000</td>\n      <td>29.958000</td>\n      <td>60.950000</td>\n      <td>6.166667</td>\n      <td>40.720570</td>\n      <td>-73.949150</td>\n    </tr>\n    <tr>\n      <th>75%</th>\n      <td>3.263049e+07</td>\n      <td>2.393771e+07</td>\n      <td>2255.000000</td>\n      <td>1537.000000</td>\n      <td>16.000000</td>\n      <td>5.000000</td>\n      <td>1.000000</td>\n      <td>40.759123</td>\n      <td>-73.907733</td>\n      <td>0.000000</td>\n      <td>...</td>\n      <td>30.060000</td>\n      <td>0.000000</td>\n      <td>69.100000</td>\n      <td>9.200000</td>\n      <td>0.000000</td>\n      <td>30.060000</td>\n      <td>67.466667</td>\n      <td>8.850000</td>\n      <td>40.755226</td>\n      <td>-73.912033</td>\n    </tr>\n    <tr>\n      <th>max</th>\n      <td>2.357746e+08</td>\n      <td>1.493782e+08</td>\n      <td>32814.000000</td>\n      <td>34828.000000</td>\n      <td>20.000000</td>\n      <td>6.000000</td>\n      <td>1.000000</td>\n      <td>40.889185</td>\n      <td>-73.755383</td>\n      <td>1.000000</td>\n      <td>...</td>\n      <td>30.320000</td>\n      <td>1.000000</td>\n      <td>86.000000</td>\n      <td>23.000000</td>\n      <td>0.157500</td>\n      <td>30.293333</td>\n      <td>79.800000</td>\n      <td>17.083333</td>\n      <td>40.862064</td>\n      <td>-73.694176</td>\n    </tr>\n  </tbody>\n</table>\n<p>8 rows × 21 columns</p>\n</div>"
     },
     "execution_count": 19,
     "metadata": {},
     "output_type": "execute_result"
    }
   ],
   "source": [
    "subway_df.describe()"
   ]
  },
  {
   "cell_type": "markdown",
   "metadata": {
    "pycharm": {
     "name": "#%% md\n"
    }
   },
   "source": [
    "## Calculating Correlation (Pearson's r)\n",
    "\n",
    "[Pearsons's r](https://en.wikipedia.org/wiki/Pearson_correlation_coefficient)\n",
    "is a measure for corrleation between two variables.\n",
    "It's values can be between -1 and +1,\n",
    "with +1 showing a total positive linear correlation,\n",
    "-1 showing a total negative linear correlation,\n",
    "and 0 showing no linear correlation.\n",
    "\n",
    "An interactive visualization can be found [here](https://rpsychologist.com/correlation/).\n",
    "\n",
    "NumPy's function `corrcoef()` can be used to calculate Pearson's r.\n",
    "\n",
    "Note: Pandas' `std()` function computes the standard deviation by default with\n",
    "[Bessel's correction](https://en.wikipedia.org/wiki/Bessel%27s_correction).\n",
    "This can be avoided by using `std(ddof=0)`."
   ]
  },
  {
   "cell_type": "markdown",
   "metadata": {
    "pycharm": {
     "name": "#%% md\n"
    }
   },
   "source": [
    "Now we want to compute the correlation between some variables in the NYC subway data."
   ]
  },
  {
   "cell_type": "code",
   "execution_count": 20,
   "metadata": {
    "pycharm": {
     "name": "#%%\n"
    }
   },
   "outputs": [
    {
     "name": "stdout",
     "output_type": "stream",
     "text": [
      "Correlation between hourly entries and rain: 0.03564851577224401\n",
      "Correlation between hourly entries and temperature: -0.026693348321570828\n",
      "Correlation between rain and temperature: -0.2290343234084345\n",
      "Correlation between hourly entries and cumulative entries: 0.585895470766208\n"
     ]
    }
   ],
   "source": [
    "def correlation(x: pd.Series, y: pd.Series):\n",
    "    corr_matrix = np.corrcoef([x.values, y.values])\n",
    "    return corr_matrix[1, 0]\n",
    "\n",
    "def standardize_series(a: pd.Series) -> pd.Series:\n",
    "    \"\"\"\n",
    "    :param a: Series of values\n",
    "    :return: standardized series of values, where each value is represented by its standard score\n",
    "    (number of standard deviations from the mean).\n",
    "    \"\"\"\n",
    "    return (a - a.mean()) / a.std(ddof=0)\n",
    "\n",
    "def correlation_without_lib_function(x: pd.Series, y: pd.Series):\n",
    "    \"\"\"Sample solution without using corrcoef\"\"\"\n",
    "    x_std = standardize_series(x)\n",
    "    y_std = standardize_series(y)\n",
    "    return (x_std * y_std).mean()\n",
    "\n",
    "def print_subway_correlations():\n",
    "    entries_hourly = subway_df[Col.entries_hourly]\n",
    "    entries_cumulative = subway_df[Col.entries]\n",
    "    rain = subway_df[Col.meanprecipi]\n",
    "    temp = subway_df[Col.meantempi]\n",
    "\n",
    "    print(\"Correlation between hourly entries and rain:\", correlation(entries_hourly, rain))\n",
    "    print(\"Correlation between hourly entries and temperature:\", correlation(entries_hourly, temp))\n",
    "    print(\"Correlation between rain and temperature:\", correlation(rain, temp))\n",
    "    print(\"Correlation between hourly entries and cumulative entries:\", correlation(entries_hourly, entries_cumulative))\n",
    "\n",
    "print_subway_correlations()"
   ]
  },
  {
   "cell_type": "markdown",
   "metadata": {
    "pycharm": {
     "name": "#%% md\n"
    }
   },
   "source": [
    "## DataFrame vectorized operations\n",
    "\n",
    "Similarly to Pandas series, data frames can be used with vectorized operations."
   ]
  },
  {
   "cell_type": "code",
   "execution_count": 21,
   "metadata": {
    "pycharm": {
     "name": "#%%\n"
    }
   },
   "outputs": [
    {
     "name": "stdout",
     "output_type": "stream",
     "text": [
      "<IntegerArray>\n",
      "[1, 2, 3, 4]\n",
      "Length: 4, dtype: Int64 <IntegerArray>\n",
      "[10, 20, 30, 40]\n",
      "Length: 4, dtype: Int64 <IntegerArray>\n",
      "[2, 3, 4, 5]\n",
      "Length: 4, dtype: Int64 <IntegerArray>\n",
      "[20, 30, 40, 50]\n",
      "Length: 4, dtype: Int64 <IntegerArray>\n",
      "[3, 4, 5, 6]\n",
      "Length: 4, dtype: Int64 <IntegerArray>\n",
      "[30, 40, 50, 60]\n",
      "Length: 4, dtype: Int64 <IntegerArray>\n",
      "[4, 5, 6, 7]\n",
      "Length: 4, dtype: Int64 <IntegerArray>\n",
      "[40, 50, 60, 70]\n",
      "Length: 4, dtype: Int64\n"
     ]
    }
   ],
   "source": [
    "a1 = pd.array([1, 2, 3, 4])\n",
    "a2 = a1 * 10\n",
    "b1 = pd.array([2, 3, 4, 5])\n",
    "b2 = b1 * 10\n",
    "c1 = pd.array([3, 4, 5, 6])\n",
    "c2 = c1 * 10\n",
    "d1 = pd.array([4, 5, 6, 7])\n",
    "d2 = d1 * 10\n",
    "\n",
    "print(a1, a2, b1, b2, c1, c2, d1, d2)"
   ]
  },
  {
   "cell_type": "markdown",
   "metadata": {},
   "source": [
    "Adding data frames with same indexes."
   ]
  },
  {
   "cell_type": "code",
   "execution_count": 22,
   "metadata": {
    "pycharm": {
     "name": "#%%\n"
    }
   },
   "outputs": [
    {
     "data": {
      "text/plain": "    a   b   c\n0  11  22  33\n1  22  33  44\n2  33  44  55\n3  44  55  66",
      "text/html": "<div>\n<style scoped>\n    .dataframe tbody tr th:only-of-type {\n        vertical-align: middle;\n    }\n\n    .dataframe tbody tr th {\n        vertical-align: top;\n    }\n\n    .dataframe thead th {\n        text-align: right;\n    }\n</style>\n<table border=\"1\" class=\"dataframe\">\n  <thead>\n    <tr style=\"text-align: right;\">\n      <th></th>\n      <th>a</th>\n      <th>b</th>\n      <th>c</th>\n    </tr>\n  </thead>\n  <tbody>\n    <tr>\n      <th>0</th>\n      <td>11</td>\n      <td>22</td>\n      <td>33</td>\n    </tr>\n    <tr>\n      <th>1</th>\n      <td>22</td>\n      <td>33</td>\n      <td>44</td>\n    </tr>\n    <tr>\n      <th>2</th>\n      <td>33</td>\n      <td>44</td>\n      <td>55</td>\n    </tr>\n    <tr>\n      <th>3</th>\n      <td>44</td>\n      <td>55</td>\n      <td>66</td>\n    </tr>\n  </tbody>\n</table>\n</div>"
     },
     "execution_count": 22,
     "metadata": {},
     "output_type": "execute_result"
    }
   ],
   "source": [
    "df1 = pd.DataFrame({'a': a1, 'b': b1, 'c': c1})\n",
    "df2 = pd.DataFrame({'a': a2, 'b': b2, 'c': c2})\n",
    "df1 + df2"
   ]
  },
  {
   "cell_type": "markdown",
   "metadata": {},
   "source": [
    "Adding data frames with same index keys assigned to different values."
   ]
  },
  {
   "cell_type": "code",
   "execution_count": 23,
   "metadata": {
    "pycharm": {
     "name": "#%%\n"
    }
   },
   "outputs": [
    {
     "data": {
      "text/plain": "    a   b   c\n0  21  12  33\n1  32  23  44\n2  43  34  55\n3  54  45  66",
      "text/html": "<div>\n<style scoped>\n    .dataframe tbody tr th:only-of-type {\n        vertical-align: middle;\n    }\n\n    .dataframe tbody tr th {\n        vertical-align: top;\n    }\n\n    .dataframe thead th {\n        text-align: right;\n    }\n</style>\n<table border=\"1\" class=\"dataframe\">\n  <thead>\n    <tr style=\"text-align: right;\">\n      <th></th>\n      <th>a</th>\n      <th>b</th>\n      <th>c</th>\n    </tr>\n  </thead>\n  <tbody>\n    <tr>\n      <th>0</th>\n      <td>21</td>\n      <td>12</td>\n      <td>33</td>\n    </tr>\n    <tr>\n      <th>1</th>\n      <td>32</td>\n      <td>23</td>\n      <td>44</td>\n    </tr>\n    <tr>\n      <th>2</th>\n      <td>43</td>\n      <td>34</td>\n      <td>55</td>\n    </tr>\n    <tr>\n      <th>3</th>\n      <td>54</td>\n      <td>45</td>\n      <td>66</td>\n    </tr>\n  </tbody>\n</table>\n</div>"
     },
     "execution_count": 23,
     "metadata": {},
     "output_type": "execute_result"
    }
   ],
   "source": [
    "df1 = pd.DataFrame({'a': a1, 'b': b1, 'c': c1})\n",
    "df2 = pd.DataFrame({'b': a2, 'a': b2, 'c': c2})\n",
    "df1 + df2"
   ]
  },
  {
   "cell_type": "markdown",
   "metadata": {},
   "source": [
    "Adding data frames with partially overlapping indexes."
   ]
  },
  {
   "cell_type": "code",
   "execution_count": 24,
   "metadata": {
    "pycharm": {
     "name": "#%%\n"
    }
   },
   "outputs": [
    {
     "data": {
      "text/plain": "    a   b   c   d\n0 NaN  22  33 NaN\n1 NaN  33  44 NaN\n2 NaN  44  55 NaN\n3 NaN  55  66 NaN",
      "text/html": "<div>\n<style scoped>\n    .dataframe tbody tr th:only-of-type {\n        vertical-align: middle;\n    }\n\n    .dataframe tbody tr th {\n        vertical-align: top;\n    }\n\n    .dataframe thead th {\n        text-align: right;\n    }\n</style>\n<table border=\"1\" class=\"dataframe\">\n  <thead>\n    <tr style=\"text-align: right;\">\n      <th></th>\n      <th>a</th>\n      <th>b</th>\n      <th>c</th>\n      <th>d</th>\n    </tr>\n  </thead>\n  <tbody>\n    <tr>\n      <th>0</th>\n      <td>NaN</td>\n      <td>22</td>\n      <td>33</td>\n      <td>NaN</td>\n    </tr>\n    <tr>\n      <th>1</th>\n      <td>NaN</td>\n      <td>33</td>\n      <td>44</td>\n      <td>NaN</td>\n    </tr>\n    <tr>\n      <th>2</th>\n      <td>NaN</td>\n      <td>44</td>\n      <td>55</td>\n      <td>NaN</td>\n    </tr>\n    <tr>\n      <th>3</th>\n      <td>NaN</td>\n      <td>55</td>\n      <td>66</td>\n      <td>NaN</td>\n    </tr>\n  </tbody>\n</table>\n</div>"
     },
     "execution_count": 24,
     "metadata": {},
     "output_type": "execute_result"
    }
   ],
   "source": [
    "df1 = pd.DataFrame({'a': a1, 'b': b1, 'c': c1})\n",
    "df2 = pd.DataFrame({'b': b2, 'c': c2, 'd': d2})\n",
    "df1 + df2"
   ]
  },
  {
   "cell_type": "markdown",
   "metadata": {},
   "source": [
    "Adding data frames with disjunct indexes."
   ]
  },
  {
   "cell_type": "code",
   "execution_count": 25,
   "metadata": {
    "pycharm": {
     "name": "#%%\n"
    }
   },
   "outputs": [
    {
     "data": {
      "text/plain": "    a   b   c   d   e   f\n0 NaN NaN NaN NaN NaN NaN\n1 NaN NaN NaN NaN NaN NaN\n2 NaN NaN NaN NaN NaN NaN\n3 NaN NaN NaN NaN NaN NaN",
      "text/html": "<div>\n<style scoped>\n    .dataframe tbody tr th:only-of-type {\n        vertical-align: middle;\n    }\n\n    .dataframe tbody tr th {\n        vertical-align: top;\n    }\n\n    .dataframe thead th {\n        text-align: right;\n    }\n</style>\n<table border=\"1\" class=\"dataframe\">\n  <thead>\n    <tr style=\"text-align: right;\">\n      <th></th>\n      <th>a</th>\n      <th>b</th>\n      <th>c</th>\n      <th>d</th>\n      <th>e</th>\n      <th>f</th>\n    </tr>\n  </thead>\n  <tbody>\n    <tr>\n      <th>0</th>\n      <td>NaN</td>\n      <td>NaN</td>\n      <td>NaN</td>\n      <td>NaN</td>\n      <td>NaN</td>\n      <td>NaN</td>\n    </tr>\n    <tr>\n      <th>1</th>\n      <td>NaN</td>\n      <td>NaN</td>\n      <td>NaN</td>\n      <td>NaN</td>\n      <td>NaN</td>\n      <td>NaN</td>\n    </tr>\n    <tr>\n      <th>2</th>\n      <td>NaN</td>\n      <td>NaN</td>\n      <td>NaN</td>\n      <td>NaN</td>\n      <td>NaN</td>\n      <td>NaN</td>\n    </tr>\n    <tr>\n      <th>3</th>\n      <td>NaN</td>\n      <td>NaN</td>\n      <td>NaN</td>\n      <td>NaN</td>\n      <td>NaN</td>\n      <td>NaN</td>\n    </tr>\n  </tbody>\n</table>\n</div>"
     },
     "execution_count": 25,
     "metadata": {},
     "output_type": "execute_result"
    }
   ],
   "source": [
    "df1 = pd.DataFrame({'a': a1, 'b': b1, 'c': c1})\n",
    "df2 = pd.DataFrame({'d': b2, 'e': c2, 'f': d2})\n",
    "df1 + df2"
   ]
  },
  {
   "cell_type": "markdown",
   "metadata": {
    "pycharm": {
     "name": "#%% md\n"
    }
   },
   "source": [
    "## Operations `shift` and `diff`"
   ]
  },
  {
   "cell_type": "markdown",
   "metadata": {
    "pycharm": {
     "name": "#%% md\n"
    }
   },
   "source": [
    "`shift` moves all rows down by the given number."
   ]
  },
  {
   "cell_type": "code",
   "execution_count": 26,
   "metadata": {
    "pycharm": {
     "name": "#%%\n"
    }
   },
   "outputs": [
    {
     "data": {
      "text/plain": "    a    b  a shift()  b shift()  a shift(2)  b shift(2)\n0   1  101        NaN        NaN         NaN         NaN\n1   2  102        1.0      101.0         NaN         NaN\n2   3  103        2.0      102.0         1.0       101.0\n3   4  104        3.0      103.0         2.0       102.0\n4   5  105        4.0      104.0         3.0       103.0\n5   6  106        5.0      105.0         4.0       104.0\n6   7  107        6.0      106.0         5.0       105.0\n7   8  108        7.0      107.0         6.0       106.0\n8   9  109        8.0      108.0         7.0       107.0\n9  10  110        9.0      109.0         8.0       108.0",
      "text/html": "<div>\n<style scoped>\n    .dataframe tbody tr th:only-of-type {\n        vertical-align: middle;\n    }\n\n    .dataframe tbody tr th {\n        vertical-align: top;\n    }\n\n    .dataframe thead th {\n        text-align: right;\n    }\n</style>\n<table border=\"1\" class=\"dataframe\">\n  <thead>\n    <tr style=\"text-align: right;\">\n      <th></th>\n      <th>a</th>\n      <th>b</th>\n      <th>a shift()</th>\n      <th>b shift()</th>\n      <th>a shift(2)</th>\n      <th>b shift(2)</th>\n    </tr>\n  </thead>\n  <tbody>\n    <tr>\n      <th>0</th>\n      <td>1</td>\n      <td>101</td>\n      <td>NaN</td>\n      <td>NaN</td>\n      <td>NaN</td>\n      <td>NaN</td>\n    </tr>\n    <tr>\n      <th>1</th>\n      <td>2</td>\n      <td>102</td>\n      <td>1.0</td>\n      <td>101.0</td>\n      <td>NaN</td>\n      <td>NaN</td>\n    </tr>\n    <tr>\n      <th>2</th>\n      <td>3</td>\n      <td>103</td>\n      <td>2.0</td>\n      <td>102.0</td>\n      <td>1.0</td>\n      <td>101.0</td>\n    </tr>\n    <tr>\n      <th>3</th>\n      <td>4</td>\n      <td>104</td>\n      <td>3.0</td>\n      <td>103.0</td>\n      <td>2.0</td>\n      <td>102.0</td>\n    </tr>\n    <tr>\n      <th>4</th>\n      <td>5</td>\n      <td>105</td>\n      <td>4.0</td>\n      <td>104.0</td>\n      <td>3.0</td>\n      <td>103.0</td>\n    </tr>\n    <tr>\n      <th>5</th>\n      <td>6</td>\n      <td>106</td>\n      <td>5.0</td>\n      <td>105.0</td>\n      <td>4.0</td>\n      <td>104.0</td>\n    </tr>\n    <tr>\n      <th>6</th>\n      <td>7</td>\n      <td>107</td>\n      <td>6.0</td>\n      <td>106.0</td>\n      <td>5.0</td>\n      <td>105.0</td>\n    </tr>\n    <tr>\n      <th>7</th>\n      <td>8</td>\n      <td>108</td>\n      <td>7.0</td>\n      <td>107.0</td>\n      <td>6.0</td>\n      <td>106.0</td>\n    </tr>\n    <tr>\n      <th>8</th>\n      <td>9</td>\n      <td>109</td>\n      <td>8.0</td>\n      <td>108.0</td>\n      <td>7.0</td>\n      <td>107.0</td>\n    </tr>\n    <tr>\n      <th>9</th>\n      <td>10</td>\n      <td>110</td>\n      <td>9.0</td>\n      <td>109.0</td>\n      <td>8.0</td>\n      <td>108.0</td>\n    </tr>\n  </tbody>\n</table>\n</div>"
     },
     "execution_count": 26,
     "metadata": {},
     "output_type": "execute_result"
    }
   ],
   "source": [
    "a1_10 = np.linspace(1, 10, num=10, dtype=int)\n",
    "df = pd.DataFrame({\n",
    "    'a': a1_10,\n",
    "    'b': a1_10 + 100\n",
    "})\n",
    "pd.DataFrame(index=df.index)\\\n",
    "    .join(df)\\\n",
    "    .join(df.shift().rename(columns={'a' : 'a shift()', 'b' : 'b shift()'}))\\\n",
    "    .join(df.shift(2).rename(columns={'a' : 'a shift(2)', 'b' : 'b shift(2)'}))"
   ]
  },
  {
   "cell_type": "markdown",
   "metadata": {},
   "source": [
    "`diff` computes a column of differences between subsequent values"
   ]
  },
  {
   "cell_type": "code",
   "execution_count": 27,
   "metadata": {
    "pycharm": {
     "name": "#%%\n"
    }
   },
   "outputs": [
    {
     "data": {
      "text/plain": "     a  a shift()  a - a.shift()  a diff()\n0    1        NaN            NaN       NaN\n1    4        1.0            3.0       3.0\n2    9        4.0            5.0       5.0\n3   16        9.0            7.0       7.0\n4   25       16.0            9.0       9.0\n5   36       25.0           11.0      11.0\n6   49       36.0           13.0      13.0\n7   64       49.0           15.0      15.0\n8   81       64.0           17.0      17.0\n9  100       81.0           19.0      19.0",
      "text/html": "<div>\n<style scoped>\n    .dataframe tbody tr th:only-of-type {\n        vertical-align: middle;\n    }\n\n    .dataframe tbody tr th {\n        vertical-align: top;\n    }\n\n    .dataframe thead th {\n        text-align: right;\n    }\n</style>\n<table border=\"1\" class=\"dataframe\">\n  <thead>\n    <tr style=\"text-align: right;\">\n      <th></th>\n      <th>a</th>\n      <th>a shift()</th>\n      <th>a - a.shift()</th>\n      <th>a diff()</th>\n    </tr>\n  </thead>\n  <tbody>\n    <tr>\n      <th>0</th>\n      <td>1</td>\n      <td>NaN</td>\n      <td>NaN</td>\n      <td>NaN</td>\n    </tr>\n    <tr>\n      <th>1</th>\n      <td>4</td>\n      <td>1.0</td>\n      <td>3.0</td>\n      <td>3.0</td>\n    </tr>\n    <tr>\n      <th>2</th>\n      <td>9</td>\n      <td>4.0</td>\n      <td>5.0</td>\n      <td>5.0</td>\n    </tr>\n    <tr>\n      <th>3</th>\n      <td>16</td>\n      <td>9.0</td>\n      <td>7.0</td>\n      <td>7.0</td>\n    </tr>\n    <tr>\n      <th>4</th>\n      <td>25</td>\n      <td>16.0</td>\n      <td>9.0</td>\n      <td>9.0</td>\n    </tr>\n    <tr>\n      <th>5</th>\n      <td>36</td>\n      <td>25.0</td>\n      <td>11.0</td>\n      <td>11.0</td>\n    </tr>\n    <tr>\n      <th>6</th>\n      <td>49</td>\n      <td>36.0</td>\n      <td>13.0</td>\n      <td>13.0</td>\n    </tr>\n    <tr>\n      <th>7</th>\n      <td>64</td>\n      <td>49.0</td>\n      <td>15.0</td>\n      <td>15.0</td>\n    </tr>\n    <tr>\n      <th>8</th>\n      <td>81</td>\n      <td>64.0</td>\n      <td>17.0</td>\n      <td>17.0</td>\n    </tr>\n    <tr>\n      <th>9</th>\n      <td>100</td>\n      <td>81.0</td>\n      <td>19.0</td>\n      <td>19.0</td>\n    </tr>\n  </tbody>\n</table>\n</div>"
     },
     "execution_count": 27,
     "metadata": {},
     "output_type": "execute_result"
    }
   ],
   "source": [
    "df = pd.DataFrame({'a': a1_10 * a1_10})\n",
    "pd.DataFrame(index=df.index)\\\n",
    "    .join(df)\\\n",
    "    .join(df.shift().rename(columns={'a' : 'a shift()'}))\\\n",
    "    .join((df - df.shift()).rename(columns={'a' : 'a - a.shift()'}))\\\n",
    "    .join(df.diff().rename(columns={'a' : 'a diff()'}))"
   ]
  },
  {
   "cell_type": "markdown",
   "metadata": {
    "pycharm": {
     "name": "#%% md\n"
    }
   },
   "source": [
    "## DataFrame `applymap()`\n",
    "\n",
    "Like the Series `apply()` function, the DataFrame `applymap()` maps all values of a DataFrame\n",
    "using the provided function."
   ]
  },
  {
   "cell_type": "markdown",
   "metadata": {},
   "source": [
    "Convert numerical grades 0..100 in a data frame to letter grades A..F with `applymap()`."
   ]
  },
  {
   "cell_type": "code",
   "execution_count": 28,
   "metadata": {
    "pycharm": {
     "name": "#%%\n"
    }
   },
   "outputs": [
    {
     "data": {
      "text/plain": "        exam1 exam2\nAndre       F     F\nBarry       B     D\nChris       C     F\nDan         C     F\nEmilio      B     D\nFred        C     F\nGreta       A     C\nHumbert     D     F\nIvan        A     C\nJames       B     D",
      "text/html": "<div>\n<style scoped>\n    .dataframe tbody tr th:only-of-type {\n        vertical-align: middle;\n    }\n\n    .dataframe tbody tr th {\n        vertical-align: top;\n    }\n\n    .dataframe thead th {\n        text-align: right;\n    }\n</style>\n<table border=\"1\" class=\"dataframe\">\n  <thead>\n    <tr style=\"text-align: right;\">\n      <th></th>\n      <th>exam1</th>\n      <th>exam2</th>\n    </tr>\n  </thead>\n  <tbody>\n    <tr>\n      <th>Andre</th>\n      <td>F</td>\n      <td>F</td>\n    </tr>\n    <tr>\n      <th>Barry</th>\n      <td>B</td>\n      <td>D</td>\n    </tr>\n    <tr>\n      <th>Chris</th>\n      <td>C</td>\n      <td>F</td>\n    </tr>\n    <tr>\n      <th>Dan</th>\n      <td>C</td>\n      <td>F</td>\n    </tr>\n    <tr>\n      <th>Emilio</th>\n      <td>B</td>\n      <td>D</td>\n    </tr>\n    <tr>\n      <th>Fred</th>\n      <td>C</td>\n      <td>F</td>\n    </tr>\n    <tr>\n      <th>Greta</th>\n      <td>A</td>\n      <td>C</td>\n    </tr>\n    <tr>\n      <th>Humbert</th>\n      <td>D</td>\n      <td>F</td>\n    </tr>\n    <tr>\n      <th>Ivan</th>\n      <td>A</td>\n      <td>C</td>\n    </tr>\n    <tr>\n      <th>James</th>\n      <td>B</td>\n      <td>D</td>\n    </tr>\n  </tbody>\n</table>\n</div>"
     },
     "execution_count": 28,
     "metadata": {},
     "output_type": "execute_result"
    }
   ],
   "source": [
    "grades_df = pd.DataFrame(\n",
    "    data={'exam1': [43, 81, 78, 75, 89, 70, 91, 65, 98, 87],\n",
    "          'exam2': [24, 63, 56, 56, 67, 51, 79, 46, 72, 60]},\n",
    "    index=['Andre', 'Barry', 'Chris', 'Dan', 'Emilio',\n",
    "           'Fred', 'Greta', 'Humbert', 'Ivan', 'James'])\n",
    "\n",
    "\n",
    "def convert_grade(grade: int) -> str:\n",
    "    \"\"\"\n",
    "    Converts a numerical grade to a letter grade by the following rule:\n",
    "        90-100 -> A\n",
    "        80-89  -> B\n",
    "        70-79  -> C\n",
    "        60-69  -> D\n",
    "        0-59   -> F\n",
    "\n",
    "    :param grade: numerical grade 0..100\n",
    "    :return: corresponding letter grade A..F\n",
    "    \"\"\"\n",
    "    return 'F' if grade < 60 \\\n",
    "      else 'D' if grade < 70 \\\n",
    "      else 'C' if grade < 80 \\\n",
    "      else 'B' if grade < 90 \\\n",
    "      else 'A'\n",
    "\n",
    "def convert_grades(grades: pd.DataFrame):\n",
    "    \"\"\"\n",
    "    Converts integer grades 0..100 in the given data frame to letter grades A..F.\n",
    "\n",
    "    :param grades: data frame containing the grades 0..100.\n",
    "    :return: a data frame with grades converted to letters A..F.\n",
    "    \"\"\"\n",
    "    return grades.applymap(convert_grade)\n",
    "\n",
    "convert_grades(grades_df)"
   ]
  },
  {
   "cell_type": "markdown",
   "metadata": {
    "pycharm": {
     "name": "#%% md\n"
    }
   },
   "source": [
    "## DataFrame `apply()`\n",
    "\n",
    "The data frame `apply()` function maps each Series (row or column, depending on the axis parameter)\n",
    "using the provided function."
   ]
  },
  {
   "cell_type": "markdown",
   "metadata": {},
   "source": [
    "Standardize each column of the given data frame."
   ]
  },
  {
   "cell_type": "code",
   "execution_count": 29,
   "metadata": {
    "pycharm": {
     "name": "#%%\n"
    }
   },
   "outputs": [
    {
     "data": {
      "text/plain": "            exam1     exam2\nAndre   -2.315341 -2.304599\nBarry    0.220191  0.386400\nChris    0.020017 -0.096600\nDan     -0.180156 -0.096600\nEmilio   0.753987  0.662400\nFred    -0.513779 -0.441600\nGreta    0.887436  1.490400\nHumbert -0.847401 -0.786600\nIvan     1.354508  1.007400\nJames    0.620538  0.179400",
      "text/html": "<div>\n<style scoped>\n    .dataframe tbody tr th:only-of-type {\n        vertical-align: middle;\n    }\n\n    .dataframe tbody tr th {\n        vertical-align: top;\n    }\n\n    .dataframe thead th {\n        text-align: right;\n    }\n</style>\n<table border=\"1\" class=\"dataframe\">\n  <thead>\n    <tr style=\"text-align: right;\">\n      <th></th>\n      <th>exam1</th>\n      <th>exam2</th>\n    </tr>\n  </thead>\n  <tbody>\n    <tr>\n      <th>Andre</th>\n      <td>-2.315341</td>\n      <td>-2.304599</td>\n    </tr>\n    <tr>\n      <th>Barry</th>\n      <td>0.220191</td>\n      <td>0.386400</td>\n    </tr>\n    <tr>\n      <th>Chris</th>\n      <td>0.020017</td>\n      <td>-0.096600</td>\n    </tr>\n    <tr>\n      <th>Dan</th>\n      <td>-0.180156</td>\n      <td>-0.096600</td>\n    </tr>\n    <tr>\n      <th>Emilio</th>\n      <td>0.753987</td>\n      <td>0.662400</td>\n    </tr>\n    <tr>\n      <th>Fred</th>\n      <td>-0.513779</td>\n      <td>-0.441600</td>\n    </tr>\n    <tr>\n      <th>Greta</th>\n      <td>0.887436</td>\n      <td>1.490400</td>\n    </tr>\n    <tr>\n      <th>Humbert</th>\n      <td>-0.847401</td>\n      <td>-0.786600</td>\n    </tr>\n    <tr>\n      <th>Ivan</th>\n      <td>1.354508</td>\n      <td>1.007400</td>\n    </tr>\n    <tr>\n      <th>James</th>\n      <td>0.620538</td>\n      <td>0.179400</td>\n    </tr>\n  </tbody>\n</table>\n</div>"
     },
     "execution_count": 29,
     "metadata": {},
     "output_type": "execute_result"
    }
   ],
   "source": [
    "def standardize(df: pd.DataFrame):\n",
    "    \"\"\"\n",
    "    Returns a data frame with standardized columns, i.e.,\n",
    "    each value in a column is represented by its standard score (number of standard deviations from the mean).\n",
    "    \"\"\"\n",
    "    def standardize_series(a: pd.Series):\n",
    "        return (a - a.mean()) / a.std(ddof=0)\n",
    "\n",
    "    return df.apply(standardize_series)\n",
    "\n",
    "standardize(grades_df)"
   ]
  },
  {
   "cell_type": "markdown",
   "metadata": {},
   "source": [
    "`DataFrame.apply()` can also be used to map each column to a single value,\n",
    "thus converting a data frame to a series."
   ]
  },
  {
   "cell_type": "code",
   "execution_count": 30,
   "metadata": {
    "pycharm": {
     "name": "#%%\n"
    }
   },
   "outputs": [
    {
     "data": {
      "text/plain": "exam1    91\nexam2    72\ndtype: int64"
     },
     "execution_count": 30,
     "metadata": {},
     "output_type": "execute_result"
    }
   ],
   "source": [
    "def second_largest_in_series(a: pd.Series):\n",
    "    \"\"\"\n",
    "    :return: The 2nd largest element in the given series if it has at least 2 elements.\n",
    "    \"\"\"\n",
    "    if len(a) < 2: return None\n",
    "    max = None\n",
    "    max2 = None\n",
    "    for n in a.values:\n",
    "        if max is None or max < n:\n",
    "            max2 = max\n",
    "            max = n\n",
    "        elif max2 is None or max2 < n:\n",
    "            max2 = n\n",
    "\n",
    "    return max2\n",
    "\n",
    "def second_largest(df: pd.DataFrame):\n",
    "    \"\"\"\n",
    "    :return: A Series containing the 2nd largest value of each column in the data frame.\n",
    "    \"\"\"\n",
    "    return df.apply(second_largest_in_series)\n",
    "\n",
    "second_largest(grades_df)"
   ]
  },
  {
   "cell_type": "markdown",
   "metadata": {
    "pycharm": {
     "name": "#%% md\n"
    }
   },
   "source": [
    "## Adding a Series to a DataFrame\n",
    "\n",
    "Adding a series to a data frame means that all values in a column `X`\n",
    "will be added the series value with index `X`.\n",
    "Values from the data frame and the series that have no counterpart with same index, will result in missing values."
   ]
  },
  {
   "cell_type": "code",
   "execution_count": 31,
   "metadata": {
    "pycharm": {
     "name": "#%%\n"
    }
   },
   "outputs": [
    {
     "data": {
      "text/plain": "   a1  a2   a3    a4\n0   1  10  100  1000\n1   2  20  200  2000\n2   3  30  300  3000\n3   4  40  400  4000",
      "text/html": "<div>\n<style scoped>\n    .dataframe tbody tr th:only-of-type {\n        vertical-align: middle;\n    }\n\n    .dataframe tbody tr th {\n        vertical-align: top;\n    }\n\n    .dataframe thead th {\n        text-align: right;\n    }\n</style>\n<table border=\"1\" class=\"dataframe\">\n  <thead>\n    <tr style=\"text-align: right;\">\n      <th></th>\n      <th>a1</th>\n      <th>a2</th>\n      <th>a3</th>\n      <th>a4</th>\n    </tr>\n  </thead>\n  <tbody>\n    <tr>\n      <th>0</th>\n      <td>1</td>\n      <td>10</td>\n      <td>100</td>\n      <td>1000</td>\n    </tr>\n    <tr>\n      <th>1</th>\n      <td>2</td>\n      <td>20</td>\n      <td>200</td>\n      <td>2000</td>\n    </tr>\n    <tr>\n      <th>2</th>\n      <td>3</td>\n      <td>30</td>\n      <td>300</td>\n      <td>3000</td>\n    </tr>\n    <tr>\n      <th>3</th>\n      <td>4</td>\n      <td>40</td>\n      <td>400</td>\n      <td>4000</td>\n    </tr>\n  </tbody>\n</table>\n</div>"
     },
     "execution_count": 31,
     "metadata": {},
     "output_type": "execute_result"
    }
   ],
   "source": [
    "a1 = pd.Series([1, 2, 3, 4])\n",
    "a2 = a1 * 10\n",
    "a3 = a1 * 100\n",
    "a4 = a1 * 1000\n",
    "\n",
    "df = pd.DataFrame({'a1': a1, 'a2': a2, 'a3': a3, 'a4': a4})\n",
    "df"
   ]
  },
  {
   "cell_type": "code",
   "execution_count": 32,
   "metadata": {
    "pycharm": {
     "name": "#%%\n"
    }
   },
   "outputs": [
    {
     "data": {
      "text/plain": "           a1         a2         a3         a4         a5\ns3  1000000.0  2000000.0  3000000.0        NaN        NaN\ns4  1000000.0  2000000.0  3000000.0  4000000.0        NaN\ns5  1000000.0  2000000.0  3000000.0  4000000.0  5000000.0",
      "text/html": "<div>\n<style scoped>\n    .dataframe tbody tr th:only-of-type {\n        vertical-align: middle;\n    }\n\n    .dataframe tbody tr th {\n        vertical-align: top;\n    }\n\n    .dataframe thead th {\n        text-align: right;\n    }\n</style>\n<table border=\"1\" class=\"dataframe\">\n  <thead>\n    <tr style=\"text-align: right;\">\n      <th></th>\n      <th>a1</th>\n      <th>a2</th>\n      <th>a3</th>\n      <th>a4</th>\n      <th>a5</th>\n    </tr>\n  </thead>\n  <tbody>\n    <tr>\n      <th>s3</th>\n      <td>1000000.0</td>\n      <td>2000000.0</td>\n      <td>3000000.0</td>\n      <td>NaN</td>\n      <td>NaN</td>\n    </tr>\n    <tr>\n      <th>s4</th>\n      <td>1000000.0</td>\n      <td>2000000.0</td>\n      <td>3000000.0</td>\n      <td>4000000.0</td>\n      <td>NaN</td>\n    </tr>\n    <tr>\n      <th>s5</th>\n      <td>1000000.0</td>\n      <td>2000000.0</td>\n      <td>3000000.0</td>\n      <td>4000000.0</td>\n      <td>5000000.0</td>\n    </tr>\n  </tbody>\n</table>\n</div>"
     },
     "execution_count": 32,
     "metadata": {},
     "output_type": "execute_result"
    }
   ],
   "source": [
    "s3 = pd.Series([1, 2, 3], index=['a1', 'a2', 'a3']) * 1000000\n",
    "s4 = pd.Series([1, 2, 3, 4], index=['a1', 'a2', 'a3', 'a4']) * 1000000\n",
    "s5 = pd.Series([1, 2, 3, 4, 5], index=['a1', 'a2', 'a3', 'a4', 'a5']) * 1000000\n",
    "\n",
    "pd.DataFrame([s3, s4, s5], index=['s3', 's4', 's5'])"
   ]
  },
  {
   "cell_type": "markdown",
   "metadata": {
    "pycharm": {
     "name": "#%% md\n"
    }
   },
   "source": [
    "Adding a series with one index key less than in the data frame."
   ]
  },
  {
   "cell_type": "code",
   "execution_count": 33,
   "metadata": {
    "pycharm": {
     "name": "#%%\n"
    }
   },
   "outputs": [
    {
     "data": {
      "text/plain": "          a1         a2         a3  a4\n0  1000001.0  2000010.0  3000100.0 NaN\n1  1000002.0  2000020.0  3000200.0 NaN\n2  1000003.0  2000030.0  3000300.0 NaN\n3  1000004.0  2000040.0  3000400.0 NaN",
      "text/html": "<div>\n<style scoped>\n    .dataframe tbody tr th:only-of-type {\n        vertical-align: middle;\n    }\n\n    .dataframe tbody tr th {\n        vertical-align: top;\n    }\n\n    .dataframe thead th {\n        text-align: right;\n    }\n</style>\n<table border=\"1\" class=\"dataframe\">\n  <thead>\n    <tr style=\"text-align: right;\">\n      <th></th>\n      <th>a1</th>\n      <th>a2</th>\n      <th>a3</th>\n      <th>a4</th>\n    </tr>\n  </thead>\n  <tbody>\n    <tr>\n      <th>0</th>\n      <td>1000001.0</td>\n      <td>2000010.0</td>\n      <td>3000100.0</td>\n      <td>NaN</td>\n    </tr>\n    <tr>\n      <th>1</th>\n      <td>1000002.0</td>\n      <td>2000020.0</td>\n      <td>3000200.0</td>\n      <td>NaN</td>\n    </tr>\n    <tr>\n      <th>2</th>\n      <td>1000003.0</td>\n      <td>2000030.0</td>\n      <td>3000300.0</td>\n      <td>NaN</td>\n    </tr>\n    <tr>\n      <th>3</th>\n      <td>1000004.0</td>\n      <td>2000040.0</td>\n      <td>3000400.0</td>\n      <td>NaN</td>\n    </tr>\n  </tbody>\n</table>\n</div>"
     },
     "execution_count": 33,
     "metadata": {},
     "output_type": "execute_result"
    }
   ],
   "source": [
    "df + s3"
   ]
  },
  {
   "cell_type": "markdown",
   "metadata": {},
   "source": [
    "Adding a series with same index as the data frame."
   ]
  },
  {
   "cell_type": "code",
   "execution_count": 34,
   "metadata": {
    "pycharm": {
     "name": "#%%\n"
    }
   },
   "outputs": [
    {
     "data": {
      "text/plain": "        a1       a2       a3       a4\n0  1000001  2000010  3000100  4001000\n1  1000002  2000020  3000200  4002000\n2  1000003  2000030  3000300  4003000\n3  1000004  2000040  3000400  4004000",
      "text/html": "<div>\n<style scoped>\n    .dataframe tbody tr th:only-of-type {\n        vertical-align: middle;\n    }\n\n    .dataframe tbody tr th {\n        vertical-align: top;\n    }\n\n    .dataframe thead th {\n        text-align: right;\n    }\n</style>\n<table border=\"1\" class=\"dataframe\">\n  <thead>\n    <tr style=\"text-align: right;\">\n      <th></th>\n      <th>a1</th>\n      <th>a2</th>\n      <th>a3</th>\n      <th>a4</th>\n    </tr>\n  </thead>\n  <tbody>\n    <tr>\n      <th>0</th>\n      <td>1000001</td>\n      <td>2000010</td>\n      <td>3000100</td>\n      <td>4001000</td>\n    </tr>\n    <tr>\n      <th>1</th>\n      <td>1000002</td>\n      <td>2000020</td>\n      <td>3000200</td>\n      <td>4002000</td>\n    </tr>\n    <tr>\n      <th>2</th>\n      <td>1000003</td>\n      <td>2000030</td>\n      <td>3000300</td>\n      <td>4003000</td>\n    </tr>\n    <tr>\n      <th>3</th>\n      <td>1000004</td>\n      <td>2000040</td>\n      <td>3000400</td>\n      <td>4004000</td>\n    </tr>\n  </tbody>\n</table>\n</div>"
     },
     "execution_count": 34,
     "metadata": {},
     "output_type": "execute_result"
    }
   ],
   "source": [
    "df + s4"
   ]
  },
  {
   "cell_type": "markdown",
   "metadata": {},
   "source": [
    "Adding a series with one index key more than in the data frame."
   ]
  },
  {
   "cell_type": "code",
   "execution_count": 35,
   "metadata": {
    "pycharm": {
     "name": "#%%\n"
    }
   },
   "outputs": [
    {
     "data": {
      "text/plain": "        a1       a2       a3       a4  a5\n0  1000001  2000010  3000100  4001000 NaN\n1  1000002  2000020  3000200  4002000 NaN\n2  1000003  2000030  3000300  4003000 NaN\n3  1000004  2000040  3000400  4004000 NaN",
      "text/html": "<div>\n<style scoped>\n    .dataframe tbody tr th:only-of-type {\n        vertical-align: middle;\n    }\n\n    .dataframe tbody tr th {\n        vertical-align: top;\n    }\n\n    .dataframe thead th {\n        text-align: right;\n    }\n</style>\n<table border=\"1\" class=\"dataframe\">\n  <thead>\n    <tr style=\"text-align: right;\">\n      <th></th>\n      <th>a1</th>\n      <th>a2</th>\n      <th>a3</th>\n      <th>a4</th>\n      <th>a5</th>\n    </tr>\n  </thead>\n  <tbody>\n    <tr>\n      <th>0</th>\n      <td>1000001</td>\n      <td>2000010</td>\n      <td>3000100</td>\n      <td>4001000</td>\n      <td>NaN</td>\n    </tr>\n    <tr>\n      <th>1</th>\n      <td>1000002</td>\n      <td>2000020</td>\n      <td>3000200</td>\n      <td>4002000</td>\n      <td>NaN</td>\n    </tr>\n    <tr>\n      <th>2</th>\n      <td>1000003</td>\n      <td>2000030</td>\n      <td>3000300</td>\n      <td>4003000</td>\n      <td>NaN</td>\n    </tr>\n    <tr>\n      <th>3</th>\n      <td>1000004</td>\n      <td>2000040</td>\n      <td>3000400</td>\n      <td>4004000</td>\n      <td>NaN</td>\n    </tr>\n  </tbody>\n</table>\n</div>"
     },
     "execution_count": 35,
     "metadata": {},
     "output_type": "execute_result"
    }
   ],
   "source": [
    "df + s5"
   ]
  },
  {
   "cell_type": "markdown",
   "metadata": {},
   "source": [
    "Adding a series to a data frames is a shortcut for calling the `DataFrame.add()` function.\n",
    "Here, we use the example of a one-row data frame."
   ]
  },
  {
   "cell_type": "code",
   "execution_count": 36,
   "metadata": {
    "pycharm": {
     "name": "#%%\n"
    }
   },
   "outputs": [
    {
     "data": {
      "text/plain": "   a  b  c  d\n0  1  2  3  4",
      "text/html": "<div>\n<style scoped>\n    .dataframe tbody tr th:only-of-type {\n        vertical-align: middle;\n    }\n\n    .dataframe tbody tr th {\n        vertical-align: top;\n    }\n\n    .dataframe thead th {\n        text-align: right;\n    }\n</style>\n<table border=\"1\" class=\"dataframe\">\n  <thead>\n    <tr style=\"text-align: right;\">\n      <th></th>\n      <th>a</th>\n      <th>b</th>\n      <th>c</th>\n      <th>d</th>\n    </tr>\n  </thead>\n  <tbody>\n    <tr>\n      <th>0</th>\n      <td>1</td>\n      <td>2</td>\n      <td>3</td>\n      <td>4</td>\n    </tr>\n  </tbody>\n</table>\n</div>"
     },
     "execution_count": 36,
     "metadata": {},
     "output_type": "execute_result"
    }
   ],
   "source": [
    "df = pd.DataFrame({'a': [1], 'b': [2], 'c': [3], 'd': [4]})\n",
    "s = pd.Series([1000, 2000, 3000, 4000], index=['a', 'b', 'c', 'd'])\n",
    "\n",
    "df"
   ]
  },
  {
   "cell_type": "markdown",
   "metadata": {
    "pycharm": {
     "name": "#%% md\n"
    }
   },
   "source": [
    "Using `+` has the same result as calling `add()` with `axis='columns'`."
   ]
  },
  {
   "cell_type": "code",
   "execution_count": 37,
   "metadata": {
    "pycharm": {
     "name": "#%%\n"
    }
   },
   "outputs": [
    {
     "data": {
      "text/plain": "      a     b     c     d\n0  1001  2002  3003  4004",
      "text/html": "<div>\n<style scoped>\n    .dataframe tbody tr th:only-of-type {\n        vertical-align: middle;\n    }\n\n    .dataframe tbody tr th {\n        vertical-align: top;\n    }\n\n    .dataframe thead th {\n        text-align: right;\n    }\n</style>\n<table border=\"1\" class=\"dataframe\">\n  <thead>\n    <tr style=\"text-align: right;\">\n      <th></th>\n      <th>a</th>\n      <th>b</th>\n      <th>c</th>\n      <th>d</th>\n    </tr>\n  </thead>\n  <tbody>\n    <tr>\n      <th>0</th>\n      <td>1001</td>\n      <td>2002</td>\n      <td>3003</td>\n      <td>4004</td>\n    </tr>\n  </tbody>\n</table>\n</div>"
     },
     "execution_count": 37,
     "metadata": {},
     "output_type": "execute_result"
    }
   ],
   "source": [
    "df + s"
   ]
  },
  {
   "cell_type": "code",
   "execution_count": 38,
   "metadata": {
    "pycharm": {
     "name": "#%%\n"
    }
   },
   "outputs": [
    {
     "data": {
      "text/plain": "      a     b     c     d\n0  1001  2002  3003  4004",
      "text/html": "<div>\n<style scoped>\n    .dataframe tbody tr th:only-of-type {\n        vertical-align: middle;\n    }\n\n    .dataframe tbody tr th {\n        vertical-align: top;\n    }\n\n    .dataframe thead th {\n        text-align: right;\n    }\n</style>\n<table border=\"1\" class=\"dataframe\">\n  <thead>\n    <tr style=\"text-align: right;\">\n      <th></th>\n      <th>a</th>\n      <th>b</th>\n      <th>c</th>\n      <th>d</th>\n    </tr>\n  </thead>\n  <tbody>\n    <tr>\n      <th>0</th>\n      <td>1001</td>\n      <td>2002</td>\n      <td>3003</td>\n      <td>4004</td>\n    </tr>\n  </tbody>\n</table>\n</div>"
     },
     "execution_count": 38,
     "metadata": {},
     "output_type": "execute_result"
    }
   ],
   "source": [
    "df.add(s, axis='columns')"
   ]
  },
  {
   "cell_type": "markdown",
   "metadata": {
    "pycharm": {
     "name": "#%% md\n"
    }
   },
   "source": [
    "Calling `add()` with `axis='index'` results in each value from the Series being added\n",
    "to the data frame row with the same index key.\n",
    "\n",
    "Here, only the 1st row has the 1st value from the series added.\n",
    "All other series values produces a `N/A` because there are no corresponding rows with same index key."
   ]
  },
  {
   "cell_type": "code",
   "execution_count": 39,
   "metadata": {
    "pycharm": {
     "name": "#%%\n"
    }
   },
   "outputs": [
    {
     "data": {
      "text/plain": "        a       b       c       d\n0  1001.0  1002.0  1003.0  1004.0\n1     NaN     NaN     NaN     NaN\n2     NaN     NaN     NaN     NaN\n3     NaN     NaN     NaN     NaN",
      "text/html": "<div>\n<style scoped>\n    .dataframe tbody tr th:only-of-type {\n        vertical-align: middle;\n    }\n\n    .dataframe tbody tr th {\n        vertical-align: top;\n    }\n\n    .dataframe thead th {\n        text-align: right;\n    }\n</style>\n<table border=\"1\" class=\"dataframe\">\n  <thead>\n    <tr style=\"text-align: right;\">\n      <th></th>\n      <th>a</th>\n      <th>b</th>\n      <th>c</th>\n      <th>d</th>\n    </tr>\n  </thead>\n  <tbody>\n    <tr>\n      <th>0</th>\n      <td>1001.0</td>\n      <td>1002.0</td>\n      <td>1003.0</td>\n      <td>1004.0</td>\n    </tr>\n    <tr>\n      <th>1</th>\n      <td>NaN</td>\n      <td>NaN</td>\n      <td>NaN</td>\n      <td>NaN</td>\n    </tr>\n    <tr>\n      <th>2</th>\n      <td>NaN</td>\n      <td>NaN</td>\n      <td>NaN</td>\n      <td>NaN</td>\n    </tr>\n    <tr>\n      <th>3</th>\n      <td>NaN</td>\n      <td>NaN</td>\n      <td>NaN</td>\n      <td>NaN</td>\n    </tr>\n  </tbody>\n</table>\n</div>"
     },
     "execution_count": 39,
     "metadata": {},
     "output_type": "execute_result"
    }
   ],
   "source": [
    "df.add(pd.Series([1000, 2000, 3000, 4000], index=[0, 1, 2, 3]), axis='index')"
   ]
  },
  {
   "cell_type": "markdown",
   "metadata": {
    "pycharm": {
     "name": "#%% md\n"
    }
   },
   "source": [
    "## Standardizing DataFrame columns without using `apply()`\n",
    "\n",
    "Standardize DataFrame columns using vectorized operations instead of `apply()`."
   ]
  },
  {
   "cell_type": "code",
   "execution_count": 40,
   "metadata": {
    "pycharm": {
     "name": "#%%\n"
    }
   },
   "outputs": [
    {
     "data": {
      "text/plain": "            exam1     exam2\nAndre   -2.315341 -2.304599\nBarry    0.220191  0.386400\nChris    0.020017 -0.096600\nDan     -0.180156 -0.096600\nEmilio   0.753987  0.662400\nFred    -0.513779 -0.441600\nGreta    0.887436  1.490400\nHumbert -0.847401 -0.786600\nIvan     1.354508  1.007400\nJames    0.620538  0.179400",
      "text/html": "<div>\n<style scoped>\n    .dataframe tbody tr th:only-of-type {\n        vertical-align: middle;\n    }\n\n    .dataframe tbody tr th {\n        vertical-align: top;\n    }\n\n    .dataframe thead th {\n        text-align: right;\n    }\n</style>\n<table border=\"1\" class=\"dataframe\">\n  <thead>\n    <tr style=\"text-align: right;\">\n      <th></th>\n      <th>exam1</th>\n      <th>exam2</th>\n    </tr>\n  </thead>\n  <tbody>\n    <tr>\n      <th>Andre</th>\n      <td>-2.315341</td>\n      <td>-2.304599</td>\n    </tr>\n    <tr>\n      <th>Barry</th>\n      <td>0.220191</td>\n      <td>0.386400</td>\n    </tr>\n    <tr>\n      <th>Chris</th>\n      <td>0.020017</td>\n      <td>-0.096600</td>\n    </tr>\n    <tr>\n      <th>Dan</th>\n      <td>-0.180156</td>\n      <td>-0.096600</td>\n    </tr>\n    <tr>\n      <th>Emilio</th>\n      <td>0.753987</td>\n      <td>0.662400</td>\n    </tr>\n    <tr>\n      <th>Fred</th>\n      <td>-0.513779</td>\n      <td>-0.441600</td>\n    </tr>\n    <tr>\n      <th>Greta</th>\n      <td>0.887436</td>\n      <td>1.490400</td>\n    </tr>\n    <tr>\n      <th>Humbert</th>\n      <td>-0.847401</td>\n      <td>-0.786600</td>\n    </tr>\n    <tr>\n      <th>Ivan</th>\n      <td>1.354508</td>\n      <td>1.007400</td>\n    </tr>\n    <tr>\n      <th>James</th>\n      <td>0.620538</td>\n      <td>0.179400</td>\n    </tr>\n  </tbody>\n</table>\n</div>"
     },
     "execution_count": 40,
     "metadata": {},
     "output_type": "execute_result"
    }
   ],
   "source": [
    "def standardize(df: pd.DataFrame):\n",
    "    \"\"\"\n",
    "    Returns a data frame with standardized columns.\n",
    "    In this version of the function we use vector operations instead of apply().\n",
    "    \"\"\"\n",
    "    return (df - df.mean()) / df.std(ddof=0)\n",
    "\n",
    "standardize(grades_df)"
   ]
  },
  {
   "cell_type": "markdown",
   "metadata": {
    "pycharm": {
     "name": "#%% md\n"
    }
   },
   "source": [
    "Standardize DataFrame rows. Because the default `axis` parameter values produced standardized columns,\n",
    "to standardize rows we need to take the respective other `axis` parameter values."
   ]
  },
  {
   "cell_type": "code",
   "execution_count": 41,
   "metadata": {
    "pycharm": {
     "name": "#%%\n"
    }
   },
   "outputs": [
    {
     "data": {
      "text/plain": "         exam1  exam2\nAndre      1.0   -1.0\nBarry      1.0   -1.0\nChris      1.0   -1.0\nDan        1.0   -1.0\nEmilio     1.0   -1.0\nFred       1.0   -1.0\nGreta      1.0   -1.0\nHumbert    1.0   -1.0\nIvan       1.0   -1.0\nJames      1.0   -1.0",
      "text/html": "<div>\n<style scoped>\n    .dataframe tbody tr th:only-of-type {\n        vertical-align: middle;\n    }\n\n    .dataframe tbody tr th {\n        vertical-align: top;\n    }\n\n    .dataframe thead th {\n        text-align: right;\n    }\n</style>\n<table border=\"1\" class=\"dataframe\">\n  <thead>\n    <tr style=\"text-align: right;\">\n      <th></th>\n      <th>exam1</th>\n      <th>exam2</th>\n    </tr>\n  </thead>\n  <tbody>\n    <tr>\n      <th>Andre</th>\n      <td>1.0</td>\n      <td>-1.0</td>\n    </tr>\n    <tr>\n      <th>Barry</th>\n      <td>1.0</td>\n      <td>-1.0</td>\n    </tr>\n    <tr>\n      <th>Chris</th>\n      <td>1.0</td>\n      <td>-1.0</td>\n    </tr>\n    <tr>\n      <th>Dan</th>\n      <td>1.0</td>\n      <td>-1.0</td>\n    </tr>\n    <tr>\n      <th>Emilio</th>\n      <td>1.0</td>\n      <td>-1.0</td>\n    </tr>\n    <tr>\n      <th>Fred</th>\n      <td>1.0</td>\n      <td>-1.0</td>\n    </tr>\n    <tr>\n      <th>Greta</th>\n      <td>1.0</td>\n      <td>-1.0</td>\n    </tr>\n    <tr>\n      <th>Humbert</th>\n      <td>1.0</td>\n      <td>-1.0</td>\n    </tr>\n    <tr>\n      <th>Ivan</th>\n      <td>1.0</td>\n      <td>-1.0</td>\n    </tr>\n    <tr>\n      <th>James</th>\n      <td>1.0</td>\n      <td>-1.0</td>\n    </tr>\n  </tbody>\n</table>\n</div>"
     },
     "execution_count": 41,
     "metadata": {},
     "output_type": "execute_result"
    }
   ],
   "source": [
    "def standardize_rows(df: pd.DataFrame):\n",
    "    \"\"\" Returns a data frame with standardized rows. \"\"\"\n",
    "    return df.sub(df.mean(axis=1), axis=0).div(df.std(axis=1, ddof=0), axis=0)\n",
    "\n",
    "standardize_rows(grades_df)"
   ]
  },
  {
   "cell_type": "markdown",
   "metadata": {
    "pycharm": {
     "name": "#%% md\n"
    }
   },
   "source": [
    "## Pandas `groupby()`"
   ]
  },
  {
   "cell_type": "markdown",
   "metadata": {
    "pycharm": {
     "name": "#%% md\n"
    }
   },
   "source": [
    "Group by day of week, calculate sum and mean."
   ]
  },
  {
   "cell_type": "code",
   "execution_count": 42,
   "metadata": {
    "pycharm": {
     "name": "#%%\n"
    }
   },
   "outputs": [
    {
     "data": {
      "text/plain": "              ENTRIESn        EXITSn  ENTRIESn_hourly  EXITSn_hourly\nday_week                                                            \n0         199103357736  140651836119       12795107.0      9141366.0\n1         200457948505  141805597794       15246943.0     10830056.0\n2         151265410608  107138032938       12592691.0      8978552.0\n3         152205023293  107472446173       12709142.0      8988618.0\n4         152492053831  107481548577       12411679.0      8835194.0\n5         151994224619  107387994018        7486907.0      5695482.0\n6         191978976179  135495296495        7218706.0      5596828.0",
      "text/html": "<div>\n<style scoped>\n    .dataframe tbody tr th:only-of-type {\n        vertical-align: middle;\n    }\n\n    .dataframe tbody tr th {\n        vertical-align: top;\n    }\n\n    .dataframe thead th {\n        text-align: right;\n    }\n</style>\n<table border=\"1\" class=\"dataframe\">\n  <thead>\n    <tr style=\"text-align: right;\">\n      <th></th>\n      <th>ENTRIESn</th>\n      <th>EXITSn</th>\n      <th>ENTRIESn_hourly</th>\n      <th>EXITSn_hourly</th>\n    </tr>\n    <tr>\n      <th>day_week</th>\n      <th></th>\n      <th></th>\n      <th></th>\n      <th></th>\n    </tr>\n  </thead>\n  <tbody>\n    <tr>\n      <th>0</th>\n      <td>199103357736</td>\n      <td>140651836119</td>\n      <td>12795107.0</td>\n      <td>9141366.0</td>\n    </tr>\n    <tr>\n      <th>1</th>\n      <td>200457948505</td>\n      <td>141805597794</td>\n      <td>15246943.0</td>\n      <td>10830056.0</td>\n    </tr>\n    <tr>\n      <th>2</th>\n      <td>151265410608</td>\n      <td>107138032938</td>\n      <td>12592691.0</td>\n      <td>8978552.0</td>\n    </tr>\n    <tr>\n      <th>3</th>\n      <td>152205023293</td>\n      <td>107472446173</td>\n      <td>12709142.0</td>\n      <td>8988618.0</td>\n    </tr>\n    <tr>\n      <th>4</th>\n      <td>152492053831</td>\n      <td>107481548577</td>\n      <td>12411679.0</td>\n      <td>8835194.0</td>\n    </tr>\n    <tr>\n      <th>5</th>\n      <td>151994224619</td>\n      <td>107387994018</td>\n      <td>7486907.0</td>\n      <td>5695482.0</td>\n    </tr>\n    <tr>\n      <th>6</th>\n      <td>191978976179</td>\n      <td>135495296495</td>\n      <td>7218706.0</td>\n      <td>5596828.0</td>\n    </tr>\n  </tbody>\n</table>\n</div>"
     },
     "execution_count": 42,
     "metadata": {},
     "output_type": "execute_result"
    }
   ],
   "source": [
    "subway_df[[Col.day_week, Col.entries, Col.exits, Col.entries_hourly, Col.exits_hourly]]\\\n",
    "    .groupby(Col.day_week).sum()"
   ]
  },
  {
   "cell_type": "code",
   "execution_count": 43,
   "metadata": {
    "pycharm": {
     "name": "#%%\n"
    }
   },
   "outputs": [
    {
     "data": {
      "text/plain": "              ENTRIESn        EXITSn  ENTRIESn_hourly  EXITSn_hourly  \\\nday_week                                                               \n0         2.840276e+07  2.006446e+07      1825.264907    1304.046505   \n1         2.846201e+07  2.013426e+07      2164.836433    1537.704955   \n2         2.759311e+07  1.954360e+07      2297.097957    1637.824152   \n3         2.774932e+07  1.959388e+07      2317.072379    1638.763537   \n4         2.798019e+07  1.972139e+07      2277.372294    1621.136514   \n5         2.809505e+07  1.984991e+07      1383.901479    1052.769316   \n6         2.836150e+07  2.001703e+07      1066.436106     826.832324   \n\n               hour  weekday   latitude  longitude       fog   precipi  \\\nday_week                                                                 \n0         10.012553      1.0  40.724701 -73.940259  0.000000  0.000595   \n1          9.959392      1.0  40.724725 -73.940213  0.006673  0.014065   \n2         10.059103      1.0  40.724626 -73.940252  0.038672  0.010773   \n3         10.056518      1.0  40.724578 -73.940469  0.004376  0.001696   \n4         10.052110      1.0  40.724469 -73.940258  0.000000  0.000857   \n5         10.107209      0.0  40.724769 -73.940675  0.000000  0.000000   \n6         10.102526      0.0  40.724631 -73.940473  0.020092  0.003055   \n\n          pressurei      rain      tempi     wspdi  meanprecipi  \\\nday_week                                                          \n0         29.993017  0.212268  62.584665  7.934180     0.000595   \n1         29.978990  0.201193  65.760642  8.365128     0.014065   \n2         29.973333  0.499818  61.456348  7.767858     0.010773   \n3         29.976963  0.163537  62.110100  7.552944     0.001696   \n4         29.945215  0.249174  62.636899  4.773413     0.000857   \n5         29.912752  0.061368  64.529593  5.297283     0.000000   \n6         30.001086  0.199882  62.252711  6.241380     0.003055   \n\n          meanpressurei  meantempi  meanwspdi  weather_lat  weather_lon  \nday_week                                                                 \n0             29.993017  62.584665   7.934180    40.728668   -73.938591  \n1             29.978990  65.760642   8.365128    40.728664   -73.938464  \n2             29.973333  61.456348   7.767858    40.728592   -73.938707  \n3             29.976963  62.110100   7.552944    40.728496   -73.938749  \n4             29.945215  62.636899   4.773413    40.728321   -73.938448  \n5             29.912752  64.529593   5.297283    40.728610   -73.939098  \n6             30.001086  62.252711   6.241380    40.728488   -73.938856  ",
      "text/html": "<div>\n<style scoped>\n    .dataframe tbody tr th:only-of-type {\n        vertical-align: middle;\n    }\n\n    .dataframe tbody tr th {\n        vertical-align: top;\n    }\n\n    .dataframe thead th {\n        text-align: right;\n    }\n</style>\n<table border=\"1\" class=\"dataframe\">\n  <thead>\n    <tr style=\"text-align: right;\">\n      <th></th>\n      <th>ENTRIESn</th>\n      <th>EXITSn</th>\n      <th>ENTRIESn_hourly</th>\n      <th>EXITSn_hourly</th>\n      <th>hour</th>\n      <th>weekday</th>\n      <th>latitude</th>\n      <th>longitude</th>\n      <th>fog</th>\n      <th>precipi</th>\n      <th>pressurei</th>\n      <th>rain</th>\n      <th>tempi</th>\n      <th>wspdi</th>\n      <th>meanprecipi</th>\n      <th>meanpressurei</th>\n      <th>meantempi</th>\n      <th>meanwspdi</th>\n      <th>weather_lat</th>\n      <th>weather_lon</th>\n    </tr>\n    <tr>\n      <th>day_week</th>\n      <th></th>\n      <th></th>\n      <th></th>\n      <th></th>\n      <th></th>\n      <th></th>\n      <th></th>\n      <th></th>\n      <th></th>\n      <th></th>\n      <th></th>\n      <th></th>\n      <th></th>\n      <th></th>\n      <th></th>\n      <th></th>\n      <th></th>\n      <th></th>\n      <th></th>\n      <th></th>\n    </tr>\n  </thead>\n  <tbody>\n    <tr>\n      <th>0</th>\n      <td>2.840276e+07</td>\n      <td>2.006446e+07</td>\n      <td>1825.264907</td>\n      <td>1304.046505</td>\n      <td>10.012553</td>\n      <td>1.0</td>\n      <td>40.724701</td>\n      <td>-73.940259</td>\n      <td>0.000000</td>\n      <td>0.000595</td>\n      <td>29.993017</td>\n      <td>0.212268</td>\n      <td>62.584665</td>\n      <td>7.934180</td>\n      <td>0.000595</td>\n      <td>29.993017</td>\n      <td>62.584665</td>\n      <td>7.934180</td>\n      <td>40.728668</td>\n      <td>-73.938591</td>\n    </tr>\n    <tr>\n      <th>1</th>\n      <td>2.846201e+07</td>\n      <td>2.013426e+07</td>\n      <td>2164.836433</td>\n      <td>1537.704955</td>\n      <td>9.959392</td>\n      <td>1.0</td>\n      <td>40.724725</td>\n      <td>-73.940213</td>\n      <td>0.006673</td>\n      <td>0.014065</td>\n      <td>29.978990</td>\n      <td>0.201193</td>\n      <td>65.760642</td>\n      <td>8.365128</td>\n      <td>0.014065</td>\n      <td>29.978990</td>\n      <td>65.760642</td>\n      <td>8.365128</td>\n      <td>40.728664</td>\n      <td>-73.938464</td>\n    </tr>\n    <tr>\n      <th>2</th>\n      <td>2.759311e+07</td>\n      <td>1.954360e+07</td>\n      <td>2297.097957</td>\n      <td>1637.824152</td>\n      <td>10.059103</td>\n      <td>1.0</td>\n      <td>40.724626</td>\n      <td>-73.940252</td>\n      <td>0.038672</td>\n      <td>0.010773</td>\n      <td>29.973333</td>\n      <td>0.499818</td>\n      <td>61.456348</td>\n      <td>7.767858</td>\n      <td>0.010773</td>\n      <td>29.973333</td>\n      <td>61.456348</td>\n      <td>7.767858</td>\n      <td>40.728592</td>\n      <td>-73.938707</td>\n    </tr>\n    <tr>\n      <th>3</th>\n      <td>2.774932e+07</td>\n      <td>1.959388e+07</td>\n      <td>2317.072379</td>\n      <td>1638.763537</td>\n      <td>10.056518</td>\n      <td>1.0</td>\n      <td>40.724578</td>\n      <td>-73.940469</td>\n      <td>0.004376</td>\n      <td>0.001696</td>\n      <td>29.976963</td>\n      <td>0.163537</td>\n      <td>62.110100</td>\n      <td>7.552944</td>\n      <td>0.001696</td>\n      <td>29.976963</td>\n      <td>62.110100</td>\n      <td>7.552944</td>\n      <td>40.728496</td>\n      <td>-73.938749</td>\n    </tr>\n    <tr>\n      <th>4</th>\n      <td>2.798019e+07</td>\n      <td>1.972139e+07</td>\n      <td>2277.372294</td>\n      <td>1621.136514</td>\n      <td>10.052110</td>\n      <td>1.0</td>\n      <td>40.724469</td>\n      <td>-73.940258</td>\n      <td>0.000000</td>\n      <td>0.000857</td>\n      <td>29.945215</td>\n      <td>0.249174</td>\n      <td>62.636899</td>\n      <td>4.773413</td>\n      <td>0.000857</td>\n      <td>29.945215</td>\n      <td>62.636899</td>\n      <td>4.773413</td>\n      <td>40.728321</td>\n      <td>-73.938448</td>\n    </tr>\n    <tr>\n      <th>5</th>\n      <td>2.809505e+07</td>\n      <td>1.984991e+07</td>\n      <td>1383.901479</td>\n      <td>1052.769316</td>\n      <td>10.107209</td>\n      <td>0.0</td>\n      <td>40.724769</td>\n      <td>-73.940675</td>\n      <td>0.000000</td>\n      <td>0.000000</td>\n      <td>29.912752</td>\n      <td>0.061368</td>\n      <td>64.529593</td>\n      <td>5.297283</td>\n      <td>0.000000</td>\n      <td>29.912752</td>\n      <td>64.529593</td>\n      <td>5.297283</td>\n      <td>40.728610</td>\n      <td>-73.939098</td>\n    </tr>\n    <tr>\n      <th>6</th>\n      <td>2.836150e+07</td>\n      <td>2.001703e+07</td>\n      <td>1066.436106</td>\n      <td>826.832324</td>\n      <td>10.102526</td>\n      <td>0.0</td>\n      <td>40.724631</td>\n      <td>-73.940473</td>\n      <td>0.020092</td>\n      <td>0.003055</td>\n      <td>30.001086</td>\n      <td>0.199882</td>\n      <td>62.252711</td>\n      <td>6.241380</td>\n      <td>0.003055</td>\n      <td>30.001086</td>\n      <td>62.252711</td>\n      <td>6.241380</td>\n      <td>40.728488</td>\n      <td>-73.938856</td>\n    </tr>\n  </tbody>\n</table>\n</div>"
     },
     "execution_count": 43,
     "metadata": {},
     "output_type": "execute_result"
    }
   ],
   "source": [
    "subway_df.groupby(Col.day_week).mean()"
   ]
  },
  {
   "cell_type": "markdown",
   "metadata": {
    "pycharm": {
     "name": "#%% md\n"
    }
   },
   "source": [
    "Group by temperature bracket (degrees divided by 10), calculate mean."
   ]
  },
  {
   "cell_type": "code",
   "execution_count": 44,
   "metadata": {
    "pycharm": {
     "name": "#%%\n"
    }
   },
   "outputs": [
    {
     "data": {
      "text/plain": "                 tempi  ENTRIESn_hourly  EXITSn_hourly       hour\ntemp. °F/10                                                      \n4.0          48.159214      1380.289973    1015.161247   5.913279\n5.0          55.668567      1520.393978    1109.479483   7.520396\n6.0          63.798705      2098.916439    1475.631850  11.489522\n7.0          73.402088      2160.268121    1581.693709  11.690916\n8.0          81.903382      2343.743276    1778.035452  14.278729",
      "text/html": "<div>\n<style scoped>\n    .dataframe tbody tr th:only-of-type {\n        vertical-align: middle;\n    }\n\n    .dataframe tbody tr th {\n        vertical-align: top;\n    }\n\n    .dataframe thead th {\n        text-align: right;\n    }\n</style>\n<table border=\"1\" class=\"dataframe\">\n  <thead>\n    <tr style=\"text-align: right;\">\n      <th></th>\n      <th>tempi</th>\n      <th>ENTRIESn_hourly</th>\n      <th>EXITSn_hourly</th>\n      <th>hour</th>\n    </tr>\n    <tr>\n      <th>temp. °F/10</th>\n      <th></th>\n      <th></th>\n      <th></th>\n      <th></th>\n    </tr>\n  </thead>\n  <tbody>\n    <tr>\n      <th>4.0</th>\n      <td>48.159214</td>\n      <td>1380.289973</td>\n      <td>1015.161247</td>\n      <td>5.913279</td>\n    </tr>\n    <tr>\n      <th>5.0</th>\n      <td>55.668567</td>\n      <td>1520.393978</td>\n      <td>1109.479483</td>\n      <td>7.520396</td>\n    </tr>\n    <tr>\n      <th>6.0</th>\n      <td>63.798705</td>\n      <td>2098.916439</td>\n      <td>1475.631850</td>\n      <td>11.489522</td>\n    </tr>\n    <tr>\n      <th>7.0</th>\n      <td>73.402088</td>\n      <td>2160.268121</td>\n      <td>1581.693709</td>\n      <td>11.690916</td>\n    </tr>\n    <tr>\n      <th>8.0</th>\n      <td>81.903382</td>\n      <td>2343.743276</td>\n      <td>1778.035452</td>\n      <td>14.278729</td>\n    </tr>\n  </tbody>\n</table>\n</div>"
     },
     "execution_count": 44,
     "metadata": {},
     "output_type": "execute_result"
    }
   ],
   "source": [
    "subway_df_temp10 = subway_df.copy()\n",
    "temp_10_col_name = 'temp. °F/10'\n",
    "subway_df_temp10[temp_10_col_name] = subway_df_temp10[Col.tempi] // 10\n",
    "subway_df_temp10_mean = subway_df_temp10.groupby(temp_10_col_name).mean()[[\n",
    "    Col.tempi, Col.entries_hourly, Col.exits_hourly, Col.hour]]\n",
    "subway_df_temp10_mean"
   ]
  },
  {
   "cell_type": "markdown",
   "metadata": {
    "pycharm": {
     "name": "#%% md\n"
    }
   },
   "source": [
    "We see that the mean number of hourly entries/exits increases with temperature.\n",
    "A possible explanation is that this is an indirect dependency,\n",
    "and both temperature and ridership depend on the daytime:\n",
    "- it's warmer by day than by night or early in the morning\n",
    "- the number of riders by day is higher than by night or early in the morning\n",
    "\n",
    "This assumption is also supported by the `hour` column:\n",
    "its values seem to strongly correlate with the mean temperature.\n",
    "\n",
    "It turns out that these values have very high correlations, which are above 0.95:"
   ]
  },
  {
   "cell_type": "code",
   "execution_count": 45,
   "metadata": {
    "pycharm": {
     "name": "#%%\n"
    }
   },
   "outputs": [
    {
     "name": "stdout",
     "output_type": "stream",
     "text": [
      "Correlation between mean tempi and ENTRIESn_hourly: 0.951089922207254\n",
      "Correlation between mean tempi and EXITSn_hourly: 0.9797757003165991\n",
      "Correlation between mean tempi and hour: 0.9671059953369963\n",
      "Correlation between mean hour and ENTRIESn_hourly: 0.9906492687833355\n",
      "Correlation between mean hour and EXITSn_hourly: 0.9933644171740036\n"
     ]
    }
   ],
   "source": [
    "columns_for_correlation = [\n",
    "    (Col.tempi, Col.entries_hourly),\n",
    "    (Col.tempi, Col.exits_hourly),\n",
    "    (Col.tempi, Col.hour),\n",
    "    (Col.hour, Col.entries_hourly),\n",
    "    (Col.hour, Col.exits_hourly)]\n",
    "\n",
    "for c1, c2 in columns_for_correlation:\n",
    "    print(\"Correlation between mean {} and {}: {}\".format(\n",
    "        c1, c2, correlation(subway_df_temp10_mean[c1], subway_df_temp10_mean[c2])))\n"
   ]
  },
  {
   "cell_type": "markdown",
   "metadata": {
    "pycharm": {
     "name": "#%% md\n"
    }
   },
   "source": [
    "Now we want to plot some of the variable dependencies."
   ]
  },
  {
   "cell_type": "code",
   "execution_count": 46,
   "metadata": {
    "pycharm": {
     "name": "#%%\n"
    }
   },
   "outputs": [],
   "source": [
    "import matplotlib as mpl\n",
    "import matplotlib.pyplot as plt\n",
    "import seaborn as sns\n",
    "sns.set()\n",
    "fig_size = (10, 5)"
   ]
  },
  {
   "cell_type": "markdown",
   "metadata": {
    "pycharm": {
     "name": "#%% md\n"
    }
   },
   "source": [
    "Plot the hourly entries by day of the week."
   ]
  },
  {
   "cell_type": "code",
   "execution_count": 47,
   "metadata": {
    "pycharm": {
     "name": "#%%\n"
    }
   },
   "outputs": [
    {
     "data": {
      "text/plain": "<Figure size 720x360 with 1 Axes>",
      "image/png": "[encoded data removed]"
     },
     "metadata": {},
     "output_type": "display_data"
    }
   ],
   "source": [
    "subway_df.groupby(Col.day_week).mean()[Col.entries_hourly].plot(figsize=fig_size);"
   ]
  },
  {
   "cell_type": "markdown",
   "metadata": {},
   "source": [
    "Plot the hourly entries by hour of the day."
   ]
  },
  {
   "cell_type": "code",
   "execution_count": 48,
   "metadata": {
    "pycharm": {
     "name": "#%%\n"
    }
   },
   "outputs": [
    {
     "data": {
      "text/plain": "<Figure size 720x360 with 1 Axes>",
      "image/png": "[encoded data removed]"
     },
     "metadata": {},
     "output_type": "display_data"
    }
   ],
   "source": [
    "subway_df.groupby(Col.hour).mean()[Col.entries_hourly].plot(figsize=fig_size);"
   ]
  },
  {
   "cell_type": "markdown",
   "metadata": {
    "pycharm": {
     "name": "#%% md\n"
    }
   },
   "source": [
    "## Calculating hourly entries and exits\n",
    "\n",
    "Assuming that we have only cumulative entry/exit counts,\n",
    "we calculate the entries and exits per time period (for the following data set the time period is 4h)."
   ]
  },
  {
   "cell_type": "code",
   "execution_count": 49,
   "metadata": {
    "pycharm": {
     "name": "#%%\n"
    }
   },
   "outputs": [],
   "source": [
    "ridership_df = pd.DataFrame({\n",
    "    'UNIT': ['R051', 'R079', 'R051', 'R079', 'R051', 'R079', 'R051', 'R079', 'R051'],\n",
    "    'TIMEn': ['00:00:00', '02:00:00', '04:00:00', '06:00:00', '08:00:00', '10:00:00', '12:00:00', '14:00:00', '16:00:00'],\n",
    "    'ENTRIESn': [3144312, 8936644, 3144335, 8936658, 3144353, 8936687, 3144424, 8936819, 3144594],\n",
    "    'EXITSn': [1088151, 13755385,  1088159, 13755393,  1088177, 13755598, 1088231, 13756191,  1088275]\n",
    "})"
   ]
  },
  {
   "cell_type": "code",
   "execution_count": 50,
   "metadata": {
    "pycharm": {
     "name": "#%%\n"
    }
   },
   "outputs": [
    {
     "data": {
      "text/plain": "   UNIT     TIMEn  ENTRIESn    EXITSn  ENTRIESn in 4h  EXITSn in 4h\n0  R051  00:00:00   3144312   1088151             NaN           NaN\n2  R051  04:00:00   3144335   1088159            23.0           8.0\n4  R051  08:00:00   3144353   1088177            18.0          18.0\n6  R051  12:00:00   3144424   1088231            71.0          54.0\n8  R051  16:00:00   3144594   1088275           170.0          44.0\n1  R079  02:00:00   8936644  13755385             NaN           NaN\n3  R079  06:00:00   8936658  13755393            14.0           8.0\n5  R079  10:00:00   8936687  13755598            29.0         205.0\n7  R079  14:00:00   8936819  13756191           132.0         593.0",
      "text/html": "<div>\n<style scoped>\n    .dataframe tbody tr th:only-of-type {\n        vertical-align: middle;\n    }\n\n    .dataframe tbody tr th {\n        vertical-align: top;\n    }\n\n    .dataframe thead th {\n        text-align: right;\n    }\n</style>\n<table border=\"1\" class=\"dataframe\">\n  <thead>\n    <tr style=\"text-align: right;\">\n      <th></th>\n      <th>UNIT</th>\n      <th>TIMEn</th>\n      <th>ENTRIESn</th>\n      <th>EXITSn</th>\n      <th>ENTRIESn in 4h</th>\n      <th>EXITSn in 4h</th>\n    </tr>\n  </thead>\n  <tbody>\n    <tr>\n      <th>0</th>\n      <td>R051</td>\n      <td>00:00:00</td>\n      <td>3144312</td>\n      <td>1088151</td>\n      <td>NaN</td>\n      <td>NaN</td>\n    </tr>\n    <tr>\n      <th>2</th>\n      <td>R051</td>\n      <td>04:00:00</td>\n      <td>3144335</td>\n      <td>1088159</td>\n      <td>23.0</td>\n      <td>8.0</td>\n    </tr>\n    <tr>\n      <th>4</th>\n      <td>R051</td>\n      <td>08:00:00</td>\n      <td>3144353</td>\n      <td>1088177</td>\n      <td>18.0</td>\n      <td>18.0</td>\n    </tr>\n    <tr>\n      <th>6</th>\n      <td>R051</td>\n      <td>12:00:00</td>\n      <td>3144424</td>\n      <td>1088231</td>\n      <td>71.0</td>\n      <td>54.0</td>\n    </tr>\n    <tr>\n      <th>8</th>\n      <td>R051</td>\n      <td>16:00:00</td>\n      <td>3144594</td>\n      <td>1088275</td>\n      <td>170.0</td>\n      <td>44.0</td>\n    </tr>\n    <tr>\n      <th>1</th>\n      <td>R079</td>\n      <td>02:00:00</td>\n      <td>8936644</td>\n      <td>13755385</td>\n      <td>NaN</td>\n      <td>NaN</td>\n    </tr>\n    <tr>\n      <th>3</th>\n      <td>R079</td>\n      <td>06:00:00</td>\n      <td>8936658</td>\n      <td>13755393</td>\n      <td>14.0</td>\n      <td>8.0</td>\n    </tr>\n    <tr>\n      <th>5</th>\n      <td>R079</td>\n      <td>10:00:00</td>\n      <td>8936687</td>\n      <td>13755598</td>\n      <td>29.0</td>\n      <td>205.0</td>\n    </tr>\n    <tr>\n      <th>7</th>\n      <td>R079</td>\n      <td>14:00:00</td>\n      <td>8936819</td>\n      <td>13756191</td>\n      <td>132.0</td>\n      <td>593.0</td>\n    </tr>\n  </tbody>\n</table>\n</div>"
     },
     "execution_count": 50,
     "metadata": {},
     "output_type": "execute_result"
    }
   ],
   "source": [
    "def get_entries_and_exits_per_time_period(ridership_df):\n",
    "    ridership_grouped = ridership_df.sort_values([Col.unit, Col.time]).groupby(Col.unit)[[Col.entries, Col.exits]]\n",
    "    ridership_grouped_diff_df = ridership_grouped.diff()\n",
    "    ridership_joined_df = ridership_df\\\n",
    "        .join(ridership_grouped_diff_df.rename(columns={Col.entries : 'ENTRIESn in 4h', Col.exits : 'EXITSn in 4h'}))\\\n",
    "        .sort_values([Col.unit, Col.time])\n",
    "    return ridership_joined_df\n",
    "\n",
    "get_entries_and_exits_per_time_period(ridership_df)"
   ]
  },
  {
   "cell_type": "markdown",
   "metadata": {
    "pycharm": {
     "name": "#%% md\n"
    }
   },
   "source": [
    "## Combining Pandas data frames\n",
    "\n",
    "Combine two data frames using `merge()`."
   ]
  },
  {
   "cell_type": "code",
   "execution_count": 51,
   "metadata": {
    "pycharm": {
     "name": "#%%\n"
    }
   },
   "outputs": [
    {
     "data": {
      "text/plain": "   UNIT     DATEn  hour  ENTRIESn    EXITSn   latitude  longitude  pressurei  \\\n0  R003  05-01-11     0   4388333   2911002  40.689945 -73.872564      30.24   \n1  R003  05-02-11     0   4388348   2911036  40.689945 -73.872564      30.32   \n2  R003  05-03-11     0   4389885   2912127  40.689945 -73.872564      30.14   \n3  R003  05-04-11     0   4391507   2913223  40.689945 -73.872564      29.98   \n4  R003  05-05-11     0   4393043   2914284  40.689945 -73.872564      30.01   \n5  R004  05-01-11     0  14656120  14451774  40.691320 -73.867135      30.24   \n6  R004  05-02-11     0  14656174  14451851  40.691320 -73.867135      30.32   \n7  R004  05-03-11     0  14660126  14454734  40.691320 -73.867135      30.14   \n8  R004  05-04-11     0  14664247  14457780  40.691320 -73.867135      29.98   \n9  R004  05-05-11     0  14668301  14460818  40.691320 -73.867135      30.01   \n\n   fog  rain  tempi  wspdi  \n0    0     0   52.0    8.1  \n1    0     0   48.9    6.9  \n2    0     0   54.0    3.5  \n3    0     0   57.2   15.0  \n4    0     0   48.9   15.0  \n5    0     0   52.0    8.1  \n6    0     0   48.9    6.9  \n7    0     0   54.0    3.5  \n8    0     0   57.2   15.0  \n9    0     0   48.9   15.0  ",
      "text/html": "<div>\n<style scoped>\n    .dataframe tbody tr th:only-of-type {\n        vertical-align: middle;\n    }\n\n    .dataframe tbody tr th {\n        vertical-align: top;\n    }\n\n    .dataframe thead th {\n        text-align: right;\n    }\n</style>\n<table border=\"1\" class=\"dataframe\">\n  <thead>\n    <tr style=\"text-align: right;\">\n      <th></th>\n      <th>UNIT</th>\n      <th>DATEn</th>\n      <th>hour</th>\n      <th>ENTRIESn</th>\n      <th>EXITSn</th>\n      <th>latitude</th>\n      <th>longitude</th>\n      <th>pressurei</th>\n      <th>fog</th>\n      <th>rain</th>\n      <th>tempi</th>\n      <th>wspdi</th>\n    </tr>\n  </thead>\n  <tbody>\n    <tr>\n      <th>0</th>\n      <td>R003</td>\n      <td>05-01-11</td>\n      <td>0</td>\n      <td>4388333</td>\n      <td>2911002</td>\n      <td>40.689945</td>\n      <td>-73.872564</td>\n      <td>30.24</td>\n      <td>0</td>\n      <td>0</td>\n      <td>52.0</td>\n      <td>8.1</td>\n    </tr>\n    <tr>\n      <th>1</th>\n      <td>R003</td>\n      <td>05-02-11</td>\n      <td>0</td>\n      <td>4388348</td>\n      <td>2911036</td>\n      <td>40.689945</td>\n      <td>-73.872564</td>\n      <td>30.32</td>\n      <td>0</td>\n      <td>0</td>\n      <td>48.9</td>\n      <td>6.9</td>\n    </tr>\n    <tr>\n      <th>2</th>\n      <td>R003</td>\n      <td>05-03-11</td>\n      <td>0</td>\n      <td>4389885</td>\n      <td>2912127</td>\n      <td>40.689945</td>\n      <td>-73.872564</td>\n      <td>30.14</td>\n      <td>0</td>\n      <td>0</td>\n      <td>54.0</td>\n      <td>3.5</td>\n    </tr>\n    <tr>\n      <th>3</th>\n      <td>R003</td>\n      <td>05-04-11</td>\n      <td>0</td>\n      <td>4391507</td>\n      <td>2913223</td>\n      <td>40.689945</td>\n      <td>-73.872564</td>\n      <td>29.98</td>\n      <td>0</td>\n      <td>0</td>\n      <td>57.2</td>\n      <td>15.0</td>\n    </tr>\n    <tr>\n      <th>4</th>\n      <td>R003</td>\n      <td>05-05-11</td>\n      <td>0</td>\n      <td>4393043</td>\n      <td>2914284</td>\n      <td>40.689945</td>\n      <td>-73.872564</td>\n      <td>30.01</td>\n      <td>0</td>\n      <td>0</td>\n      <td>48.9</td>\n      <td>15.0</td>\n    </tr>\n    <tr>\n      <th>5</th>\n      <td>R004</td>\n      <td>05-01-11</td>\n      <td>0</td>\n      <td>14656120</td>\n      <td>14451774</td>\n      <td>40.691320</td>\n      <td>-73.867135</td>\n      <td>30.24</td>\n      <td>0</td>\n      <td>0</td>\n      <td>52.0</td>\n      <td>8.1</td>\n    </tr>\n    <tr>\n      <th>6</th>\n      <td>R004</td>\n      <td>05-02-11</td>\n      <td>0</td>\n      <td>14656174</td>\n      <td>14451851</td>\n      <td>40.691320</td>\n      <td>-73.867135</td>\n      <td>30.32</td>\n      <td>0</td>\n      <td>0</td>\n      <td>48.9</td>\n      <td>6.9</td>\n    </tr>\n    <tr>\n      <th>7</th>\n      <td>R004</td>\n      <td>05-03-11</td>\n      <td>0</td>\n      <td>14660126</td>\n      <td>14454734</td>\n      <td>40.691320</td>\n      <td>-73.867135</td>\n      <td>30.14</td>\n      <td>0</td>\n      <td>0</td>\n      <td>54.0</td>\n      <td>3.5</td>\n    </tr>\n    <tr>\n      <th>8</th>\n      <td>R004</td>\n      <td>05-04-11</td>\n      <td>0</td>\n      <td>14664247</td>\n      <td>14457780</td>\n      <td>40.691320</td>\n      <td>-73.867135</td>\n      <td>29.98</td>\n      <td>0</td>\n      <td>0</td>\n      <td>57.2</td>\n      <td>15.0</td>\n    </tr>\n    <tr>\n      <th>9</th>\n      <td>R004</td>\n      <td>05-05-11</td>\n      <td>0</td>\n      <td>14668301</td>\n      <td>14460818</td>\n      <td>40.691320</td>\n      <td>-73.867135</td>\n      <td>30.01</td>\n      <td>0</td>\n      <td>0</td>\n      <td>48.9</td>\n      <td>15.0</td>\n    </tr>\n  </tbody>\n</table>\n</div>"
     },
     "execution_count": 51,
     "metadata": {},
     "output_type": "execute_result"
    }
   ],
   "source": [
    "subway_tiny_df = pd.DataFrame({\n",
    "    'UNIT': ['R003', 'R003', 'R003', 'R003', 'R003', 'R004', 'R004', 'R004', 'R004', 'R004'],\n",
    "    'DATEn': ['05-01-11', '05-02-11', '05-03-11', '05-04-11', '05-05-11', '05-01-11', '05-02-11', '05-03-11', '05-04-11', '05-05-11'],\n",
    "    'hour': [0, 0, 0, 0, 0, 0, 0, 0, 0, 0],\n",
    "    'ENTRIESn': [ 4388333,  4388348,  4389885,  4391507,  4393043, 14656120, 14656174, 14660126, 14664247, 14668301],\n",
    "    'EXITSn': [ 2911002,  2911036,  2912127,  2913223,  2914284, 14451774, 14451851, 14454734, 14457780, 14460818],\n",
    "    'latitude': [ 40.689945,  40.689945,  40.689945,  40.689945,  40.689945, 40.69132 ,  40.69132 ,  40.69132 ,  40.69132 ,  40.69132 ],\n",
    "    'longitude': [-73.872564, -73.872564, -73.872564, -73.872564, -73.872564, -73.867135, -73.867135, -73.867135, -73.867135, -73.867135]\n",
    "})\n",
    "\n",
    "weather_tiny_df = pd.DataFrame({\n",
    "    'DATEn': ['05-01-11', '05-01-11', '05-02-11', '05-02-11', '05-03-11', '05-03-11', '05-04-11', '05-04-11', '05-05-11', '05-05-11'],\n",
    "    'hour': [0, 0, 0, 0, 0, 0, 0, 0, 0, 0],\n",
    "    'latitude': [ 40.689945,  40.69132 ,  40.689945,  40.69132 ,  40.689945, 40.69132 ,  40.689945,  40.69132 ,  40.689945,  40.69132 ],\n",
    "    'longitude': [-73.872564, -73.867135, -73.872564, -73.867135, -73.872564, -73.867135, -73.872564, -73.867135, -73.872564, -73.867135],\n",
    "    'pressurei': [ 30.24,  30.24,  30.32,  30.32,  30.14,  30.14,  29.98,  29.98, 30.01,  30.01],\n",
    "    'fog': [0, 0, 0, 0, 0, 0, 0, 0, 0, 0],\n",
    "    'rain': [0, 0, 0, 0, 0, 0, 0, 0, 0, 0],\n",
    "    'tempi': [ 52. ,  52. ,  48.9,  48.9,  54. ,  54. ,  57.2,  57.2,  48.9,  48.9],\n",
    "    'wspdi': [  8.1,   8.1,   6.9,   6.9,   3.5,   3.5,  15. ,  15. ,  15. ,  15. ]\n",
    "})\n",
    "\n",
    "def combine_dataframes(subway_df: pd.DataFrame, weather_df: pd.DataFrame) -> pd.DataFrame:\n",
    "    \"\"\"\n",
    "    Combines the data frames containing subway station entries/exists and weather data, respectively.\n",
    "    The frames will be matched by date, time, and location.\n",
    "    \"\"\"\n",
    "    return subway_df.merge(weather_df, on=[Col.date, Col.hour, Col.latitude, Col.longitude])\n",
    "\n",
    "combine_dataframes(subway_tiny_df, weather_tiny_df)"
   ]
  },
  {
   "cell_type": "markdown",
   "metadata": {},
   "source": [
    "## Plotting with Pandas data frames"
   ]
  },
  {
   "cell_type": "markdown",
   "metadata": {
    "pycharm": {
     "name": "#%% md\n"
    }
   },
   "source": [
    "Plot the ridership depending on the rain, as a bar diagram."
   ]
  },
  {
   "cell_type": "code",
   "execution_count": 52,
   "metadata": {
    "pycharm": {
     "name": "#%%\n"
    }
   },
   "outputs": [
    {
     "data": {
      "text/plain": "<Figure size 432x288 with 1 Axes>",
      "image/png": "[encoded data removed]"
     },
     "metadata": {},
     "output_type": "display_data"
    }
   ],
   "source": [
    "subway_df.groupby(Col.rain)[Col.entries_hourly].mean().sort_index()\\\n",
    "    .plot(kind='bar', title='Ridership depending on rain (1) or no rain (0)');"
   ]
  },
  {
   "cell_type": "markdown",
   "metadata": {
    "pycharm": {
     "name": "#%% md\n"
    }
   },
   "source": [
    "Create a [scatterplot](https://pandas.pydata.org/pandas-docs/stable/reference/api/pandas.DataFrame.plot.scatter.html)\n",
    "of subway stations with latitude/longitude as axes and ridership as point size.\n",
    "We additionally use a [colormap](https://matplotlib.org/examples/color/colormaps_reference.html)\n",
    "so that the points have different colors depending on the value.\n",
    "\n",
    "Note: in pandas 1.1.5, the x axis disappears when adding colors to the scatter plot.\n",
    "A [workaround](https://stackoverflow.com/a/43579371) is to explicitly provide an `ax` parameter.\n",
    "Should this behaviour be fixed in a future version, then the workaround can be removed."
   ]
  },
  {
   "cell_type": "code",
   "execution_count": 53,
   "metadata": {
    "pycharm": {
     "name": "#%%\n"
    }
   },
   "outputs": [
    {
     "data": {
      "text/plain": "<Figure size 864x720 with 2 Axes>",
      "image/png": "[encoded data removed]"
     },
     "metadata": {},
     "output_type": "display_data"
    }
   ],
   "source": [
    "df = subway_df.groupby([Col.longitude, Col.latitude], as_index=False)[Col.entries_hourly].mean()\n",
    "point_sizes = df[Col.entries_hourly]/100\n",
    "point_colors = df[Col.entries_hourly]\n",
    "_, ax = plt.subplots() # workaround. can be removed as soon as plotting works with color parameters\n",
    "df.plot.scatter(x=Col.longitude, y=Col.latitude, s=point_sizes,\n",
    "                title=\"Mean ridership by latitude/longitude\",\n",
    "                c=point_colors, colormap='winter',\n",
    "                ax=ax,\n",
    "                figsize=(12, 10));"
   ]
  },
  {
   "cell_type": "markdown",
   "metadata": {
    "pycharm": {
     "name": "#%% md\n"
    }
   },
   "source": [
    "## Three-dimensional data\n",
    "\n",
    "\n",
    "Multi-dimensional data can be representing with\n",
    "[MultiIndex](https://pandas.pydata.org/pandas-docs/stable/reference/api/pandas.MultiIndex.html)."
   ]
  },
  {
   "cell_type": "code",
   "execution_count": 54,
   "metadata": {
    "pycharm": {
     "name": "#%%\n"
    }
   },
   "outputs": [
    {
     "data": {
      "text/plain": "MultiIndex([('a1', 'b1'),\n            ('a1', 'b2'),\n            ('a1', 'b3'),\n            ('a2', 'b1'),\n            ('a2', 'b2'),\n            ('a2', 'b3'),\n            ('a3', 'b1'),\n            ('a3', 'b2'),\n            ('a3', 'b3')],\n           )"
     },
     "execution_count": 54,
     "metadata": {},
     "output_type": "execute_result"
    }
   ],
   "source": [
    "midx = pd.MultiIndex(levels=[['a1', 'a2', 'a3'], ['b1', 'b2', 'b3']],\n",
    "                     codes=[[0, 0, 0, 1, 1, 1, 2, 2, 2], [0, 1, 2, 0, 1, 2, 0, 1, 2]])\n",
    "midx"
   ]
  },
  {
   "cell_type": "code",
   "execution_count": 55,
   "metadata": {
    "pycharm": {
     "name": "#%%\n"
    }
   },
   "outputs": [
    {
     "data": {
      "text/plain": "         0    1    2\na1 b1  110  111  112\n   b2  120  121  122\n   b3  130  131  112\na2 b1  210  211  212\n   b2  220  221  222\n   b3  230  231  232\na3 b1  310  311  312\n   b2  320  321  322\n   b3  330  331  332",
      "text/html": "<div>\n<style scoped>\n    .dataframe tbody tr th:only-of-type {\n        vertical-align: middle;\n    }\n\n    .dataframe tbody tr th {\n        vertical-align: top;\n    }\n\n    .dataframe thead th {\n        text-align: right;\n    }\n</style>\n<table border=\"1\" class=\"dataframe\">\n  <thead>\n    <tr style=\"text-align: right;\">\n      <th></th>\n      <th></th>\n      <th>0</th>\n      <th>1</th>\n      <th>2</th>\n    </tr>\n  </thead>\n  <tbody>\n    <tr>\n      <th rowspan=\"3\" valign=\"top\">a1</th>\n      <th>b1</th>\n      <td>110</td>\n      <td>111</td>\n      <td>112</td>\n    </tr>\n    <tr>\n      <th>b2</th>\n      <td>120</td>\n      <td>121</td>\n      <td>122</td>\n    </tr>\n    <tr>\n      <th>b3</th>\n      <td>130</td>\n      <td>131</td>\n      <td>112</td>\n    </tr>\n    <tr>\n      <th rowspan=\"3\" valign=\"top\">a2</th>\n      <th>b1</th>\n      <td>210</td>\n      <td>211</td>\n      <td>212</td>\n    </tr>\n    <tr>\n      <th>b2</th>\n      <td>220</td>\n      <td>221</td>\n      <td>222</td>\n    </tr>\n    <tr>\n      <th>b3</th>\n      <td>230</td>\n      <td>231</td>\n      <td>232</td>\n    </tr>\n    <tr>\n      <th rowspan=\"3\" valign=\"top\">a3</th>\n      <th>b1</th>\n      <td>310</td>\n      <td>311</td>\n      <td>312</td>\n    </tr>\n    <tr>\n      <th>b2</th>\n      <td>320</td>\n      <td>321</td>\n      <td>322</td>\n    </tr>\n    <tr>\n      <th>b3</th>\n      <td>330</td>\n      <td>331</td>\n      <td>332</td>\n    </tr>\n  </tbody>\n</table>\n</div>"
     },
     "execution_count": 55,
     "metadata": {},
     "output_type": "execute_result"
    }
   ],
   "source": [
    "df = pd.DataFrame([\n",
    "    [110, 111, 112],\n",
    "    [120, 121, 122],\n",
    "    [130, 131, 112],\n",
    "    [210, 211, 212],\n",
    "    [220, 221, 222],\n",
    "    [230, 231, 232],\n",
    "    [310, 311, 312],\n",
    "    [320, 321, 322],\n",
    "    [330, 331, 332]],\n",
    "    index=midx)\n",
    "df"
   ]
  },
  {
   "cell_type": "code",
   "execution_count": 56,
   "metadata": {
    "pycharm": {
     "name": "#%%\n"
    }
   },
   "outputs": [
    {
     "data": {
      "text/plain": "      0    1    2\nb1  110  111  112\nb2  120  121  122\nb3  130  131  112",
      "text/html": "<div>\n<style scoped>\n    .dataframe tbody tr th:only-of-type {\n        vertical-align: middle;\n    }\n\n    .dataframe tbody tr th {\n        vertical-align: top;\n    }\n\n    .dataframe thead th {\n        text-align: right;\n    }\n</style>\n<table border=\"1\" class=\"dataframe\">\n  <thead>\n    <tr style=\"text-align: right;\">\n      <th></th>\n      <th>0</th>\n      <th>1</th>\n      <th>2</th>\n    </tr>\n  </thead>\n  <tbody>\n    <tr>\n      <th>b1</th>\n      <td>110</td>\n      <td>111</td>\n      <td>112</td>\n    </tr>\n    <tr>\n      <th>b2</th>\n      <td>120</td>\n      <td>121</td>\n      <td>122</td>\n    </tr>\n    <tr>\n      <th>b3</th>\n      <td>130</td>\n      <td>131</td>\n      <td>112</td>\n    </tr>\n  </tbody>\n</table>\n</div>"
     },
     "execution_count": 56,
     "metadata": {},
     "output_type": "execute_result"
    }
   ],
   "source": [
    "df.loc['a1']"
   ]
  },
  {
   "cell_type": "code",
   "execution_count": 57,
   "metadata": {
    "pycharm": {
     "name": "#%%\n"
    }
   },
   "outputs": [
    {
     "data": {
      "text/plain": "0    110\n1    111\n2    112\nName: (a1, b1), dtype: int64"
     },
     "execution_count": 57,
     "metadata": {},
     "output_type": "execute_result"
    }
   ],
   "source": [
    "df.loc['a1', 'b1']"
   ]
  },
  {
   "cell_type": "code",
   "execution_count": 58,
   "metadata": {
    "pycharm": {
     "name": "#%%\n"
    }
   },
   "outputs": [
    {
     "data": {
      "text/plain": "111"
     },
     "execution_count": 58,
     "metadata": {},
     "output_type": "execute_result"
    }
   ],
   "source": [
    "df.loc['a1', 'b1'][1]"
   ]
  }
 ],
 "metadata": {
  "kernelspec": {
   "name": "python-examples",
   "language": "python",
   "display_name": "Python (python-examples)"
  },
  "language_info": {
   "codemirror_mode": {
    "name": "ipython",
    "version": 3
   },
   "file_extension": ".py",
   "mimetype": "text/x-python",
   "name": "python",
   "nbconvert_exporter": "python",
   "pygments_lexer": "ipython3",
   "version": "3.8.5"
  }
 },
 "nbformat": 4,
 "nbformat_minor": 1
}