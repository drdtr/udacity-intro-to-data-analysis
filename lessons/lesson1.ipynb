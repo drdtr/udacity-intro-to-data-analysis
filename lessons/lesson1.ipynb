{
 "cells": [
  {
   "cell_type": "markdown",
   "source": [
    "# Lesson 1: Data Analysis Process"
   ],
   "metadata": {
    "collapsed": false
   }
  },
  {
   "cell_type": "markdown",
   "metadata": {
    "collapsed": true,
    "pycharm": {
     "name": "#%% md\n"
    }
   },
   "source": [
    "## Load Data from CSV"
   ]
  },
  {
   "cell_type": "code",
   "execution_count": 1,
   "outputs": [],
   "source": [
    "import unicodecsv\n",
    "\n",
    "def read_csv(csv_file_name: str, print_basic_info: bool = False) -> list:\n",
    "    with open(csv_file_name, 'rb') as f:\n",
    "        reader = unicodecsv.DictReader(f)\n",
    "        res_list = list(reader)\n",
    "    if print_basic_info:\n",
    "        print(\"CSV file read: \", csv_file_name)\n",
    "        print(\"Row count: \", len(res_list))\n",
    "        print(\"First row: \", res_list[0])\n",
    "    return res_list"
   ],
   "metadata": {
    "collapsed": false,
    "pycharm": {
     "name": "#%%\n"
    }
   }
  },
  {
   "cell_type": "markdown",
   "source": [
    "### Load `enrollments.csv`"
   ],
   "metadata": {
    "collapsed": false
   }
  },
  {
   "cell_type": "code",
   "execution_count": 2,
   "outputs": [
    {
     "name": "stdout",
     "output_type": "stream",
     "text": [
      "CSV file read:  ../resources/enrollments.csv\n",
      "Row count:  1640\n",
      "First row:  {'account_key': '448', 'status': 'canceled', 'join_date': '2014-11-10', 'cancel_date': '2015-01-14', 'days_to_cancel': '65', 'is_udacity': 'True', 'is_canceled': 'True'}\n"
     ]
    }
   ],
   "source": [
    "enrollments_filename = '../resources/enrollments.csv'\n",
    "enrollments = read_csv(enrollments_filename, print_basic_info=True)"
   ],
   "metadata": {
    "collapsed": false,
    "pycharm": {
     "name": "#%%\n"
    }
   }
  },
  {
   "cell_type": "markdown",
   "source": [
    "### Load `daily_engagement.csv`"
   ],
   "metadata": {
    "collapsed": false
   }
  },
  {
   "cell_type": "code",
   "execution_count": 3,
   "outputs": [
    {
     "name": "stdout",
     "output_type": "stream",
     "text": [
      "CSV file read:  ../resources/daily_engagement.csv\n",
      "Row count:  136240\n",
      "First row:  {'acct': '0', 'utc_date': '2015-01-09', 'num_courses_visited': '1.0', 'total_minutes_visited': '11.6793745', 'lessons_completed': '0.0', 'projects_completed': '0.0'}\n"
     ]
    }
   ],
   "source": [
    "engagement_filename = '../resources/daily_engagement.csv'\n",
    "daily_engagement = read_csv(engagement_filename, print_basic_info=True)"
   ],
   "metadata": {
    "collapsed": false,
    "pycharm": {
     "name": "#%%\n"
    }
   }
  },
  {
   "cell_type": "markdown",
   "source": [
    "### Load `project_submissions.csv`"
   ],
   "metadata": {
    "collapsed": false
   }
  },
  {
   "cell_type": "code",
   "execution_count": 4,
   "outputs": [
    {
     "name": "stdout",
     "output_type": "stream",
     "text": [
      "CSV file read:  ../resources/project_submissions.csv\n",
      "Row count:  3640\n",
      "First row:  {'creation_date': '2015-01-14', 'completion_date': '2015-01-16', 'assigned_rating': 'UNGRADED', 'account_key': '256', 'lesson_key': '3176718735', 'processing_state': 'EVALUATED'}\n"
     ]
    }
   ],
   "source": [
    "submissions_filename = '../resources/project_submissions.csv'\n",
    "project_submissions = read_csv(submissions_filename, print_basic_info=True)"
   ],
   "metadata": {
    "collapsed": false,
    "pycharm": {
     "name": "#%%\n"
    }
   }
  },
  {
   "cell_type": "markdown",
   "source": [
    "## Fixing Data Types\n",
    "\n",
    "### Intro code\n",
    "\n",
    "Some intro code was provided by Udacity in the `L1_Starter_Code.ipynb` Jupyter notebook.\n",
    "I've partially refactored it."
   ],
   "metadata": {
    "collapsed": false
   }
  },
  {
   "cell_type": "code",
   "execution_count": 5,
   "outputs": [],
   "source": [
    "from datetime import datetime as dt\n",
    "\n",
    "# Takes a date as a string, and returns a Python datetime object.\n",
    "# If there is no date given, returns None\n",
    "def parse_date(date): \n",
    "    return None if date == '' else dt.strptime(date, '%Y-%m-%d')\n",
    "\n",
    "# Takes a string which is either an empty string or represents an integer,\n",
    "# and returns an int or None.\n",
    "def parse_maybe_int(i):\n",
    "    return None if i == '' else int(i)"
   ],
   "metadata": {
    "collapsed": false,
    "pycharm": {
     "name": "#%%\n"
    }
   }
  },
  {
   "cell_type": "markdown",
   "source": [
    "Other than in `L1_Starter_Code.ipynb`, we will use pre-defined column names."
   ],
   "metadata": {
    "collapsed": false,
    "pycharm": {
     "name": "#%% md\n"
    }
   }
  },
  {
   "cell_type": "code",
   "execution_count": 6,
   "outputs": [],
   "source": [
    "# enrollments\n",
    "class ColEnr:\n",
    "    cancel_date = 'cancel_date'\n",
    "    days_to_cancel = 'days_to_cancel'\n",
    "    is_canceled = 'is_canceled'\n",
    "    is_udacity = 'is_udacity'\n",
    "    join_date = 'join_date'\n",
    "    account_key = 'account_key'\n",
    "    status = 'status'\n",
    "\n",
    "# daily engagements\n",
    "class ColDailyEng:\n",
    "    lessons_completed = 'lessons_completed'\n",
    "    num_courses_visited = 'num_courses_visited'\n",
    "    projects_completed = 'projects_completed'\n",
    "    total_minutes_visited = 'total_minutes_visited'\n",
    "    utc_date = 'utc_date'\n",
    "    acct = 'acct' # column name for account key in the csv\n",
    "    account_key = 'account_key' # new column name for account key\n",
    "\n",
    "# project submissions\n",
    "class ColProjSub:\n",
    "    completion_date = 'completion_date'\n",
    "    creation_date = 'creation_date'\n",
    "    assigned_rating = 'assigned_rating'\n",
    "    account_key = 'account_key'\n",
    "    lesson_key = 'lesson_key'\n",
    "    processing_state = 'processing_state'"
   ],
   "metadata": {
    "collapsed": false,
    "pycharm": {
     "name": "#%%\n"
    }
   }
  },
  {
   "cell_type": "code",
   "execution_count": 7,
   "outputs": [
    {
     "data": {
      "text/plain": "{'account_key': '448',\n 'status': 'canceled',\n 'join_date': datetime.datetime(2014, 11, 10, 0, 0),\n 'cancel_date': datetime.datetime(2015, 1, 14, 0, 0),\n 'days_to_cancel': 65,\n 'is_udacity': True,\n 'is_canceled': True}"
     },
     "execution_count": 7,
     "metadata": {},
     "output_type": "execute_result"
    }
   ],
   "source": [
    "# Clean up the data types in the enrollments table\n",
    "for enrollment in enrollments:\n",
    "    enrollment[ColEnr.cancel_date] = parse_date(enrollment[ColEnr.cancel_date])\n",
    "    enrollment[ColEnr.days_to_cancel] = parse_maybe_int(enrollment[ColEnr.days_to_cancel])\n",
    "    enrollment[ColEnr.is_canceled] = enrollment[ColEnr.is_canceled] == 'True'\n",
    "    enrollment[ColEnr.is_udacity] = enrollment[ColEnr.is_udacity] == 'True'\n",
    "    enrollment[ColEnr.join_date] = parse_date(enrollment[ColEnr.join_date])\n",
    "\n",
    "enrollments[0]"
   ],
   "metadata": {
    "collapsed": false,
    "pycharm": {
     "name": "#%%    \n"
    }
   }
  },
  {
   "cell_type": "code",
   "execution_count": 8,
   "outputs": [
    {
     "data": {
      "text/plain": "{'acct': '0',\n 'utc_date': datetime.datetime(2015, 1, 9, 0, 0),\n 'num_courses_visited': 1,\n 'total_minutes_visited': 11.6793745,\n 'lessons_completed': 0,\n 'projects_completed': 0}"
     },
     "execution_count": 8,
     "metadata": {},
     "output_type": "execute_result"
    }
   ],
   "source": [
    "# Clean up the data types in the engagement table\n",
    "for engagement_record in daily_engagement:\n",
    "    engagement_record[ColDailyEng.lessons_completed] = int(float(engagement_record[ColDailyEng.lessons_completed]))\n",
    "    engagement_record[ColDailyEng.num_courses_visited] = int(float(engagement_record[ColDailyEng.num_courses_visited]))\n",
    "    engagement_record[ColDailyEng.projects_completed] = int(float(engagement_record[ColDailyEng.projects_completed]))\n",
    "    engagement_record[ColDailyEng.total_minutes_visited] = float(engagement_record[ColDailyEng.total_minutes_visited])\n",
    "    engagement_record[ColDailyEng.utc_date] = parse_date(engagement_record[ColDailyEng.utc_date])\n",
    "\n",
    "daily_engagement[0]"
   ],
   "metadata": {
    "collapsed": false,
    "pycharm": {
     "name": "#%%\n"
    }
   }
  },
  {
   "cell_type": "code",
   "execution_count": 9,
   "outputs": [
    {
     "data": {
      "text/plain": "{'creation_date': datetime.datetime(2015, 1, 14, 0, 0),\n 'completion_date': datetime.datetime(2015, 1, 16, 0, 0),\n 'assigned_rating': 'UNGRADED',\n 'account_key': '256',\n 'lesson_key': '3176718735',\n 'processing_state': 'EVALUATED'}"
     },
     "execution_count": 9,
     "metadata": {},
     "output_type": "execute_result"
    }
   ],
   "source": [
    "# Clean up the data types in the submissions table\n",
    "for submission in project_submissions:\n",
    "    submission[ColProjSub.completion_date] = parse_date(submission[ColProjSub.completion_date])\n",
    "    submission[ColProjSub.creation_date] = parse_date(submission[ColProjSub.creation_date])\n",
    "\n",
    "project_submissions[0]"
   ],
   "metadata": {
    "collapsed": false,
    "pycharm": {
     "name": "#%%\n"
    }
   }
  },
  {
   "cell_type": "markdown",
   "source": [
    "## Investigating the Data"
   ],
   "metadata": {
    "collapsed": false,
    "pycharm": {
     "name": "#%% md\n"
    }
   }
  },
  {
   "cell_type": "markdown",
   "source": [
    "For each of the three tables:\n",
    "- find the number of rows\n",
    "- find the number of unique students (account keys)"
   ],
   "metadata": {
    "collapsed": false,
    "pycharm": {
     "name": "#%% md\n"
    }
   }
  },
  {
   "cell_type": "code",
   "execution_count": 10,
   "outputs": [
    {
     "name": "stdout",
     "output_type": "stream",
     "text": [
      "enrollment_num_rows= 1640\n",
      "engagement_num_rows= 136240\n",
      "submission_num_rows= 3640\n",
      "enrollment_num_unique_students= 1302\n",
      "engagement_num_unique_students= 1237\n",
      "submission_num_unique_students= 743\n"
     ]
    }
   ],
   "source": [
    "enrollment_num_rows = len(enrollments)\n",
    "engagement_num_rows = len(daily_engagement)\n",
    "submission_num_rows = len(project_submissions)\n",
    "\n",
    "enrollments_account_key_set = {e[ColEnr.account_key] for e in enrollments}\n",
    "engagement_account_key_set = {e[ColDailyEng.acct] for e in daily_engagement}\n",
    "submission_account_key_set = {e[ColProjSub.account_key] for e in project_submissions}\n",
    "\n",
    "enrollment_num_unique_students = len(enrollments_account_key_set)\n",
    "engagement_num_unique_students = len(engagement_account_key_set)\n",
    "submission_num_unique_students = len(submission_account_key_set)\n",
    "\n",
    "print('enrollment_num_rows=', enrollment_num_rows)\n",
    "print('engagement_num_rows=', engagement_num_rows)\n",
    "print('submission_num_rows=', submission_num_rows)\n",
    "print('enrollment_num_unique_students=', enrollment_num_unique_students)\n",
    "print('engagement_num_unique_students=', engagement_num_unique_students)\n",
    "print('submission_num_unique_students=', submission_num_unique_students)"
   ],
   "metadata": {
    "collapsed": false,
    "pycharm": {
     "name": "#%%\n"
    }
   }
  },
  {
   "cell_type": "markdown",
   "source": [
    "## Problems in the Data"
   ],
   "metadata": {
    "collapsed": false
   }
  },
  {
   "cell_type": "markdown",
   "source": [
    "Rename the `acct` column in the `daily_engagement` table to `account_key`."
   ],
   "metadata": {
    "collapsed": false
   }
  },
  {
   "cell_type": "code",
   "execution_count": 11,
   "outputs": [
    {
     "name": "stdout",
     "output_type": "stream",
     "text": [
      "0\n"
     ]
    }
   ],
   "source": [
    "for e in daily_engagement:\n",
    "    e[ColDailyEng.account_key] = e[ColDailyEng.acct]\n",
    "    del e[ColDailyEng.acct]\n",
    "\n",
    "print(daily_engagement[0][ColDailyEng.account_key])"
   ],
   "metadata": {
    "collapsed": false,
    "pycharm": {
     "name": "#%%\n"
    }
   }
  },
  {
   "cell_type": "markdown",
   "source": [
    "## Missing Engagement Records\n",
    "\n",
    "Find student enrollments where there is no corresponding student in the daily engagement table."
   ],
   "metadata": {
    "collapsed": false
   }
  },
  {
   "cell_type": "markdown",
   "source": [
    "First, we find the account keys present in enrollments but missing in engagements."
   ],
   "metadata": {
    "collapsed": false
   }
  },
  {
   "cell_type": "code",
   "execution_count": 12,
   "outputs": [
    {
     "name": "stdout",
     "output_type": "stream",
     "text": [
      "There are 65 account keys in enrollments table that are missing in the engagement table.\n",
      "['654', '664', '707', '711', '717', '725', '727', '728', '733', '737', '739', '749', '750', '766', '789', '799', '802', '803', '817', '819', '841', '870', '871', '875', '878', '884', '889', '902', '914', '926', '964', '968', '981', '996', '997', '1010', '1025', '1044', '1063', '1069', '1079', '1086', '1101', '1120', '1125', '1129', '1145', '1148', '1155', '1171', '1186', '1190', '1191', '1213', '1218', '1219', '1222', '1237', '1238', '1241', '1270', '1273', '1284', '1291', '1304']\n"
     ]
    }
   ],
   "source": [
    "missing_engagement_account_key_set = enrollments_account_key_set - engagement_account_key_set\n",
    "print(\"There are {} account keys in enrollments table that are missing in the engagement table.\"\n",
    "      .format(len(missing_engagement_account_key_set)))\n",
    "print(sorted(missing_engagement_account_key_set, key=lambda e: int(e)))"
   ],
   "metadata": {
    "collapsed": false,
    "pycharm": {
     "name": "#%%\n"
    }
   }
  },
  {
   "cell_type": "markdown",
   "source": [
    "Now we find the corresponding enrollment records"
   ],
   "metadata": {
    "collapsed": false,
    "pycharm": {
     "name": "#%% md\n"
    }
   }
  },
  {
   "cell_type": "code",
   "execution_count": 13,
   "outputs": [],
   "source": [
    "enrollments_without_engagement = [e for e in enrollments if e[ColDailyEng.account_key] in missing_engagement_account_key_set]\n"
   ],
   "metadata": {
    "collapsed": false,
    "pycharm": {
     "name": "#%%\n"
    }
   }
  },
  {
   "cell_type": "markdown",
   "source": [
    "Print some of the records"
   ],
   "metadata": {
    "collapsed": false,
    "pycharm": {
     "name": "#%% md\n"
    }
   }
  },
  {
   "cell_type": "code",
   "execution_count": 14,
   "outputs": [
    {
     "name": "stdout",
     "output_type": "stream",
     "text": [
      "{'account_key': '1219', 'status': 'canceled', 'join_date': datetime.datetime(2014, 11, 12, 0, 0), 'cancel_date': datetime.datetime(2014, 11, 12, 0, 0), 'days_to_cancel': 0, 'is_udacity': False, 'is_canceled': True}\n",
      "{'account_key': '871', 'status': 'canceled', 'join_date': datetime.datetime(2014, 11, 13, 0, 0), 'cancel_date': datetime.datetime(2014, 11, 13, 0, 0), 'days_to_cancel': 0, 'is_udacity': False, 'is_canceled': True}\n",
      "{'account_key': '1218', 'status': 'canceled', 'join_date': datetime.datetime(2014, 11, 15, 0, 0), 'cancel_date': datetime.datetime(2014, 11, 15, 0, 0), 'days_to_cancel': 0, 'is_udacity': False, 'is_canceled': True}\n",
      "{'account_key': '654', 'status': 'canceled', 'join_date': datetime.datetime(2014, 12, 4, 0, 0), 'cancel_date': datetime.datetime(2014, 12, 4, 0, 0), 'days_to_cancel': 0, 'is_udacity': False, 'is_canceled': True}\n",
      "{'account_key': '654', 'status': 'canceled', 'join_date': datetime.datetime(2014, 12, 4, 0, 0), 'cancel_date': datetime.datetime(2014, 12, 4, 0, 0), 'days_to_cancel': 0, 'is_udacity': False, 'is_canceled': True}\n"
     ]
    }
   ],
   "source": [
    "for e in enrollments_without_engagement[:5]:\n",
    "    print(e)"
   ],
   "metadata": {
    "collapsed": false,
    "pycharm": {
     "name": "#%%\n"
    }
   }
  },
  {
   "cell_type": "markdown",
   "source": [
    "## Checking for More Problem Records\n",
    "\n",
    "Now, find the number of surprising records from enrollment table\n",
    "that are missing in the engagment table\n",
    "but still have _not_ been canceled on the same day."
   ],
   "metadata": {
    "collapsed": false
   }
  },
  {
   "cell_type": "code",
   "execution_count": 15,
   "outputs": [
    {
     "name": "stdout",
     "output_type": "stream",
     "text": [
      "There are 3 enrollment records without corresponging engagement records, which do have not been canceled on same day:\n",
      "{'account_key': '1304', 'status': 'canceled', 'join_date': datetime.datetime(2015, 1, 10, 0, 0), 'cancel_date': datetime.datetime(2015, 3, 10, 0, 0), 'days_to_cancel': 59, 'is_udacity': True, 'is_canceled': True}\n",
      "{'account_key': '1304', 'status': 'canceled', 'join_date': datetime.datetime(2015, 3, 10, 0, 0), 'cancel_date': datetime.datetime(2015, 6, 17, 0, 0), 'days_to_cancel': 99, 'is_udacity': True, 'is_canceled': True}\n",
      "{'account_key': '1101', 'status': 'current', 'join_date': datetime.datetime(2015, 2, 25, 0, 0), 'cancel_date': None, 'days_to_cancel': None, 'is_udacity': True, 'is_canceled': False}\n"
     ]
    }
   ],
   "source": [
    "enrollments_without_engagement_not_canceled_on_same_day = [\n",
    "    e for e in enrollments_without_engagement\n",
    "    if e[ColEnr.cancel_date] is None or e[ColEnr.cancel_date] > e[ColEnr.join_date] ]\n",
    "\n",
    "print(\"There are {} enrollment records without corresponging engagement records, \"\n",
    "      \"which do have not been canceled on same day:\".format(len(enrollments_without_engagement_not_canceled_on_same_day)))\n",
    "for e in enrollments_without_engagement_not_canceled_on_same_day:\n",
    "    print(e)"
   ],
   "metadata": {
    "collapsed": false,
    "pycharm": {
     "name": "#%%\n"
    }
   }
  },
  {
   "cell_type": "markdown",
   "source": [
    "These surprising records are udacity test accounts: this information has been given in the lesson video.\n",
    "Now we want to find all test accounts and exclude them from the data."
   ],
   "metadata": {
    "collapsed": false,
    "pycharm": {
     "name": "#%% md\n"
    }
   }
  },
  {
   "cell_type": "code",
   "execution_count": 16,
   "outputs": [
    {
     "name": "stdout",
     "output_type": "stream",
     "text": [
      "There are 6 test accounts in the enrollments table:\n",
      "{'312', '1101', '1304', '1069', '818', '448'}\n"
     ]
    }
   ],
   "source": [
    "udacity_test_account_keys = {e[ColEnr.account_key] for e in enrollments if e[ColEnr.is_udacity]}\n",
    "print(\"There are {} test accounts in the enrollments table:\".format(len(udacity_test_account_keys)))\n",
    "print(udacity_test_account_keys)"
   ],
   "metadata": {
    "collapsed": false,
    "pycharm": {
     "name": "#%%\n"
    }
   }
  },
  {
   "cell_type": "markdown",
   "source": [
    "We remove the udacity test accounts from the data"
   ],
   "metadata": {
    "collapsed": false,
    "pycharm": {
     "name": "#%% md\n"
    }
   }
  },
  {
   "cell_type": "code",
   "execution_count": 17,
   "outputs": [
    {
     "name": "stdout",
     "output_type": "stream",
     "text": [
      "Number of non-test accounts in\n",
      "- enrollments table: 1622\n",
      "- daily engagement table: 135656\n",
      "- project submissions table: 3632\n"
     ]
    }
   ],
   "source": [
    "filter_non_test_accounts = lambda records, account_key_col: [e for e in records if e[account_key_col] not in udacity_test_account_keys]\n",
    "non_test_enrollments = filter_non_test_accounts(enrollments, ColEnr.account_key)\n",
    "non_test_daily_engagement = filter_non_test_accounts(daily_engagement, ColDailyEng.account_key)\n",
    "non_test_project_submissions = filter_non_test_accounts(project_submissions, ColProjSub.account_key)\n",
    "\n",
    "print(\"Number of non-test accounts in\")\n",
    "print(\"- enrollments table:\", len(non_test_enrollments))\n",
    "print(\"- daily engagement table:\", len(non_test_daily_engagement))\n",
    "print(\"- project submissions table:\", len(non_test_project_submissions))\n"
   ],
   "metadata": {
    "collapsed": false,
    "pycharm": {
     "name": "#%%\n"
    }
   }
  },
  {
   "cell_type": "markdown",
   "source": [
    "## Refining the Question"
   ],
   "metadata": {
    "collapsed": false
   }
  },
  {
   "cell_type": "markdown",
   "source": [
    "Find students that haven't canceled yet or remained enrolled for more than 7 days."
   ],
   "metadata": {
    "collapsed": false,
    "pycharm": {
     "name": "#%% md\n"
    }
   }
  },
  {
   "cell_type": "code",
   "execution_count": 18,
   "outputs": [
    {
     "data": {
      "text/plain": "995"
     },
     "execution_count": 18,
     "metadata": {},
     "output_type": "execute_result"
    }
   ],
   "source": [
    "paid_students = { e[ColEnr.account_key]:e[ColEnr.join_date] for e in non_test_enrollments\n",
    "                  if not e[ColEnr.is_canceled] or e[ColEnr.days_to_cancel] > 7 }\n",
    "len(paid_students)"
   ],
   "metadata": {
    "collapsed": false,
    "pycharm": {
     "name": "#%%\n"
    }
   }
  },
  {
   "cell_type": "markdown",
   "source": [
    "Now we also include an additional requirement to store the latest enrollment date for each student."
   ],
   "metadata": {
    "collapsed": false
   }
  },
  {
   "cell_type": "code",
   "execution_count": 19,
   "outputs": [
    {
     "data": {
      "text/plain": "995"
     },
     "execution_count": 19,
     "metadata": {},
     "output_type": "execute_result"
    }
   ],
   "source": [
    "old_paid_students = paid_students\n",
    "paid_students = dict()\n",
    "for e in non_test_enrollments:\n",
    "    if not e[ColEnr.is_canceled] or e[ColEnr.days_to_cancel] > 7:\n",
    "        acc_key = e[ColEnr.account_key]\n",
    "        join_date = e[ColEnr.join_date]\n",
    "        curr_value = paid_students.get(acc_key, None)\n",
    "        if curr_value is None or join_date > curr_value:\n",
    "            paid_students[acc_key] = join_date\n",
    "\n",
    "len(paid_students)"
   ],
   "metadata": {
    "collapsed": false,
    "pycharm": {
     "name": "#%%\n"
    }
   }
  },
  {
   "cell_type": "code",
   "execution_count": 20,
   "outputs": [
    {
     "name": "stdout",
     "output_type": "stream",
     "text": [
      "The resulting dictionary is different.\n"
     ]
    }
   ],
   "source": [
    "result_has_changed = set(old_paid_students.values()) != set(paid_students.values())\n",
    "print(\"The resulting dictionary is\", \"different.\" if result_has_changed else \"the same.\")"
   ],
   "metadata": {
    "collapsed": false,
    "pycharm": {
     "name": "#%%\n"
    }
   }
  },
  {
   "cell_type": "markdown",
   "source": [
    "## Getting Data from the First Week"
   ],
   "metadata": {
    "collapsed": false
   }
  },
  {
   "cell_type": "markdown",
   "source": [
    "<a id='calculation-of-paid_daily_engagement_first_week'></a>\n",
    "\n",
    "We filter the engagement records in the first week.\n",
    "The calculation has been fixed as explained [here](#fixing-calculation-of-paid_daily_engagement_first_week)."
   ],
   "metadata": {
    "collapsed": false
   }
  },
  {
   "cell_type": "code",
   "execution_count": 21,
   "outputs": [
    {
     "data": {
      "text/plain": "6919"
     },
     "execution_count": 21,
     "metadata": {},
     "output_type": "execute_result"
    }
   ],
   "source": [
    "paid_daily_engagement_first_week = []\n",
    "for e in non_test_daily_engagement:\n",
    "    acc_key = e[ColDailyEng.account_key]\n",
    "    eng_date = e[ColDailyEng.utc_date]\n",
    "    join_date = paid_students.get(acc_key, None)\n",
    "    # if join_date is not None and (eng_date - join_date).days < 7: # fixed after debugging\n",
    "    if join_date is not None and join_date <= eng_date and (eng_date - join_date).days < 7:\n",
    "        paid_daily_engagement_first_week.append(e)\n",
    "\n",
    "len(paid_daily_engagement_first_week)"
   ],
   "metadata": {
    "collapsed": false,
    "pycharm": {
     "name": "#%%\n"
    }
   }
  },
  {
   "cell_type": "markdown",
   "source": [
    "## Exploring Student Engagement"
   ],
   "metadata": {
    "collapsed": false
   }
  },
  {
   "cell_type": "markdown",
   "source": [
    "### Intro code\n",
    "\n",
    "Some intro code was provided by Udacity in the `L1_Starter_Code.ipynb` Jupyter notebook.\n",
    "I've partially refactored it and added some util functions."
   ],
   "metadata": {
    "collapsed": false
   }
  },
  {
   "cell_type": "code",
   "execution_count": 22,
   "outputs": [],
   "source": [
    "from collections import defaultdict\n",
    "\n",
    "def group_by(values, key_fun):\n",
    "    \"\"\"\n",
    "    :param values: groups the values by given key extractor function\n",
    "    :param key_fun: key extractor fuction\n",
    "    :return: a new dictionary containing for each key a list of values mapped to it\n",
    "    \"\"\"\n",
    "    res = defaultdict(list)\n",
    "    for e in values:\n",
    "        key = key_fun(e)\n",
    "        res[key].append(e)\n",
    "    return res\n",
    "\n",
    "def sum_values_by(dict, value_fun=None):\n",
    "    \"\"\"\n",
    "    :param dict: maps keys to a collection of values\n",
    "    :param value_fun: if specified then will be applied to extract the value to be summed\n",
    "    :return: a new dict with each key mapped to the sum of corresponding collection values\n",
    "    \"\"\"\n",
    "    return {key : sum(values if value_fun is None else map(value_fun, values))\n",
    "            for (key, values) in dict.items()}"
   ],
   "metadata": {
    "collapsed": false,
    "pycharm": {
     "name": "#%%\n"
    }
   }
  },
  {
   "cell_type": "markdown",
   "source": [
    "Compute a dict mapping each account key to a list of its engagement records."
   ],
   "metadata": {
    "collapsed": false,
    "pycharm": {
     "name": "#%% md\n"
    }
   }
  },
  {
   "cell_type": "code",
   "execution_count": 23,
   "outputs": [],
   "source": [
    "engagement_by_account = group_by(paid_daily_engagement_first_week, lambda e: e[ColDailyEng.account_key])"
   ],
   "metadata": {
    "collapsed": false,
    "pycharm": {
     "name": "#%%\n"
    }
   }
  },
  {
   "cell_type": "markdown",
   "source": [
    "Define functions to calculate sums by account."
   ],
   "metadata": {
    "collapsed": false,
    "pycharm": {
     "name": "#%% md\n"
    }
   }
  },
  {
   "cell_type": "code",
   "execution_count": 24,
   "outputs": [],
   "source": [
    "import numpy as np\n",
    "\n",
    "def sum_engagement_by_account(col_name: str) -> dict:\n",
    "    return {acc_key : sum([e[col_name] for e in eng_rec_list])\n",
    "            for (acc_key, eng_rec_list) in engagement_by_account.items()}\n",
    "\n",
    "def print_values_stats(data, heading:str = None):\n",
    "    if heading is not None: print(heading)\n",
    "    values = list(data.values()) if isinstance(data, dict) else data\n",
    "    print(\"Number of values:\", len(values))\n",
    "    print(\"Mean:\", np.mean(values))\n",
    "    print(\"Standard deviation:\", np.std(values))\n",
    "    print(\"Min:\", np.min(values))\n",
    "    print(\"Max:\", np.max(values))"
   ],
   "metadata": {
    "collapsed": false,
    "pycharm": {
     "name": "#%%\n"
    }
   }
  },
  {
   "cell_type": "markdown",
   "source": [
    "Calculate total minutes of engagement by account and print some statistics."
   ],
   "metadata": {
    "collapsed": false,
    "pycharm": {
     "name": "#%% md\n"
    }
   }
  },
  {
   "cell_type": "code",
   "execution_count": 25,
   "outputs": [
    {
     "name": "stdout",
     "output_type": "stream",
     "text": [
      "Number of values: 995\n",
      "Mean: 306.70832675342825\n",
      "Standard deviation: 412.99693340852957\n",
      "Min: 0.0\n",
      "Max: 3564.7332644989997\n"
     ]
    }
   ],
   "source": [
    "total_minutes_by_account = sum_engagement_by_account(ColDailyEng.total_minutes_visited)\n",
    "print_values_stats(total_minutes_by_account)"
   ],
   "metadata": {
    "collapsed": false,
    "pycharm": {
     "name": "#%%\n"
    }
   }
  },
  {
   "cell_type": "markdown",
   "source": [
    "## Debugging Data Analysis Code"
   ],
   "metadata": {
    "collapsed": false,
    "pycharm": {
     "name": "#%% md\n"
    }
   }
  },
  {
   "cell_type": "markdown",
   "source": [
    "Find student with max total_minutes"
   ],
   "metadata": {
    "collapsed": false
   }
  },
  {
   "cell_type": "code",
   "execution_count": 26,
   "outputs": [
    {
     "name": "stdout",
     "output_type": "stream",
     "text": [
      "Account key having max total minutes: 163\n"
     ]
    },
    {
     "data": {
      "text/plain": "[{'utc_date': datetime.datetime(2015, 7, 9, 0, 0),\n  'num_courses_visited': 4,\n  'total_minutes_visited': 850.519339666,\n  'lessons_completed': 4,\n  'projects_completed': 0,\n  'account_key': '163'},\n {'utc_date': datetime.datetime(2015, 7, 10, 0, 0),\n  'num_courses_visited': 6,\n  'total_minutes_visited': 872.633923334,\n  'lessons_completed': 6,\n  'projects_completed': 0,\n  'account_key': '163'},\n {'utc_date': datetime.datetime(2015, 7, 11, 0, 0),\n  'num_courses_visited': 2,\n  'total_minutes_visited': 777.018903666,\n  'lessons_completed': 6,\n  'projects_completed': 0,\n  'account_key': '163'},\n {'utc_date': datetime.datetime(2015, 7, 12, 0, 0),\n  'num_courses_visited': 1,\n  'total_minutes_visited': 294.568774,\n  'lessons_completed': 2,\n  'projects_completed': 0,\n  'account_key': '163'},\n {'utc_date': datetime.datetime(2015, 7, 13, 0, 0),\n  'num_courses_visited': 3,\n  'total_minutes_visited': 471.2139785,\n  'lessons_completed': 1,\n  'projects_completed': 0,\n  'account_key': '163'},\n {'utc_date': datetime.datetime(2015, 7, 14, 0, 0),\n  'num_courses_visited': 2,\n  'total_minutes_visited': 298.778345333,\n  'lessons_completed': 1,\n  'projects_completed': 0,\n  'account_key': '163'},\n {'utc_date': datetime.datetime(2015, 7, 15, 0, 0),\n  'num_courses_visited': 0,\n  'total_minutes_visited': 0.0,\n  'lessons_completed': 0,\n  'projects_completed': 0,\n  'account_key': '163'}]"
     },
     "execution_count": 26,
     "metadata": {},
     "output_type": "execute_result"
    }
   ],
   "source": [
    "\n",
    "acc_key_with_max_minutes = max(total_minutes_by_account.keys(), key=lambda acc_key: total_minutes_by_account[acc_key])\n",
    "print(\"Account key having max total minutes:\", acc_key_with_max_minutes)\n",
    "\n",
    "engagement_by_account[acc_key_with_max_minutes]"
   ],
   "metadata": {
    "collapsed": false,
    "pycharm": {
     "name": "#%%\n"
    }
   }
  },
  {
   "cell_type": "markdown",
   "source": [
    "<a id='fixing-calculation-of-paid_daily_engagement_first_week'></a>\n",
    "\n",
    "The account with maximum sum of engagement minutes has more than 10000 minutes, which is impossible for a week.\n",
    "Having a look at its engagements  we notice they were not limited to only one week, as they should have been.\n",
    "As explained in the lesson video this can happen, when a student joined, canceled, and then joined again,\n",
    "thus possibly having engagements _before_ this rejoining date.\n",
    "To fix that we go back to the\n",
    "[calculation of paid_daily_engagement_first_week](#calculation-of-paid_daily_engagement_first_week),\n",
    "add the condition that the engagement date must be _after_ the join date, and re-run the cells.\n",
    "\n",
    "After the fix and re-calculation, we get only 7 engagement records in the first week, which is alright.\n",
    "The total engagement time of 3564 minutes = 59.4 hours in the week is quite a lot, but possible."
   ],
   "metadata": {
    "collapsed": false,
    "pycharm": {
     "name": "#%% md\n"
    }
   }
  },
  {
   "cell_type": "markdown",
   "source": [
    "## Lessons Completed in First Week\n",
    "\n",
    "Count completed lessons by account and print some statistics."
   ],
   "metadata": {
    "collapsed": false,
    "pycharm": {
     "name": "#%% md\n"
    }
   }
  },
  {
   "cell_type": "code",
   "execution_count": 27,
   "outputs": [
    {
     "name": "stdout",
     "output_type": "stream",
     "text": [
      "Number of values: 995\n",
      "Mean: 1.636180904522613\n",
      "Standard deviation: 3.002561299829423\n",
      "Min: 0\n",
      "Max: 36\n"
     ]
    }
   ],
   "source": [
    "lessons_completed_by_account = sum_engagement_by_account(ColDailyEng.lessons_completed)\n",
    "print_values_stats(lessons_completed_by_account)"
   ],
   "metadata": {
    "collapsed": false,
    "pycharm": {
     "name": "#%%\n"
    }
   }
  },
  {
   "cell_type": "markdown",
   "source": [
    "## Number of Visits in First Week\n",
    "\n",
    "Count the days on which a student visited at least one course."
   ],
   "metadata": {
    "collapsed": false,
    "pycharm": {
     "name": "#%% md\n"
    }
   }
  },
  {
   "cell_type": "code",
   "execution_count": 28,
   "outputs": [
    {
     "name": "stdout",
     "output_type": "stream",
     "text": [
      "Number of values: 995\n",
      "Mean: 2.8673366834170855\n",
      "Standard deviation: 2.2551980029196814\n",
      "Min: 0\n",
      "Max: 7\n"
     ]
    }
   ],
   "source": [
    "for engagements in engagement_by_account.values():\n",
    "    for e in engagements:\n",
    "        e['has_visited'] = 1 if e[ColDailyEng.num_courses_visited] > 0 else 0\n",
    "\n",
    "visits_by_account = sum_engagement_by_account('has_visited')\n",
    "print_values_stats(visits_by_account)"
   ],
   "metadata": {
    "collapsed": false,
    "pycharm": {
     "name": "#%%\n"
    }
   }
  },
  {
   "cell_type": "markdown",
   "source": [
    "## Splitting out Passing Students"
   ],
   "metadata": {
    "collapsed": false
   }
  },
  {
   "cell_type": "markdown",
   "source": [
    "First, find the project submissions that have on of the given lesson keys."
   ],
   "metadata": {
    "collapsed": false
   }
  },
  {
   "cell_type": "code",
   "execution_count": 29,
   "outputs": [
    {
     "name": "stdout",
     "output_type": "stream",
     "text": [
      "1511 project submissions for given lesson keys.\n"
     ]
    }
   ],
   "source": [
    "subway_project_lesson_keys = ['746169184', '3176718735']\n",
    "subway_project_submissions = list(filter(lambda x: x[ColProjSub.lesson_key] in subway_project_lesson_keys,  project_submissions))\n",
    "print(\"{} project submissions for given lesson keys.\".format(len(subway_project_submissions)))"
   ],
   "metadata": {
    "collapsed": false,
    "pycharm": {
     "name": "#%%\n"
    }
   }
  },
  {
   "cell_type": "markdown",
   "source": [
    "Next, find the account keys that have successfully passed the project at some time."
   ],
   "metadata": {
    "collapsed": false
   }
  },
  {
   "cell_type": "code",
   "source": [
    "passed_ratings = ['PASSED', 'DISTINCTION']\n",
    "account_keys_passed = set()\n",
    "for e in subway_project_submissions:\n",
    "    if e[ColProjSub.assigned_rating] in passed_ratings:\n",
    "        account_keys_passed.add(e[ColProjSub.account_key])\n",
    "\n",
    "len(account_keys_passed)"
   ],
   "metadata": {
    "collapsed": false,
    "pycharm": {
     "name": "#%%\n"
    }
   },
   "execution_count": 30,
   "outputs": [
    {
     "data": {
      "text/plain": "653"
     },
     "execution_count": 30,
     "metadata": {},
     "output_type": "execute_result"
    }
   ]
  },
  {
   "cell_type": "markdown",
   "source": [
    "Now, we count assignment entries for students, which have successfully passed the subway project at some time."
   ],
   "metadata": {
    "collapsed": false,
    "pycharm": {
     "name": "#%% md\n"
    }
   }
  },
  {
   "cell_type": "code",
   "execution_count": 31,
   "outputs": [
    {
     "name": "stdout",
     "output_type": "stream",
     "text": [
      "4527 passing engagements\n",
      "2392 non-passing engagements\n"
     ]
    }
   ],
   "source": [
    "passing_engagement = list(filter(lambda e: e[ColDailyEng.account_key] in account_keys_passed, paid_daily_engagement_first_week))\n",
    "non_passing_engagement = list(filter(lambda e: e[ColDailyEng.account_key] not in account_keys_passed, paid_daily_engagement_first_week))\n",
    "\n",
    "print(\"{} passing engagements\".format(len(passing_engagement)))\n",
    "print(\"{} non-passing engagements\".format(len(non_passing_engagement)))"
   ],
   "metadata": {
    "collapsed": false,
    "pycharm": {
     "name": "#%%\n"
    }
   }
  },
  {
   "cell_type": "markdown",
   "source": [
    "## Comparing the Two Student Groups"
   ],
   "metadata": {
    "collapsed": false,
    "pycharm": {
     "name": "#%% md\n"
    }
   }
  },
  {
   "cell_type": "markdown",
   "source": [
    "First, we group the passing and non-passing engagement records by account key."
   ],
   "metadata": {
    "collapsed": false
   }
  },
  {
   "cell_type": "code",
   "source": [
    "passing_engagement_by_account = group_by(passing_engagement, lambda e: e[ColDailyEng.account_key])\n",
    "non_passing_engagement_by_account = group_by(non_passing_engagement, lambda e: e[ColDailyEng.account_key])"
   ],
   "metadata": {
    "collapsed": false,
    "pycharm": {
     "name": "#%%\n"
    }
   },
   "execution_count": 32,
   "outputs": []
  },
  {
   "cell_type": "markdown",
   "source": [
    "Calculate the total minutes per account."
   ],
   "metadata": {
    "collapsed": false,
    "pycharm": {
     "name": "#%% md\n"
    }
   }
  },
  {
   "cell_type": "code",
   "execution_count": 33,
   "outputs": [
    {
     "name": "stdout",
     "output_type": "stream",
     "text": [
      "Statistics for total minutes in passing engagement records\n",
      "Number of values: 647\n",
      "Mean: 394.58604648350865\n",
      "Standard deviation: 448.4995193265521\n",
      "Min: 0.0\n",
      "Max: 3564.7332644989997\n",
      "Statistics for total minutes in non-passing engagement records\n",
      "Number of values: 348\n",
      "Mean: 143.32647426675584\n",
      "Standard deviation: 269.5386190114951\n",
      "Min: 0.0\n",
      "Max: 1768.5227493319999\n"
     ]
    }
   ],
   "source": [
    "passing_engagement_by_account_total_minutes_visited = sum_values_by(\n",
    "    passing_engagement_by_account, lambda x: x[ColDailyEng.total_minutes_visited])\n",
    "non_passing_engagement_by_account_total_minutes_visited = sum_values_by(\n",
    "    non_passing_engagement_by_account, lambda x: x[ColDailyEng.total_minutes_visited])\n",
    "\n",
    "print_values_stats(list(passing_engagement_by_account_total_minutes_visited.values()),\n",
    "                   heading=\"Statistics for total minutes in passing engagement records\")\n",
    "print_values_stats(list(non_passing_engagement_by_account_total_minutes_visited.values()),\n",
    "                   heading=\"Statistics for total minutes in non-passing engagement records\")"
   ],
   "metadata": {
    "collapsed": false,
    "pycharm": {
     "name": "#%%\n"
    }
   }
  },
  {
   "cell_type": "markdown",
   "source": [
    "Calculate the lessons completed per account."
   ],
   "metadata": {
    "collapsed": false,
    "pycharm": {
     "name": "#%% md\n"
    }
   }
  },
  {
   "cell_type": "code",
   "execution_count": 34,
   "outputs": [
    {
     "name": "stdout",
     "output_type": "stream",
     "text": [
      "Statistics for lessons completed in passing engagement records\n",
      "Number of values: 647\n",
      "Mean: 2.052550231839258\n",
      "Standard deviation: 3.1422270555779344\n",
      "Min: 0\n",
      "Max: 36\n",
      "Statistics for lessons completed in non-passing engagement records\n",
      "Number of values: 348\n",
      "Mean: 0.8620689655172413\n",
      "Standard deviation: 2.5491599418312028\n",
      "Min: 0\n",
      "Max: 27\n"
     ]
    }
   ],
   "source": [
    "passing_engagement_by_account_lessons_completed = sum_values_by(\n",
    "    passing_engagement_by_account, lambda x: x[ColDailyEng.lessons_completed])\n",
    "non_passing_engagement_by_account_lessons_completed = sum_values_by(\n",
    "    non_passing_engagement_by_account, lambda x: x[ColDailyEng.lessons_completed])\n",
    "\n",
    "print_values_stats(list(passing_engagement_by_account_lessons_completed.values()),\n",
    "                   heading=\"Statistics for lessons completed in passing engagement records\")\n",
    "print_values_stats(list(non_passing_engagement_by_account_lessons_completed.values()),\n",
    "                   heading=\"Statistics for lessons completed in non-passing engagement records\")"
   ],
   "metadata": {
    "collapsed": false,
    "pycharm": {
     "name": "#%%\n"
    }
   }
  },
  {
   "cell_type": "markdown",
   "source": [
    "Calculate the days visited per account."
   ],
   "metadata": {
    "collapsed": false
   }
  },
  {
   "cell_type": "code",
   "execution_count": 35,
   "outputs": [
    {
     "name": "stdout",
     "output_type": "stream",
     "text": [
      "Statistics for days visited in passing engagement records\n",
      "Number of values: 647\n",
      "Mean: 3.384853168469861\n",
      "Standard deviation: 2.2588214709184595\n",
      "Min: 0\n",
      "Max: 7\n",
      "Statistics for days visited in non-passing engagement records\n",
      "Number of values: 348\n",
      "Mean: 1.9051724137931034\n",
      "Standard deviation: 1.9057314413619046\n",
      "Min: 0\n",
      "Max: 7\n"
     ]
    }
   ],
   "source": [
    "passing_engagement_by_account_days_visited = sum_values_by(\n",
    "    passing_engagement_by_account, lambda x: 1 if x[ColDailyEng.total_minutes_visited] > 0 else 0)\n",
    "non_passing_engagement_by_account_days_visited = sum_values_by(\n",
    "    non_passing_engagement_by_account, lambda x: 1 if x[ColDailyEng.total_minutes_visited] > 0 else 0)\n",
    "\n",
    "print_values_stats(list(passing_engagement_by_account_days_visited.values()),\n",
    "                   heading=\"Statistics for days visited in passing engagement records\")\n",
    "print_values_stats(list(non_passing_engagement_by_account_days_visited.values()),\n",
    "                   heading=\"Statistics for days visited in non-passing engagement records\")\n"
   ],
   "metadata": {
    "collapsed": false,
    "pycharm": {
     "name": "#%%\n"
    }
   }
  },
  {
   "cell_type": "markdown",
   "source": [
    "## Making Histograms\n"
   ],
   "metadata": {
    "collapsed": false,
    "pycharm": {
     "name": "#%% md\n"
    }
   }
  },
  {
   "cell_type": "code",
   "execution_count": 51,
   "outputs": [],
   "source": [
    "import matplotlib.pyplot as plt\n",
    "import seaborn as sns\n",
    "sns.set()"
   ],
   "metadata": {
    "collapsed": false,
    "pycharm": {
     "name": "#%%\n"
    }
   }
  },
  {
   "cell_type": "markdown",
   "source": [
    "Make histograms for the three metrics (minutes visited, lessons completed, days visited) for\n",
    "passing and non-passing engagement records."
   ],
   "metadata": {
    "collapsed": false
   }
  },
  {
   "cell_type": "code",
   "execution_count": 52,
   "outputs": [
    {
     "data": {
      "text/plain": "(array([226.,  46.,  21.,  13.,  12.,   5.,   1.,   8.,   3.,   3.,   2.,\n          0.,   1.,   0.,   1.,   4.,   0.,   0.,   0.,   2.]),\n array([   0.        ,   88.42613747,  176.85227493,  265.2784124 ,\n         353.70454987,  442.13068733,  530.5568248 ,  618.98296227,\n         707.40909973,  795.8352372 ,  884.26137467,  972.68751213,\n        1061.1136496 , 1149.53978707, 1237.96592453, 1326.392062  ,\n        1414.81819947, 1503.24433693, 1591.6704744 , 1680.09661187,\n        1768.52274933]),\n <BarContainer object of 20 artists>)"
     },
     "execution_count": 52,
     "metadata": {},
     "output_type": "execute_result"
    },
    {
     "data": {
      "text/plain": "<Figure size 432x288 with 1 Axes>",
      "image/png": "[encoded data removed]"
     },
     "metadata": {
      "needs_background": "light"
     },
     "output_type": "display_data"
    }
   ],
   "source": [
    "%matplotlib inline\n",
    "plt.title('Time spent by students in classroom')\n",
    "plt.xlabel(\"Students\")\n",
    "plt.ylabel(\"Total minutes visited\")\n",
    "plt.hist(passing_engagement_by_account_total_minutes_visited.values(), bins=20)\n",
    "plt.hist(non_passing_engagement_by_account_total_minutes_visited.values(), bins=20)"
   ],
   "metadata": {
    "collapsed": false,
    "pycharm": {
     "name": "#%%\n"
    }
   }
  },
  {
   "cell_type": "code",
   "execution_count": 53,
   "outputs": [
    {
     "data": {
      "text/plain": "(array([302.,  15.,  12.,   5.,   2.,   4.,   3.,   1.,   1.,   0.,   0.,\n          1.,   0.,   0.,   1.,   0.,   0.,   0.,   0.,   1.]),\n array([ 0.  ,  1.35,  2.7 ,  4.05,  5.4 ,  6.75,  8.1 ,  9.45, 10.8 ,\n        12.15, 13.5 , 14.85, 16.2 , 17.55, 18.9 , 20.25, 21.6 , 22.95,\n        24.3 , 25.65, 27.  ]),\n <BarContainer object of 20 artists>)"
     },
     "execution_count": 53,
     "metadata": {},
     "output_type": "execute_result"
    },
    {
     "data": {
      "text/plain": "<Figure size 432x288 with 1 Axes>",
      "image/png": "[encoded data removed]"
     },
     "metadata": {
      "needs_background": "light"
     },
     "output_type": "display_data"
    }
   ],
   "source": [
    "%matplotlib inline\n",
    "plt.title('Lessons completed by students')\n",
    "plt.xlabel(\"Students\")\n",
    "plt.ylabel(\"Lessons completed\")\n",
    "plt.hist(passing_engagement_by_account_lessons_completed.values(), bins=20)\n",
    "plt.hist(non_passing_engagement_by_account_lessons_completed.values(), bins=20)"
   ],
   "metadata": {
    "collapsed": false,
    "pycharm": {
     "name": "#%%\n"
    }
   }
  },
  {
   "cell_type": "code",
   "execution_count": 54,
   "outputs": [
    {
     "data": {
      "text/plain": "(array([97., 90., 56., 41., 15., 24., 17.,  8.]),\n array([0.   , 0.875, 1.75 , 2.625, 3.5  , 4.375, 5.25 , 6.125, 7.   ]),\n <BarContainer object of 8 artists>)"
     },
     "execution_count": 54,
     "metadata": {},
     "output_type": "execute_result"
    },
    {
     "data": {
      "text/plain": "<Figure size 432x288 with 1 Axes>",
      "image/png": "[encoded data removed]"
     },
     "metadata": {
      "needs_background": "light"
     },
     "output_type": "display_data"
    }
   ],
   "source": [
    "%matplotlib inline\n",
    "plt.xlabel(\"Students\")\n",
    "plt.ylabel(\"Days visited\")\n",
    "plt.title('Days visited in first week by students')\n",
    "plt.hist(passing_engagement_by_account_days_visited.values(), bins=8)\n",
    "plt.hist(non_passing_engagement_by_account_days_visited.values(), bins=8)"
   ],
   "metadata": {
    "collapsed": false,
    "pycharm": {
     "name": "#%%\n"
    }
   }
  },
  {
   "cell_type": "code",
   "execution_count": 39,
   "outputs": [],
   "source": [],
   "metadata": {
    "collapsed": false,
    "pycharm": {
     "name": "#%%\n"
    }
   }
  }
 ],
 "metadata": {
  "kernelspec": {
   "name": "pycharm-aa33d817",
   "language": "python",
   "display_name": "PyCharm (python-examples)"
  },
  "language_info": {
   "codemirror_mode": {
    "name": "ipython",
    "version": 2
   },
   "file_extension": ".py",
   "mimetype": "text/x-python",
   "name": "python",
   "nbconvert_exporter": "python",
   "pygments_lexer": "ipython2",
   "version": "2.7.6"
  }
 },
 "nbformat": 4,
 "nbformat_minor": 0
}