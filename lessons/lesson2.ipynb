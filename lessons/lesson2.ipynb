{
 "cells": [
  {
   "cell_type": "markdown",
   "metadata": {},
   "source": [
    "# Lesson 2: NumPy and Pandas for 1D Data"
   ]
  },
  {
   "cell_type": "markdown",
   "metadata": {},
   "source": [
    "## Load Data from CSV"
   ]
  },
  {
   "cell_type": "code",
   "execution_count": 1,
   "metadata": {
    "pycharm": {
     "name": "#%%\n"
    }
   },
   "outputs": [
    {
     "data": {
      "text/plain": "       Country       1991       1992       1993       1994       1995  \\\n0  Afghanistan  56.700001  56.500000  56.599998  56.200001  56.200001   \n1      Albania  52.700001  52.299999  52.400002  52.700001  52.799999   \n\n        1996       1997       1998       1999       2000       2001  \\\n0  56.099998  56.200001  56.200001  56.099998  56.099998  56.500000   \n1  52.599998  52.400002  52.099998  52.099998  51.900002  51.799999   \n\n        2002       2003       2004  2005       2006       2007  \n0  56.400002  54.400002  56.000000  54.0  56.000000  55.700001  \n1  51.799999  51.799999  51.700001  51.5  51.400002  51.400002  ",
      "text/html": "<div>\n<style scoped>\n    .dataframe tbody tr th:only-of-type {\n        vertical-align: middle;\n    }\n\n    .dataframe tbody tr th {\n        vertical-align: top;\n    }\n\n    .dataframe thead th {\n        text-align: right;\n    }\n</style>\n<table border=\"1\" class=\"dataframe\">\n  <thead>\n    <tr style=\"text-align: right;\">\n      <th></th>\n      <th>Country</th>\n      <th>1991</th>\n      <th>1992</th>\n      <th>1993</th>\n      <th>1994</th>\n      <th>1995</th>\n      <th>1996</th>\n      <th>1997</th>\n      <th>1998</th>\n      <th>1999</th>\n      <th>2000</th>\n      <th>2001</th>\n      <th>2002</th>\n      <th>2003</th>\n      <th>2004</th>\n      <th>2005</th>\n      <th>2006</th>\n      <th>2007</th>\n    </tr>\n  </thead>\n  <tbody>\n    <tr>\n      <th>0</th>\n      <td>Afghanistan</td>\n      <td>56.700001</td>\n      <td>56.500000</td>\n      <td>56.599998</td>\n      <td>56.200001</td>\n      <td>56.200001</td>\n      <td>56.099998</td>\n      <td>56.200001</td>\n      <td>56.200001</td>\n      <td>56.099998</td>\n      <td>56.099998</td>\n      <td>56.500000</td>\n      <td>56.400002</td>\n      <td>54.400002</td>\n      <td>56.000000</td>\n      <td>54.0</td>\n      <td>56.000000</td>\n      <td>55.700001</td>\n    </tr>\n    <tr>\n      <th>1</th>\n      <td>Albania</td>\n      <td>52.700001</td>\n      <td>52.299999</td>\n      <td>52.400002</td>\n      <td>52.700001</td>\n      <td>52.799999</td>\n      <td>52.599998</td>\n      <td>52.400002</td>\n      <td>52.099998</td>\n      <td>52.099998</td>\n      <td>51.900002</td>\n      <td>51.799999</td>\n      <td>51.799999</td>\n      <td>51.799999</td>\n      <td>51.700001</td>\n      <td>51.5</td>\n      <td>51.400002</td>\n      <td>51.400002</td>\n    </tr>\n  </tbody>\n</table>\n</div>"
     },
     "execution_count": 1,
     "metadata": {},
     "output_type": "execute_result"
    }
   ],
   "source": [
    "import numpy as np\n",
    "import pandas as pd\n",
    "\n",
    "employment = pd.read_csv('../resources/lesson2/employment_above_15.csv')\n",
    "employment[0:2]"
   ]
  },
  {
   "cell_type": "markdown",
   "metadata": {
    "pycharm": {
     "name": "#%% md\n"
    }
   },
   "source": [
    "## Find maximum element in pandas array."
   ]
  },
  {
   "cell_type": "markdown",
   "metadata": {
    "pycharm": {
     "name": "#%% md\n"
    }
   },
   "source": [
    "Find maximum employment value and corresponding year for a given country."
   ]
  },
  {
   "cell_type": "code",
   "execution_count": 2,
   "metadata": {
    "pycharm": {
     "name": "#%%\n"
    }
   },
   "outputs": [],
   "source": [
    "def filter_by_country(values, country: str):\n",
    "    return values[values['Country'] == country]\n",
    "\n",
    "def print_max_employment(country: str):\n",
    "    employment_years = employment.keys()[1:]\n",
    "    employment_values = filter_by_country(employment, country).values[0][1:]\n",
    "\n",
    "    employment_max = employment_values.max()\n",
    "    employment_max_year = employment_years[employment_values.argmax()]\n",
    "\n",
    "    print(\"Maximum employment in {} was {} in the year {}.\".format(country, employment_max, employment_max_year))"
   ]
  },
  {
   "cell_type": "markdown",
   "metadata": {
    "pycharm": {
     "name": "#%% md\n"
    }
   },
   "source": [
    "Find maximum employment for some countries."
   ]
  },
  {
   "cell_type": "code",
   "execution_count": 3,
   "metadata": {
    "pycharm": {
     "name": "#%%\n"
    }
   },
   "outputs": [
    {
     "data": {
      "text/plain": "     Country       1991       1992       1993       1994       1995  \\\n6  Australia  57.200001  56.200001  55.900002  56.900002  58.400002   \n\n        1996       1997       1998       1999       2000       2001  2002  \\\n6  58.200001  57.900002  58.299999  58.700001  59.400002  59.200001  59.5   \n\n        2003       2004       2005       2006  2007  \n6  59.900002  60.099998  61.200001  61.599998  61.5  ",
      "text/html": "<div>\n<style scoped>\n    .dataframe tbody tr th:only-of-type {\n        vertical-align: middle;\n    }\n\n    .dataframe tbody tr th {\n        vertical-align: top;\n    }\n\n    .dataframe thead th {\n        text-align: right;\n    }\n</style>\n<table border=\"1\" class=\"dataframe\">\n  <thead>\n    <tr style=\"text-align: right;\">\n      <th></th>\n      <th>Country</th>\n      <th>1991</th>\n      <th>1992</th>\n      <th>1993</th>\n      <th>1994</th>\n      <th>1995</th>\n      <th>1996</th>\n      <th>1997</th>\n      <th>1998</th>\n      <th>1999</th>\n      <th>2000</th>\n      <th>2001</th>\n      <th>2002</th>\n      <th>2003</th>\n      <th>2004</th>\n      <th>2005</th>\n      <th>2006</th>\n      <th>2007</th>\n    </tr>\n  </thead>\n  <tbody>\n    <tr>\n      <th>6</th>\n      <td>Australia</td>\n      <td>57.200001</td>\n      <td>56.200001</td>\n      <td>55.900002</td>\n      <td>56.900002</td>\n      <td>58.400002</td>\n      <td>58.200001</td>\n      <td>57.900002</td>\n      <td>58.299999</td>\n      <td>58.700001</td>\n      <td>59.400002</td>\n      <td>59.200001</td>\n      <td>59.5</td>\n      <td>59.900002</td>\n      <td>60.099998</td>\n      <td>61.200001</td>\n      <td>61.599998</td>\n      <td>61.5</td>\n    </tr>\n  </tbody>\n</table>\n</div>"
     },
     "execution_count": 3,
     "metadata": {},
     "output_type": "execute_result"
    }
   ],
   "source": [
    "filter_by_country(employment, 'Australia')"
   ]
  },
  {
   "cell_type": "code",
   "execution_count": 4,
   "metadata": {
    "pycharm": {
     "name": "#%%\n"
    }
   },
   "outputs": [
    {
     "name": "stdout",
     "output_type": "stream",
     "text": [
      "Maximum employment in Australia was 61.5999984741 in the year 2006.\n"
     ]
    }
   ],
   "source": [
    "print_max_employment('Australia')"
   ]
  },
  {
   "cell_type": "code",
   "execution_count": 5,
   "metadata": {
    "pycharm": {
     "name": "#%%\n"
    }
   },
   "outputs": [
    {
     "data": {
      "text/plain": "    Country       1991  1992  1993       1994       1995       1996  \\\n60  Germany  56.200001  55.0  54.0  53.400002  53.400002  53.099998   \n\n         1997       1998       1999       2000       2001       2002  2003  \\\n60  52.700001  53.400002  53.599998  53.700001  53.599998  52.900002  52.0   \n\n         2004       2005       2006  2007  \n60  51.900002  51.900002  52.799999  53.5  ",
      "text/html": "<div>\n<style scoped>\n    .dataframe tbody tr th:only-of-type {\n        vertical-align: middle;\n    }\n\n    .dataframe tbody tr th {\n        vertical-align: top;\n    }\n\n    .dataframe thead th {\n        text-align: right;\n    }\n</style>\n<table border=\"1\" class=\"dataframe\">\n  <thead>\n    <tr style=\"text-align: right;\">\n      <th></th>\n      <th>Country</th>\n      <th>1991</th>\n      <th>1992</th>\n      <th>1993</th>\n      <th>1994</th>\n      <th>1995</th>\n      <th>1996</th>\n      <th>1997</th>\n      <th>1998</th>\n      <th>1999</th>\n      <th>2000</th>\n      <th>2001</th>\n      <th>2002</th>\n      <th>2003</th>\n      <th>2004</th>\n      <th>2005</th>\n      <th>2006</th>\n      <th>2007</th>\n    </tr>\n  </thead>\n  <tbody>\n    <tr>\n      <th>60</th>\n      <td>Germany</td>\n      <td>56.200001</td>\n      <td>55.0</td>\n      <td>54.0</td>\n      <td>53.400002</td>\n      <td>53.400002</td>\n      <td>53.099998</td>\n      <td>52.700001</td>\n      <td>53.400002</td>\n      <td>53.599998</td>\n      <td>53.700001</td>\n      <td>53.599998</td>\n      <td>52.900002</td>\n      <td>52.0</td>\n      <td>51.900002</td>\n      <td>51.900002</td>\n      <td>52.799999</td>\n      <td>53.5</td>\n    </tr>\n  </tbody>\n</table>\n</div>"
     },
     "execution_count": 5,
     "metadata": {},
     "output_type": "execute_result"
    }
   ],
   "source": [
    "filter_by_country(employment, 'Germany')"
   ]
  },
  {
   "cell_type": "code",
   "execution_count": 6,
   "metadata": {
    "pycharm": {
     "name": "#%%\n"
    }
   },
   "outputs": [
    {
     "name": "stdout",
     "output_type": "stream",
     "text": [
      "Maximum employment in Germany was 56.2000007629 in the year 1991.\n"
     ]
    }
   ],
   "source": [
    "print_max_employment('Germany')"
   ]
  },
  {
   "cell_type": "code",
   "execution_count": 7,
   "metadata": {
    "pycharm": {
     "name": "#%%\n"
    }
   },
   "outputs": [
    {
     "data": {
      "text/plain": "           Country       1991       1992       1993       1994       1995  \\\n169  United States  61.299999  61.099998  61.400002  62.200001  62.599998   \n\n          1996       1997       1998  1999       2000       2001       2002  \\\n169  62.900002  63.400002  63.799999  64.0  64.199997  63.299999  62.299999   \n\n          2003       2004       2005       2006       2007  \n169  61.799999  61.799999  62.200001  62.599998  62.299999  ",
      "text/html": "<div>\n<style scoped>\n    .dataframe tbody tr th:only-of-type {\n        vertical-align: middle;\n    }\n\n    .dataframe tbody tr th {\n        vertical-align: top;\n    }\n\n    .dataframe thead th {\n        text-align: right;\n    }\n</style>\n<table border=\"1\" class=\"dataframe\">\n  <thead>\n    <tr style=\"text-align: right;\">\n      <th></th>\n      <th>Country</th>\n      <th>1991</th>\n      <th>1992</th>\n      <th>1993</th>\n      <th>1994</th>\n      <th>1995</th>\n      <th>1996</th>\n      <th>1997</th>\n      <th>1998</th>\n      <th>1999</th>\n      <th>2000</th>\n      <th>2001</th>\n      <th>2002</th>\n      <th>2003</th>\n      <th>2004</th>\n      <th>2005</th>\n      <th>2006</th>\n      <th>2007</th>\n    </tr>\n  </thead>\n  <tbody>\n    <tr>\n      <th>169</th>\n      <td>United States</td>\n      <td>61.299999</td>\n      <td>61.099998</td>\n      <td>61.400002</td>\n      <td>62.200001</td>\n      <td>62.599998</td>\n      <td>62.900002</td>\n      <td>63.400002</td>\n      <td>63.799999</td>\n      <td>64.0</td>\n      <td>64.199997</td>\n      <td>63.299999</td>\n      <td>62.299999</td>\n      <td>61.799999</td>\n      <td>61.799999</td>\n      <td>62.200001</td>\n      <td>62.599998</td>\n      <td>62.299999</td>\n    </tr>\n  </tbody>\n</table>\n</div>"
     },
     "execution_count": 7,
     "metadata": {},
     "output_type": "execute_result"
    }
   ],
   "source": [
    "filter_by_country(employment, 'United States')"
   ]
  },
  {
   "cell_type": "code",
   "execution_count": 8,
   "metadata": {
    "pycharm": {
     "name": "#%%\n"
    }
   },
   "outputs": [
    {
     "name": "stdout",
     "output_type": "stream",
     "text": [
      "Maximum employment in United States was 64.1999969482 in the year 2000.\n"
     ]
    }
   ],
   "source": [
    "print_max_employment('United States')"
   ]
  },
  {
   "cell_type": "markdown",
   "metadata": {
    "pycharm": {
     "name": "#%% md\n"
    }
   },
   "source": [
    "## Calculate overall completion rate"
   ]
  },
  {
   "cell_type": "code",
   "execution_count": 9,
   "metadata": {
    "pycharm": {
     "name": "#%%\n"
    }
   },
   "outputs": [
    {
     "data": {
      "text/plain": "                 Country  1970  1971      1972      1973      1974     1975  \\\n0               Abkhazia   NaN   NaN       NaN       NaN       NaN      NaN   \n1            Afghanistan   NaN   NaN       NaN       NaN   4.19285      NaN   \n2  Akrotiri and Dhekelia   NaN   NaN       NaN       NaN       NaN      NaN   \n3                Albania   NaN   NaN       NaN       NaN       NaN      NaN   \n4                Algeria   NaN   NaN  30.90031  33.02938  34.32702  39.7942   \n\n       1976      1977      1978  ...      2002       2003      2004      2005  \\\n0       NaN       NaN       NaN  ...       NaN        NaN       NaN       NaN   \n1       NaN   5.14529   5.91965  ...       NaN        NaN       NaN  18.74188   \n2       NaN       NaN       NaN  ...       NaN        NaN       NaN       NaN   \n3       NaN       NaN       NaN  ...       NaN  100.27718  97.70814       NaN   \n4  45.24156  48.22515  50.49138  ...  90.09179   91.27633  93.30839  94.21432   \n\n   2006      2007       2008      2009      2010      2011  \n0   NaN       NaN        NaN       NaN       NaN       NaN  \n1   NaN       NaN        NaN       NaN       NaN       NaN  \n2   NaN       NaN        NaN       NaN       NaN       NaN  \n3   NaN       NaN   90.41091  89.76010  86.01452  89.53901  \n4   NaN  97.35583  109.72854  95.13346  95.87439  94.20928  \n\n[5 rows x 43 columns]",
      "text/html": "<div>\n<style scoped>\n    .dataframe tbody tr th:only-of-type {\n        vertical-align: middle;\n    }\n\n    .dataframe tbody tr th {\n        vertical-align: top;\n    }\n\n    .dataframe thead th {\n        text-align: right;\n    }\n</style>\n<table border=\"1\" class=\"dataframe\">\n  <thead>\n    <tr style=\"text-align: right;\">\n      <th></th>\n      <th>Country</th>\n      <th>1970</th>\n      <th>1971</th>\n      <th>1972</th>\n      <th>1973</th>\n      <th>1974</th>\n      <th>1975</th>\n      <th>1976</th>\n      <th>1977</th>\n      <th>1978</th>\n      <th>...</th>\n      <th>2002</th>\n      <th>2003</th>\n      <th>2004</th>\n      <th>2005</th>\n      <th>2006</th>\n      <th>2007</th>\n      <th>2008</th>\n      <th>2009</th>\n      <th>2010</th>\n      <th>2011</th>\n    </tr>\n  </thead>\n  <tbody>\n    <tr>\n      <th>0</th>\n      <td>Abkhazia</td>\n      <td>NaN</td>\n      <td>NaN</td>\n      <td>NaN</td>\n      <td>NaN</td>\n      <td>NaN</td>\n      <td>NaN</td>\n      <td>NaN</td>\n      <td>NaN</td>\n      <td>NaN</td>\n      <td>...</td>\n      <td>NaN</td>\n      <td>NaN</td>\n      <td>NaN</td>\n      <td>NaN</td>\n      <td>NaN</td>\n      <td>NaN</td>\n      <td>NaN</td>\n      <td>NaN</td>\n      <td>NaN</td>\n      <td>NaN</td>\n    </tr>\n    <tr>\n      <th>1</th>\n      <td>Afghanistan</td>\n      <td>NaN</td>\n      <td>NaN</td>\n      <td>NaN</td>\n      <td>NaN</td>\n      <td>4.19285</td>\n      <td>NaN</td>\n      <td>NaN</td>\n      <td>5.14529</td>\n      <td>5.91965</td>\n      <td>...</td>\n      <td>NaN</td>\n      <td>NaN</td>\n      <td>NaN</td>\n      <td>18.74188</td>\n      <td>NaN</td>\n      <td>NaN</td>\n      <td>NaN</td>\n      <td>NaN</td>\n      <td>NaN</td>\n      <td>NaN</td>\n    </tr>\n    <tr>\n      <th>2</th>\n      <td>Akrotiri and Dhekelia</td>\n      <td>NaN</td>\n      <td>NaN</td>\n      <td>NaN</td>\n      <td>NaN</td>\n      <td>NaN</td>\n      <td>NaN</td>\n      <td>NaN</td>\n      <td>NaN</td>\n      <td>NaN</td>\n      <td>...</td>\n      <td>NaN</td>\n      <td>NaN</td>\n      <td>NaN</td>\n      <td>NaN</td>\n      <td>NaN</td>\n      <td>NaN</td>\n      <td>NaN</td>\n      <td>NaN</td>\n      <td>NaN</td>\n      <td>NaN</td>\n    </tr>\n    <tr>\n      <th>3</th>\n      <td>Albania</td>\n      <td>NaN</td>\n      <td>NaN</td>\n      <td>NaN</td>\n      <td>NaN</td>\n      <td>NaN</td>\n      <td>NaN</td>\n      <td>NaN</td>\n      <td>NaN</td>\n      <td>NaN</td>\n      <td>...</td>\n      <td>NaN</td>\n      <td>100.27718</td>\n      <td>97.70814</td>\n      <td>NaN</td>\n      <td>NaN</td>\n      <td>NaN</td>\n      <td>90.41091</td>\n      <td>89.76010</td>\n      <td>86.01452</td>\n      <td>89.53901</td>\n    </tr>\n    <tr>\n      <th>4</th>\n      <td>Algeria</td>\n      <td>NaN</td>\n      <td>NaN</td>\n      <td>30.90031</td>\n      <td>33.02938</td>\n      <td>34.32702</td>\n      <td>39.7942</td>\n      <td>45.24156</td>\n      <td>48.22515</td>\n      <td>50.49138</td>\n      <td>...</td>\n      <td>90.09179</td>\n      <td>91.27633</td>\n      <td>93.30839</td>\n      <td>94.21432</td>\n      <td>NaN</td>\n      <td>97.35583</td>\n      <td>109.72854</td>\n      <td>95.13346</td>\n      <td>95.87439</td>\n      <td>94.20928</td>\n    </tr>\n  </tbody>\n</table>\n<p>5 rows × 43 columns</p>\n</div>"
     },
     "execution_count": 9,
     "metadata": {},
     "output_type": "execute_result"
    }
   ],
   "source": [
    "completion_rate_female = pd.read_csv('../resources/lesson2/female_completion_rate.csv')\n",
    "completion_rate_male = pd.read_csv('../resources/lesson2/male_completion_rate.csv')\n",
    "\n",
    "completion_rate_female.head()"
   ]
  },
  {
   "cell_type": "markdown",
   "metadata": {
    "pycharm": {
     "name": "#%% md\n"
    }
   },
   "source": [
    "Extract the countries (column headings) and separately calculate the overall completion rates (values)\n",
    "as the average of the male and female completion rates."
   ]
  },
  {
   "cell_type": "code",
   "execution_count": 10,
   "metadata": {
    "pycharm": {
     "name": "#%%\n"
    }
   },
   "outputs": [],
   "source": [
    "completion_rate_countries = completion_rate_female.values[:, 0]\n",
    "completion_rate_sum_values = (completion_rate_male.values[:, 1:] + completion_rate_female.values[:, 1:]) / 2.0"
   ]
  },
  {
   "cell_type": "markdown",
   "metadata": {
    "pycharm": {
     "name": "#%% md\n"
    }
   },
   "source": [
    "Combine the column headings and overall completion rates to a new data frame."
   ]
  },
  {
   "cell_type": "code",
   "execution_count": 11,
   "metadata": {
    "pycharm": {
     "name": "#%%\n"
    }
   },
   "outputs": [
    {
     "data": {
      "text/plain": "                   Country 1970 1971    1972     1973     1974     1975  \\\n0                 Abkhazia  NaN  NaN     NaN      NaN      NaN      NaN   \n1              Afghanistan  NaN  NaN     NaN      NaN  15.2123      NaN   \n2    Akrotiri and Dhekelia  NaN  NaN     NaN      NaN      NaN      NaN   \n3                  Albania  NaN  NaN     NaN      NaN      NaN      NaN   \n4                  Algeria  NaN  NaN  43.146  45.2209  47.5222  53.0432   \n..                     ...  ...  ...     ...      ...      ...      ...   \n270                Bonaire  NaN  NaN     NaN      NaN      NaN      NaN   \n271                   Sark  NaN  NaN     NaN      NaN      NaN      NaN   \n272         Chinese Taipei  NaN  NaN     NaN      NaN      NaN      NaN   \n273        Saint Eustatius  NaN  NaN     NaN      NaN      NaN      NaN   \n274                   Saba  NaN  NaN     NaN      NaN      NaN      NaN   \n\n        1976     1977     1978  ...     2002     2003     2004     2005 2006  \\\n0        NaN      NaN      NaN  ...      NaN      NaN      NaN      NaN  NaN   \n1        NaN  15.9419  17.4965  ...      NaN      NaN      NaN  33.5513  NaN   \n2        NaN      NaN      NaN  ...      NaN      NaN      NaN      NaN  NaN   \n3        NaN      NaN      NaN  ...      NaN  101.093  98.4074      NaN  NaN   \n4    58.9112  61.6345  63.9421  ...  90.2181  91.6582  92.9948    94.44  NaN   \n..       ...      ...      ...  ...      ...      ...      ...      ...  ...   \n270      NaN      NaN      NaN  ...      NaN      NaN      NaN      NaN  NaN   \n271      NaN      NaN      NaN  ...      NaN      NaN      NaN      NaN  NaN   \n272      NaN      NaN      NaN  ...      NaN      NaN      NaN      NaN  NaN   \n273      NaN      NaN      NaN  ...      NaN      NaN      NaN      NaN  NaN   \n274      NaN      NaN      NaN  ...      NaN      NaN      NaN      NaN  NaN   \n\n       2007     2008     2009     2010     2011  \n0       NaN      NaN      NaN      NaN      NaN  \n1       NaN      NaN      NaN      NaN      NaN  \n2       NaN      NaN      NaN      NaN      NaN  \n3       NaN  89.9299  89.2982  86.2525  88.8601  \n4    96.416  115.532  94.1489  95.9826  94.3627  \n..      ...      ...      ...      ...      ...  \n270     NaN      NaN      NaN      NaN      NaN  \n271     NaN      NaN      NaN      NaN      NaN  \n272     NaN      NaN      NaN      NaN      NaN  \n273     NaN      NaN      NaN      NaN      NaN  \n274     NaN      NaN      NaN      NaN      NaN  \n\n[275 rows x 43 columns]",
      "text/html": "<div>\n<style scoped>\n    .dataframe tbody tr th:only-of-type {\n        vertical-align: middle;\n    }\n\n    .dataframe tbody tr th {\n        vertical-align: top;\n    }\n\n    .dataframe thead th {\n        text-align: right;\n    }\n</style>\n<table border=\"1\" class=\"dataframe\">\n  <thead>\n    <tr style=\"text-align: right;\">\n      <th></th>\n      <th>Country</th>\n      <th>1970</th>\n      <th>1971</th>\n      <th>1972</th>\n      <th>1973</th>\n      <th>1974</th>\n      <th>1975</th>\n      <th>1976</th>\n      <th>1977</th>\n      <th>1978</th>\n      <th>...</th>\n      <th>2002</th>\n      <th>2003</th>\n      <th>2004</th>\n      <th>2005</th>\n      <th>2006</th>\n      <th>2007</th>\n      <th>2008</th>\n      <th>2009</th>\n      <th>2010</th>\n      <th>2011</th>\n    </tr>\n  </thead>\n  <tbody>\n    <tr>\n      <th>0</th>\n      <td>Abkhazia</td>\n      <td>NaN</td>\n      <td>NaN</td>\n      <td>NaN</td>\n      <td>NaN</td>\n      <td>NaN</td>\n      <td>NaN</td>\n      <td>NaN</td>\n      <td>NaN</td>\n      <td>NaN</td>\n      <td>...</td>\n      <td>NaN</td>\n      <td>NaN</td>\n      <td>NaN</td>\n      <td>NaN</td>\n      <td>NaN</td>\n      <td>NaN</td>\n      <td>NaN</td>\n      <td>NaN</td>\n      <td>NaN</td>\n      <td>NaN</td>\n    </tr>\n    <tr>\n      <th>1</th>\n      <td>Afghanistan</td>\n      <td>NaN</td>\n      <td>NaN</td>\n      <td>NaN</td>\n      <td>NaN</td>\n      <td>15.2123</td>\n      <td>NaN</td>\n      <td>NaN</td>\n      <td>15.9419</td>\n      <td>17.4965</td>\n      <td>...</td>\n      <td>NaN</td>\n      <td>NaN</td>\n      <td>NaN</td>\n      <td>33.5513</td>\n      <td>NaN</td>\n      <td>NaN</td>\n      <td>NaN</td>\n      <td>NaN</td>\n      <td>NaN</td>\n      <td>NaN</td>\n    </tr>\n    <tr>\n      <th>2</th>\n      <td>Akrotiri and Dhekelia</td>\n      <td>NaN</td>\n      <td>NaN</td>\n      <td>NaN</td>\n      <td>NaN</td>\n      <td>NaN</td>\n      <td>NaN</td>\n      <td>NaN</td>\n      <td>NaN</td>\n      <td>NaN</td>\n      <td>...</td>\n      <td>NaN</td>\n      <td>NaN</td>\n      <td>NaN</td>\n      <td>NaN</td>\n      <td>NaN</td>\n      <td>NaN</td>\n      <td>NaN</td>\n      <td>NaN</td>\n      <td>NaN</td>\n      <td>NaN</td>\n    </tr>\n    <tr>\n      <th>3</th>\n      <td>Albania</td>\n      <td>NaN</td>\n      <td>NaN</td>\n      <td>NaN</td>\n      <td>NaN</td>\n      <td>NaN</td>\n      <td>NaN</td>\n      <td>NaN</td>\n      <td>NaN</td>\n      <td>NaN</td>\n      <td>...</td>\n      <td>NaN</td>\n      <td>101.093</td>\n      <td>98.4074</td>\n      <td>NaN</td>\n      <td>NaN</td>\n      <td>NaN</td>\n      <td>89.9299</td>\n      <td>89.2982</td>\n      <td>86.2525</td>\n      <td>88.8601</td>\n    </tr>\n    <tr>\n      <th>4</th>\n      <td>Algeria</td>\n      <td>NaN</td>\n      <td>NaN</td>\n      <td>43.146</td>\n      <td>45.2209</td>\n      <td>47.5222</td>\n      <td>53.0432</td>\n      <td>58.9112</td>\n      <td>61.6345</td>\n      <td>63.9421</td>\n      <td>...</td>\n      <td>90.2181</td>\n      <td>91.6582</td>\n      <td>92.9948</td>\n      <td>94.44</td>\n      <td>NaN</td>\n      <td>96.416</td>\n      <td>115.532</td>\n      <td>94.1489</td>\n      <td>95.9826</td>\n      <td>94.3627</td>\n    </tr>\n    <tr>\n      <th>...</th>\n      <td>...</td>\n      <td>...</td>\n      <td>...</td>\n      <td>...</td>\n      <td>...</td>\n      <td>...</td>\n      <td>...</td>\n      <td>...</td>\n      <td>...</td>\n      <td>...</td>\n      <td>...</td>\n      <td>...</td>\n      <td>...</td>\n      <td>...</td>\n      <td>...</td>\n      <td>...</td>\n      <td>...</td>\n      <td>...</td>\n      <td>...</td>\n      <td>...</td>\n      <td>...</td>\n    </tr>\n    <tr>\n      <th>270</th>\n      <td>Bonaire</td>\n      <td>NaN</td>\n      <td>NaN</td>\n      <td>NaN</td>\n      <td>NaN</td>\n      <td>NaN</td>\n      <td>NaN</td>\n      <td>NaN</td>\n      <td>NaN</td>\n      <td>NaN</td>\n      <td>...</td>\n      <td>NaN</td>\n      <td>NaN</td>\n      <td>NaN</td>\n      <td>NaN</td>\n      <td>NaN</td>\n      <td>NaN</td>\n      <td>NaN</td>\n      <td>NaN</td>\n      <td>NaN</td>\n      <td>NaN</td>\n    </tr>\n    <tr>\n      <th>271</th>\n      <td>Sark</td>\n      <td>NaN</td>\n      <td>NaN</td>\n      <td>NaN</td>\n      <td>NaN</td>\n      <td>NaN</td>\n      <td>NaN</td>\n      <td>NaN</td>\n      <td>NaN</td>\n      <td>NaN</td>\n      <td>...</td>\n      <td>NaN</td>\n      <td>NaN</td>\n      <td>NaN</td>\n      <td>NaN</td>\n      <td>NaN</td>\n      <td>NaN</td>\n      <td>NaN</td>\n      <td>NaN</td>\n      <td>NaN</td>\n      <td>NaN</td>\n    </tr>\n    <tr>\n      <th>272</th>\n      <td>Chinese Taipei</td>\n      <td>NaN</td>\n      <td>NaN</td>\n      <td>NaN</td>\n      <td>NaN</td>\n      <td>NaN</td>\n      <td>NaN</td>\n      <td>NaN</td>\n      <td>NaN</td>\n      <td>NaN</td>\n      <td>...</td>\n      <td>NaN</td>\n      <td>NaN</td>\n      <td>NaN</td>\n      <td>NaN</td>\n      <td>NaN</td>\n      <td>NaN</td>\n      <td>NaN</td>\n      <td>NaN</td>\n      <td>NaN</td>\n      <td>NaN</td>\n    </tr>\n    <tr>\n      <th>273</th>\n      <td>Saint Eustatius</td>\n      <td>NaN</td>\n      <td>NaN</td>\n      <td>NaN</td>\n      <td>NaN</td>\n      <td>NaN</td>\n      <td>NaN</td>\n      <td>NaN</td>\n      <td>NaN</td>\n      <td>NaN</td>\n      <td>...</td>\n      <td>NaN</td>\n      <td>NaN</td>\n      <td>NaN</td>\n      <td>NaN</td>\n      <td>NaN</td>\n      <td>NaN</td>\n      <td>NaN</td>\n      <td>NaN</td>\n      <td>NaN</td>\n      <td>NaN</td>\n    </tr>\n    <tr>\n      <th>274</th>\n      <td>Saba</td>\n      <td>NaN</td>\n      <td>NaN</td>\n      <td>NaN</td>\n      <td>NaN</td>\n      <td>NaN</td>\n      <td>NaN</td>\n      <td>NaN</td>\n      <td>NaN</td>\n      <td>NaN</td>\n      <td>...</td>\n      <td>NaN</td>\n      <td>NaN</td>\n      <td>NaN</td>\n      <td>NaN</td>\n      <td>NaN</td>\n      <td>NaN</td>\n      <td>NaN</td>\n      <td>NaN</td>\n      <td>NaN</td>\n      <td>NaN</td>\n    </tr>\n  </tbody>\n</table>\n<p>275 rows × 43 columns</p>\n</div>"
     },
     "execution_count": 11,
     "metadata": {},
     "output_type": "execute_result"
    }
   ],
   "source": [
    "completion_rate_keys = completion_rate_female.keys()\n",
    "completion_rate_overall = pd.DataFrame(data=completion_rate_sum_values, columns=completion_rate_keys[1:])\n",
    "completion_rate_overall.insert(0, value=completion_rate_countries, column=completion_rate_keys[0])\n",
    "completion_rate_overall"
   ]
  },
  {
   "cell_type": "code",
   "execution_count": 12,
   "metadata": {
    "pycharm": {
     "name": "#%%\n"
    }
   },
   "outputs": [
    {
     "data": {
      "text/plain": "           Country 1970 1971 1972 1973 1974 1975 1976 1977 1978  ...     2002  \\\n240  United States  NaN  NaN  NaN  NaN  NaN  NaN  NaN  NaN  NaN  ...  101.163   \n\n        2003     2004     2005    2006     2007    2008     2009     2010 2011  \n240  101.541  100.373  99.1939  98.207  100.221  100.59  102.428  103.651  NaN  \n\n[1 rows x 43 columns]",
      "text/html": "<div>\n<style scoped>\n    .dataframe tbody tr th:only-of-type {\n        vertical-align: middle;\n    }\n\n    .dataframe tbody tr th {\n        vertical-align: top;\n    }\n\n    .dataframe thead th {\n        text-align: right;\n    }\n</style>\n<table border=\"1\" class=\"dataframe\">\n  <thead>\n    <tr style=\"text-align: right;\">\n      <th></th>\n      <th>Country</th>\n      <th>1970</th>\n      <th>1971</th>\n      <th>1972</th>\n      <th>1973</th>\n      <th>1974</th>\n      <th>1975</th>\n      <th>1976</th>\n      <th>1977</th>\n      <th>1978</th>\n      <th>...</th>\n      <th>2002</th>\n      <th>2003</th>\n      <th>2004</th>\n      <th>2005</th>\n      <th>2006</th>\n      <th>2007</th>\n      <th>2008</th>\n      <th>2009</th>\n      <th>2010</th>\n      <th>2011</th>\n    </tr>\n  </thead>\n  <tbody>\n    <tr>\n      <th>240</th>\n      <td>United States</td>\n      <td>NaN</td>\n      <td>NaN</td>\n      <td>NaN</td>\n      <td>NaN</td>\n      <td>NaN</td>\n      <td>NaN</td>\n      <td>NaN</td>\n      <td>NaN</td>\n      <td>NaN</td>\n      <td>...</td>\n      <td>101.163</td>\n      <td>101.541</td>\n      <td>100.373</td>\n      <td>99.1939</td>\n      <td>98.207</td>\n      <td>100.221</td>\n      <td>100.59</td>\n      <td>102.428</td>\n      <td>103.651</td>\n      <td>NaN</td>\n    </tr>\n  </tbody>\n</table>\n<p>1 rows × 43 columns</p>\n</div>"
     },
     "execution_count": 12,
     "metadata": {},
     "output_type": "execute_result"
    }
   ],
   "source": [
    "completion_rate_overall[completion_rate_overall['Country'] == 'United States']"
   ]
  },
  {
   "cell_type": "markdown",
   "metadata": {},
   "source": [
    "## Standardizing data"
   ]
  },
  {
   "cell_type": "markdown",
   "metadata": {},
   "source": [
    "Select employment data for all countries for the year 2007."
   ]
  },
  {
   "cell_type": "code",
   "execution_count": 13,
   "metadata": {
    "pycharm": {
     "name": "#%%\n"
    }
   },
   "outputs": [
    {
     "data": {
      "text/plain": "                 0        1        2       3          4        5          6    \\\nCountry  Afghanistan  Albania  Algeria  Angola  Argentina  Armenia  Australia   \n2007            55.7     51.4     50.5    75.7       58.4     40.1       61.5   \n\n             7           8        9    ...             168            169  \\\nCountry  Austria  Azerbaijan  Bahamas  ...  United Kingdom  United States   \n2007        57.1        60.9     66.6  ...            59.3           62.3   \n\n             170         171        172      173                 174  \\\nCountry  Uruguay  Uzbekistan  Venezuela  Vietnam  West Bank and Gaza   \n2007        57.5        57.5       59.9       71                  32   \n\n                 175     176       177  \nCountry  Yemen, Rep.  Zambia  Zimbabwe  \n2007              39      61      66.8  \n\n[2 rows x 178 columns]",
      "text/html": "<div>\n<style scoped>\n    .dataframe tbody tr th:only-of-type {\n        vertical-align: middle;\n    }\n\n    .dataframe tbody tr th {\n        vertical-align: top;\n    }\n\n    .dataframe thead th {\n        text-align: right;\n    }\n</style>\n<table border=\"1\" class=\"dataframe\">\n  <thead>\n    <tr style=\"text-align: right;\">\n      <th></th>\n      <th>0</th>\n      <th>1</th>\n      <th>2</th>\n      <th>3</th>\n      <th>4</th>\n      <th>5</th>\n      <th>6</th>\n      <th>7</th>\n      <th>8</th>\n      <th>9</th>\n      <th>...</th>\n      <th>168</th>\n      <th>169</th>\n      <th>170</th>\n      <th>171</th>\n      <th>172</th>\n      <th>173</th>\n      <th>174</th>\n      <th>175</th>\n      <th>176</th>\n      <th>177</th>\n    </tr>\n  </thead>\n  <tbody>\n    <tr>\n      <th>Country</th>\n      <td>Afghanistan</td>\n      <td>Albania</td>\n      <td>Algeria</td>\n      <td>Angola</td>\n      <td>Argentina</td>\n      <td>Armenia</td>\n      <td>Australia</td>\n      <td>Austria</td>\n      <td>Azerbaijan</td>\n      <td>Bahamas</td>\n      <td>...</td>\n      <td>United Kingdom</td>\n      <td>United States</td>\n      <td>Uruguay</td>\n      <td>Uzbekistan</td>\n      <td>Venezuela</td>\n      <td>Vietnam</td>\n      <td>West Bank and Gaza</td>\n      <td>Yemen, Rep.</td>\n      <td>Zambia</td>\n      <td>Zimbabwe</td>\n    </tr>\n    <tr>\n      <th>2007</th>\n      <td>55.7</td>\n      <td>51.4</td>\n      <td>50.5</td>\n      <td>75.7</td>\n      <td>58.4</td>\n      <td>40.1</td>\n      <td>61.5</td>\n      <td>57.1</td>\n      <td>60.9</td>\n      <td>66.6</td>\n      <td>...</td>\n      <td>59.3</td>\n      <td>62.3</td>\n      <td>57.5</td>\n      <td>57.5</td>\n      <td>59.9</td>\n      <td>71</td>\n      <td>32</td>\n      <td>39</td>\n      <td>61</td>\n      <td>66.8</td>\n    </tr>\n  </tbody>\n</table>\n<p>2 rows × 178 columns</p>\n</div>"
     },
     "execution_count": 13,
     "metadata": {},
     "output_type": "execute_result"
    }
   ],
   "source": [
    "employment_countries = employment['Country']\n",
    "employment_2007 = employment['2007']\n",
    "\n",
    "pd.DataFrame([employment_countries, employment_2007])"
   ]
  },
  {
   "cell_type": "markdown",
   "metadata": {
    "pycharm": {
     "name": "#%% md\n"
    }
   },
   "source": [
    "Calculate the employment rates in standard deviations from the mean value."
   ]
  },
  {
   "cell_type": "code",
   "execution_count": 14,
   "metadata": {
    "pycharm": {
     "name": "#%%\n"
    }
   },
   "outputs": [
    {
     "data": {
      "text/plain": "                 0         1        2        3          4        5    \\\nCountry  Afghanistan   Albania  Algeria   Angola  Argentina  Armenia   \n2007       -0.279098 -0.687864 -0.77342  1.62214 -0.0224302 -1.76206   \n\n               6         7           8         9    ...             168  \\\nCountry  Australia   Austria  Azerbaijan   Bahamas  ...  United Kingdom   \n2007      0.272262 -0.146011    0.215225  0.757078  ...       0.0631253   \n\n                   169       170         171        172      173  \\\nCountry  United States   Uruguay  Uzbekistan  Venezuela  Vietnam   \n2007          0.348311 -0.107986   -0.107986   0.120163  1.17535   \n\n                        174          175       176       177  \nCountry  West Bank and Gaza  Yemen, Rep.    Zambia  Zimbabwe  \n2007               -2.53207     -1.86663  0.224731   0.77609  \n\n[2 rows x 178 columns]",
      "text/html": "<div>\n<style scoped>\n    .dataframe tbody tr th:only-of-type {\n        vertical-align: middle;\n    }\n\n    .dataframe tbody tr th {\n        vertical-align: top;\n    }\n\n    .dataframe thead th {\n        text-align: right;\n    }\n</style>\n<table border=\"1\" class=\"dataframe\">\n  <thead>\n    <tr style=\"text-align: right;\">\n      <th></th>\n      <th>0</th>\n      <th>1</th>\n      <th>2</th>\n      <th>3</th>\n      <th>4</th>\n      <th>5</th>\n      <th>6</th>\n      <th>7</th>\n      <th>8</th>\n      <th>9</th>\n      <th>...</th>\n      <th>168</th>\n      <th>169</th>\n      <th>170</th>\n      <th>171</th>\n      <th>172</th>\n      <th>173</th>\n      <th>174</th>\n      <th>175</th>\n      <th>176</th>\n      <th>177</th>\n    </tr>\n  </thead>\n  <tbody>\n    <tr>\n      <th>Country</th>\n      <td>Afghanistan</td>\n      <td>Albania</td>\n      <td>Algeria</td>\n      <td>Angola</td>\n      <td>Argentina</td>\n      <td>Armenia</td>\n      <td>Australia</td>\n      <td>Austria</td>\n      <td>Azerbaijan</td>\n      <td>Bahamas</td>\n      <td>...</td>\n      <td>United Kingdom</td>\n      <td>United States</td>\n      <td>Uruguay</td>\n      <td>Uzbekistan</td>\n      <td>Venezuela</td>\n      <td>Vietnam</td>\n      <td>West Bank and Gaza</td>\n      <td>Yemen, Rep.</td>\n      <td>Zambia</td>\n      <td>Zimbabwe</td>\n    </tr>\n    <tr>\n      <th>2007</th>\n      <td>-0.279098</td>\n      <td>-0.687864</td>\n      <td>-0.77342</td>\n      <td>1.62214</td>\n      <td>-0.0224302</td>\n      <td>-1.76206</td>\n      <td>0.272262</td>\n      <td>-0.146011</td>\n      <td>0.215225</td>\n      <td>0.757078</td>\n      <td>...</td>\n      <td>0.0631253</td>\n      <td>0.348311</td>\n      <td>-0.107986</td>\n      <td>-0.107986</td>\n      <td>0.120163</td>\n      <td>1.17535</td>\n      <td>-2.53207</td>\n      <td>-1.86663</td>\n      <td>0.224731</td>\n      <td>0.77609</td>\n    </tr>\n  </tbody>\n</table>\n<p>2 rows × 178 columns</p>\n</div>"
     },
     "execution_count": 14,
     "metadata": {},
     "output_type": "execute_result"
    }
   ],
   "source": [
    "employment_2007_sd = (employment_2007 - employment_2007.mean()) / employment_2007.std()\n",
    "pd.DataFrame([employment_countries, employment_2007_sd])"
   ]
  },
  {
   "cell_type": "markdown",
   "metadata": {},
   "source": [
    "## NumPy index arrays"
   ]
  },
  {
   "cell_type": "markdown",
   "metadata": {
    "pycharm": {
     "name": "#%% md\n"
    }
   },
   "source": [
    "Find out how much time the students who joined for at least 7 days have spent in the classroom."
   ]
  },
  {
   "cell_type": "code",
   "execution_count": 15,
   "metadata": {
    "pycharm": {
     "name": "#%%\n"
    }
   },
   "outputs": [
    {
     "name": "stdout",
     "output_type": "stream",
     "text": [
      "11 students joined for at least 7 days. \n"
     ]
    }
   ],
   "source": [
    "days_to_cancel = np.array([\n",
    "    4, 5, 37, 3, 12,\n",
    "    4, 35, 38, 5, 37,\n",
    "    3, 3, 68, 38, 98,\n",
    "    2, 249, 2, 127, 35])\n",
    "time_spent = np.array([\n",
    "    12.89697233, 0., 64.55043217, 0., 24.2315615,\n",
    "    39.991625, 0., 0., 147.20683783, 0.,\n",
    "    0., 0., 45.18261617, 157.60454283, 133.2434615,\n",
    "    52.85000767, 0., 54.9204785, 26.78142417, 0.])\n",
    "\n",
    "time_spent_if_gte_7_days = time_spent[days_to_cancel >= 7]\n",
    "print(len(time_spent_if_gte_7_days), 'students joined for at least 7 days. ')"
   ]
  },
  {
   "cell_type": "markdown",
   "metadata": {
    "pycharm": {
     "name": "#%% md\n"
    }
   },
   "source": [
    "Calculate the mean of time spent by these students."
   ]
  },
  {
   "cell_type": "code",
   "execution_count": 16,
   "metadata": {
    "pycharm": {
     "name": "#%%\n"
    }
   },
   "outputs": [
    {
     "data": {
      "text/plain": "41.05400348545454"
     },
     "execution_count": 16,
     "metadata": {},
     "output_type": "execute_result"
    }
   ],
   "source": [
    "time_spent_if_gte_7_days.mean()"
   ]
  },
  {
   "cell_type": "markdown",
   "metadata": {
    "pycharm": {
     "name": "#%% md\n"
    }
   },
   "source": [
    "## In-place operators on NumPy arrays"
   ]
  },
  {
   "cell_type": "markdown",
   "metadata": {},
   "source": [
    "The `+=` vector operator works _in-place_: the original array will be modified."
   ]
  },
  {
   "cell_type": "code",
   "execution_count": 17,
   "metadata": {
    "pycharm": {
     "name": "#%%\n"
    }
   },
   "outputs": [
    {
     "name": "stdout",
     "output_type": "stream",
     "text": [
      "Resulting array: [1 2 3 4]\n",
      "Original array:  [1 2 3 4]\n"
     ]
    }
   ],
   "source": [
    "a = np.array([0, 1, 2, 3])\n",
    "b = a\n",
    "a += np.array([1, 1, 1, 1])\n",
    "\n",
    "print(\"Resulting array:\", a)\n",
    "print(\"Original array: \", b)"
   ]
  },
  {
   "cell_type": "markdown",
   "metadata": {},
   "source": [
    "The `+` vector operator works _not in-place_: the original array will not be modified."
   ]
  },
  {
   "cell_type": "code",
   "execution_count": 18,
   "metadata": {
    "pycharm": {
     "name": "#%%\n"
    }
   },
   "outputs": [
    {
     "name": "stdout",
     "output_type": "stream",
     "text": [
      "Resulting array: [1 2 3 4]\n",
      "Original array:  [0 1 2 3]\n"
     ]
    }
   ],
   "source": [
    "a = np.array([0, 1, 2, 3])\n",
    "b = a\n",
    "a = a + np.array([1, 1, 1, 1])\n",
    "\n",
    "print(\"Resulting array:\", a)\n",
    "print(\"Original array: \", b)"
   ]
  },
  {
   "cell_type": "markdown",
   "metadata": {
    "pycharm": {
     "name": "#%% md\n"
    }
   },
   "source": [
    "The slice operator for arrays works _in-place_, other than the one for lists."
   ]
  },
  {
   "cell_type": "code",
   "execution_count": 19,
   "metadata": {
    "pycharm": {
     "name": "#%%\n"
    }
   },
   "outputs": [
    {
     "name": "stdout",
     "output_type": "stream",
     "text": [
      "List after modifying the slice:  [0, 1, 2, 3]\n",
      "Array after modifying the slice: [  0 100   2   3]\n"
     ]
    }
   ],
   "source": [
    "list_int = [0, 1, 2, 3]\n",
    "array_int = np.array(list_int)\n",
    "\n",
    "list_slice = list_int[:2]\n",
    "array_slice = array_int[:2]\n",
    "\n",
    "list_slice[1] = 100\n",
    "array_slice[1] = 100\n",
    "\n",
    "print(\"List after modifying the slice: \", list_int)\n",
    "print(\"Array after modifying the slice:\", array_int)"
   ]
  },
  {
   "cell_type": "markdown",
   "metadata": {
    "pycharm": {
     "name": "#%% md\n"
    }
   },
   "source": [
    "## Pandas Series"
   ]
  },
  {
   "cell_type": "code",
   "execution_count": 20,
   "metadata": {
    "pycharm": {
     "name": "#%%\n"
    }
   },
   "outputs": [],
   "source": [
    "gdp_per_capita = pd.read_csv('../resources/lesson2/gdp_per_capita.csv')\n",
    "life_expectancy = pd.read_csv('../resources/lesson2/life_expectancy.csv')"
   ]
  },
  {
   "cell_type": "markdown",
   "metadata": {},
   "source": [
    "The life expectancy in 2007."
   ]
  },
  {
   "cell_type": "code",
   "execution_count": 21,
   "metadata": {
    "pycharm": {
     "name": "#%%\n"
    }
   },
   "outputs": [
    {
     "data": {
      "text/plain": "                   Country    2007\n0              Afghanistan  53.600\n1                  Albania  74.700\n2                  Algeria  75.000\n3           American Samoa     NaN\n4                  Andorra  83.400\n..                     ...     ...\n239  Virgin Islands (U.S.)  78.861\n240            Yemen, Rep.  65.500\n241                 Zambia  49.900\n242               Zimbabwe  48.400\n243                  Åland     NaN\n\n[244 rows x 2 columns]",
      "text/html": "<div>\n<style scoped>\n    .dataframe tbody tr th:only-of-type {\n        vertical-align: middle;\n    }\n\n    .dataframe tbody tr th {\n        vertical-align: top;\n    }\n\n    .dataframe thead th {\n        text-align: right;\n    }\n</style>\n<table border=\"1\" class=\"dataframe\">\n  <thead>\n    <tr style=\"text-align: right;\">\n      <th></th>\n      <th>Country</th>\n      <th>2007</th>\n    </tr>\n  </thead>\n  <tbody>\n    <tr>\n      <th>0</th>\n      <td>Afghanistan</td>\n      <td>53.600</td>\n    </tr>\n    <tr>\n      <th>1</th>\n      <td>Albania</td>\n      <td>74.700</td>\n    </tr>\n    <tr>\n      <th>2</th>\n      <td>Algeria</td>\n      <td>75.000</td>\n    </tr>\n    <tr>\n      <th>3</th>\n      <td>American Samoa</td>\n      <td>NaN</td>\n    </tr>\n    <tr>\n      <th>4</th>\n      <td>Andorra</td>\n      <td>83.400</td>\n    </tr>\n    <tr>\n      <th>...</th>\n      <td>...</td>\n      <td>...</td>\n    </tr>\n    <tr>\n      <th>239</th>\n      <td>Virgin Islands (U.S.)</td>\n      <td>78.861</td>\n    </tr>\n    <tr>\n      <th>240</th>\n      <td>Yemen, Rep.</td>\n      <td>65.500</td>\n    </tr>\n    <tr>\n      <th>241</th>\n      <td>Zambia</td>\n      <td>49.900</td>\n    </tr>\n    <tr>\n      <th>242</th>\n      <td>Zimbabwe</td>\n      <td>48.400</td>\n    </tr>\n    <tr>\n      <th>243</th>\n      <td>Åland</td>\n      <td>NaN</td>\n    </tr>\n  </tbody>\n</table>\n<p>244 rows × 2 columns</p>\n</div>"
     },
     "execution_count": 21,
     "metadata": {},
     "output_type": "execute_result"
    }
   ],
   "source": [
    "life_expectancy_2007 = life_expectancy[['Country', '2007']]\n",
    "life_expectancy_2007"
   ]
  },
  {
   "cell_type": "markdown",
   "metadata": {},
   "source": [
    "The GDP per capita in 2007."
   ]
  },
  {
   "cell_type": "code",
   "execution_count": 22,
   "metadata": {
    "pycharm": {
     "name": "#%%\n"
    }
   },
   "outputs": [
    {
     "data": {
      "text/plain": "                   Country         2007\n0                 Abkhazia          NaN\n1              Afghanistan          NaN\n2    Akrotiri and Dhekelia          NaN\n3                  Albania  1681.613910\n4                  Algeria  2155.485231\n..                     ...          ...\n270                Bonaire          NaN\n271                   Sark          NaN\n272         Chinese Taipei          NaN\n273        Saint Eustatius          NaN\n274                   Saba          NaN\n\n[275 rows x 2 columns]",
      "text/html": "<div>\n<style scoped>\n    .dataframe tbody tr th:only-of-type {\n        vertical-align: middle;\n    }\n\n    .dataframe tbody tr th {\n        vertical-align: top;\n    }\n\n    .dataframe thead th {\n        text-align: right;\n    }\n</style>\n<table border=\"1\" class=\"dataframe\">\n  <thead>\n    <tr style=\"text-align: right;\">\n      <th></th>\n      <th>Country</th>\n      <th>2007</th>\n    </tr>\n  </thead>\n  <tbody>\n    <tr>\n      <th>0</th>\n      <td>Abkhazia</td>\n      <td>NaN</td>\n    </tr>\n    <tr>\n      <th>1</th>\n      <td>Afghanistan</td>\n      <td>NaN</td>\n    </tr>\n    <tr>\n      <th>2</th>\n      <td>Akrotiri and Dhekelia</td>\n      <td>NaN</td>\n    </tr>\n    <tr>\n      <th>3</th>\n      <td>Albania</td>\n      <td>1681.613910</td>\n    </tr>\n    <tr>\n      <th>4</th>\n      <td>Algeria</td>\n      <td>2155.485231</td>\n    </tr>\n    <tr>\n      <th>...</th>\n      <td>...</td>\n      <td>...</td>\n    </tr>\n    <tr>\n      <th>270</th>\n      <td>Bonaire</td>\n      <td>NaN</td>\n    </tr>\n    <tr>\n      <th>271</th>\n      <td>Sark</td>\n      <td>NaN</td>\n    </tr>\n    <tr>\n      <th>272</th>\n      <td>Chinese Taipei</td>\n      <td>NaN</td>\n    </tr>\n    <tr>\n      <th>273</th>\n      <td>Saint Eustatius</td>\n      <td>NaN</td>\n    </tr>\n    <tr>\n      <th>274</th>\n      <td>Saba</td>\n      <td>NaN</td>\n    </tr>\n  </tbody>\n</table>\n<p>275 rows × 2 columns</p>\n</div>"
     },
     "execution_count": 22,
     "metadata": {},
     "output_type": "execute_result"
    }
   ],
   "source": [
    "gdp_per_capita_2007 = gdp_per_capita[['Country', '2007']]\n",
    "gdp_per_capita_2007"
   ]
  },
  {
   "cell_type": "markdown",
   "metadata": {
    "pycharm": {
     "name": "#%% md\n"
    }
   },
   "source": [
    "The countries in both data frames are not the same, and there are also missing data points.\n",
    "We now want to join the two data frames and retain only data points for those countries\n",
    "that have values available in both data frames."
   ]
  },
  {
   "cell_type": "code",
   "execution_count": 23,
   "metadata": {
    "pycharm": {
     "name": "#%%\n"
    }
   },
   "outputs": [
    {
     "data": {
      "text/plain": "                 Country  2007 Life Expectancy      2007 GDP\n0                Albania                  74.7   1681.613910\n1                Algeria                  75.0   2155.485231\n2                Andorra                  83.4  21495.805083\n3                 Angola                  57.6    562.987685\n4    Antigua and Barbuda                  74.6  13495.127466\n..                   ...                   ...           ...\n170              Vanuatu                  63.4   1472.195530\n171            Venezuela                  74.6   5777.628568\n172              Vietnam                  75.2    623.957483\n173               Zambia                  49.9    385.122823\n174             Zimbabwe                  48.4    339.654883\n\n[175 rows x 3 columns]",
      "text/html": "<div>\n<style scoped>\n    .dataframe tbody tr th:only-of-type {\n        vertical-align: middle;\n    }\n\n    .dataframe tbody tr th {\n        vertical-align: top;\n    }\n\n    .dataframe thead th {\n        text-align: right;\n    }\n</style>\n<table border=\"1\" class=\"dataframe\">\n  <thead>\n    <tr style=\"text-align: right;\">\n      <th></th>\n      <th>Country</th>\n      <th>2007 Life Expectancy</th>\n      <th>2007 GDP</th>\n    </tr>\n  </thead>\n  <tbody>\n    <tr>\n      <th>0</th>\n      <td>Albania</td>\n      <td>74.7</td>\n      <td>1681.613910</td>\n    </tr>\n    <tr>\n      <th>1</th>\n      <td>Algeria</td>\n      <td>75.0</td>\n      <td>2155.485231</td>\n    </tr>\n    <tr>\n      <th>2</th>\n      <td>Andorra</td>\n      <td>83.4</td>\n      <td>21495.805083</td>\n    </tr>\n    <tr>\n      <th>3</th>\n      <td>Angola</td>\n      <td>57.6</td>\n      <td>562.987685</td>\n    </tr>\n    <tr>\n      <th>4</th>\n      <td>Antigua and Barbuda</td>\n      <td>74.6</td>\n      <td>13495.127466</td>\n    </tr>\n    <tr>\n      <th>...</th>\n      <td>...</td>\n      <td>...</td>\n      <td>...</td>\n    </tr>\n    <tr>\n      <th>170</th>\n      <td>Vanuatu</td>\n      <td>63.4</td>\n      <td>1472.195530</td>\n    </tr>\n    <tr>\n      <th>171</th>\n      <td>Venezuela</td>\n      <td>74.6</td>\n      <td>5777.628568</td>\n    </tr>\n    <tr>\n      <th>172</th>\n      <td>Vietnam</td>\n      <td>75.2</td>\n      <td>623.957483</td>\n    </tr>\n    <tr>\n      <th>173</th>\n      <td>Zambia</td>\n      <td>49.9</td>\n      <td>385.122823</td>\n    </tr>\n    <tr>\n      <th>174</th>\n      <td>Zimbabwe</td>\n      <td>48.4</td>\n      <td>339.654883</td>\n    </tr>\n  </tbody>\n</table>\n<p>175 rows × 3 columns</p>\n</div>"
     },
     "execution_count": 23,
     "metadata": {},
     "output_type": "execute_result"
    }
   ],
   "source": [
    "life_expectancy_and_gdp_2007 = life_expectancy_2007.dropna()\\\n",
    "    .join(gdp_per_capita_2007.dropna().set_index('Country'),\n",
    "          on='Country', how='inner', lsuffix=' Life Expectancy', rsuffix=' GDP')\\\n",
    "    .reset_index(drop=True)\n",
    "\n",
    "life_expectancy_and_gdp_2007"
   ]
  },
  {
   "cell_type": "markdown",
   "source": [
    "Now we want to do a very simple check if the GDP and life expectancy are correlated.\n",
    "For each country, we compare the values with the corresponding mean value and check,\n",
    "whether both GDP and life expectancy are above or below their respective mean value."
   ],
   "metadata": {
    "collapsed": false,
    "pycharm": {
     "name": "#%% md\n"
    }
   }
  },
  {
   "cell_type": "code",
   "execution_count": 24,
   "metadata": {
    "pycharm": {
     "name": "#%%\n"
    }
   },
   "outputs": [
    {
     "name": "stdout",
     "output_type": "stream",
     "text": [
      "The life expectancy and the GDP is correlated for 120 countries and not correlated for 55 countries.\n"
     ]
    }
   ],
   "source": [
    "def variable_correlation(s1: pd.Series, s2: pd.Series):\n",
    "    \"\"\"\n",
    "    For given two data series (should be same length),\n",
    "    computes for each row whether the the values in both series\n",
    "    are in the same direction from the respective mean value, i. e., both are below or above,\n",
    "    or if the values are in different different directions from the mean value,\n",
    "\n",
    "    :param s1: 1st data series\n",
    "    :param s2: 2nd data series.\n",
    "    :return:\n",
    "    \"\"\"\n",
    "    mean1 = s1.mean()\n",
    "    mean2 = s2.mean()\n",
    "    arr_same_direction = (s1 >= mean1) == (s2 >= mean2)\n",
    "\n",
    "    num_same_direction = arr_same_direction.sum()\n",
    "    num_different_direction = len(arr_same_direction) - num_same_direction\n",
    "\n",
    "    return num_same_direction, num_different_direction\n",
    "\n",
    "same_dir, diff_dir = variable_correlation(life_expectancy_and_gdp_2007['2007 Life Expectancy'], life_expectancy_and_gdp_2007['2007 GDP'])\n",
    "print(\"The life expectancy and the GDP is correlated for {} countries and not correlated for {} countries.\"\n",
    "      .format(same_dir, diff_dir))"
   ]
  },
  {
   "cell_type": "markdown",
   "metadata": {
    "pycharm": {
     "name": "#%% md\n"
    }
   },
   "source": [
    "## Series indexes"
   ]
  },
  {
   "cell_type": "markdown",
   "metadata": {},
   "source": [
    "Combine employment data into Series."
   ]
  },
  {
   "cell_type": "code",
   "execution_count": 25,
   "metadata": {
    "pycharm": {
     "name": "#%%\n"
    }
   },
   "outputs": [
    {
     "data": {
      "text/plain": "Afghanistan           55.700001\nAlbania               51.400002\nAlgeria               50.500000\nAngola                75.699997\nArgentina             58.400002\n                        ...    \nVietnam               71.000000\nWest Bank and Gaza    32.000000\nYemen, Rep.           39.000000\nZambia                61.000000\nZimbabwe              66.800003\nLength: 178, dtype: float64"
     },
     "execution_count": 25,
     "metadata": {},
     "output_type": "execute_result"
    }
   ],
   "source": [
    "employment_2007_series = pd.Series(employment_2007.values, index=employment_countries.values)\n",
    "employment_2007_series"
   ]
  },
  {
   "cell_type": "markdown",
   "metadata": {},
   "source": [
    "Find country with maximum employment using Series."
   ]
  },
  {
   "cell_type": "code",
   "execution_count": 26,
   "metadata": {
    "pycharm": {
     "name": "#%%\n"
    }
   },
   "outputs": [
    {
     "name": "stdout",
     "output_type": "stream",
     "text": [
      "Maximum employment was 83.1999969482 in Burundi.\n"
     ]
    }
   ],
   "source": [
    "max_country, max_value = employment_2007_series.idxmax(), employment_2007_series.max()\n",
    "print(\"Maximum employment was {} in {}.\".format(max_value, max_country))"
   ]
  },
  {
   "cell_type": "markdown",
   "metadata": {
    "pycharm": {
     "name": "#%% md\n"
    }
   },
   "source": [
    "## Vectorized operations and Series indexes"
   ]
  },
  {
   "cell_type": "code",
   "execution_count": 27,
   "metadata": {
    "pycharm": {
     "name": "#%%\n"
    }
   },
   "outputs": [
    {
     "name": "stdout",
     "output_type": "stream",
     "text": [
      "<IntegerArray>\n",
      "[1, 2, 3, 4]\n",
      "Length: 4, dtype: Int64\n",
      "<IntegerArray>\n",
      "[10, 20, 30, 40]\n",
      "Length: 4, dtype: Int64\n"
     ]
    }
   ],
   "source": [
    "a1 = pd.array([1, 2, 3, 4])\n",
    "a10 = a1 * 10\n",
    "\n",
    "print(a1)\n",
    "print(a10)"
   ]
  },
  {
   "cell_type": "markdown",
   "metadata": {
    "pycharm": {
     "name": "#%% md\n"
    }
   },
   "source": [
    "Adding Series with same indexes."
   ]
  },
  {
   "cell_type": "code",
   "execution_count": 28,
   "metadata": {
    "pycharm": {
     "name": "#%%\n"
    }
   },
   "outputs": [
    {
     "data": {
      "text/plain": "a    11\nb    22\nc    33\nd    44\ndtype: Int64"
     },
     "execution_count": 28,
     "metadata": {},
     "output_type": "execute_result"
    }
   ],
   "source": [
    "s1 = pd.Series(a1, index = ['a', 'b', 'c', 'd'])\n",
    "s2 = pd.Series(a10, index = ['a', 'b', 'c', 'd'])\n",
    "s1 + s2"
   ]
  },
  {
   "cell_type": "markdown",
   "metadata": {},
   "source": [
    "Adding Series with same index keys in different order."
   ]
  },
  {
   "cell_type": "code",
   "execution_count": 29,
   "metadata": {
    "pycharm": {
     "name": "#%%\n"
    }
   },
   "outputs": [
    {
     "data": {
      "text/plain": "a    21\nb    12\nc    33\nd    44\ndtype: Int64"
     },
     "execution_count": 29,
     "metadata": {},
     "output_type": "execute_result"
    }
   ],
   "source": [
    "s1 = pd.Series(a1, index = ['a', 'b', 'c', 'd'])\n",
    "s2 = pd.Series(a10, index = ['b', 'a', 'c', 'd'])\n",
    "s1 + s2"
   ]
  },
  {
   "cell_type": "markdown",
   "metadata": {},
   "source": [
    "Adding Series with partially overlapping indexes."
   ]
  },
  {
   "cell_type": "code",
   "execution_count": 30,
   "metadata": {
    "pycharm": {
     "name": "#%%\n"
    }
   },
   "outputs": [
    {
     "data": {
      "text/plain": "a    <NA>\nb    <NA>\nc      13\nd      24\ne    <NA>\nf    <NA>\ndtype: Int64"
     },
     "execution_count": 30,
     "metadata": {},
     "output_type": "execute_result"
    }
   ],
   "source": [
    "s1 = pd.Series(a1, index = ['a', 'b', 'c', 'd'])\n",
    "s2 = pd.Series(a10, index = ['c', 'd', 'e', 'f'])\n",
    "s1 + s2"
   ]
  },
  {
   "cell_type": "markdown",
   "metadata": {},
   "source": [
    "Adding Series with disjunct indexes."
   ]
  },
  {
   "cell_type": "code",
   "execution_count": 31,
   "metadata": {
    "pycharm": {
     "name": "#%%\n"
    }
   },
   "outputs": [
    {
     "data": {
      "text/plain": "a    <NA>\nb    <NA>\nc    <NA>\nd    <NA>\ne    <NA>\nf    <NA>\ng    <NA>\nh    <NA>\ndtype: Int64"
     },
     "execution_count": 31,
     "metadata": {},
     "output_type": "execute_result"
    }
   ],
   "source": [
    "s1 = pd.Series(a1, index = ['a', 'b', 'c', 'd'])\n",
    "s2 = pd.Series(a10, index = ['e', 'f', 'g', 'h'])\n",
    "s1 + s2"
   ]
  },
  {
   "cell_type": "markdown",
   "metadata": {
    "pycharm": {
     "name": "#%% md\n"
    }
   },
   "source": [
    "## Filling missing values"
   ]
  },
  {
   "cell_type": "markdown",
   "metadata": {},
   "source": [
    "Adding Series with partially overlapping indexes produces `NaN` entries."
   ]
  },
  {
   "cell_type": "code",
   "execution_count": 32,
   "metadata": {
    "pycharm": {
     "name": "#%%\n"
    }
   },
   "outputs": [
    {
     "data": {
      "text/plain": "a    <NA>\nb    <NA>\nc      13\nd      24\ne    <NA>\nf    <NA>\ndtype: Int64"
     },
     "execution_count": 32,
     "metadata": {},
     "output_type": "execute_result"
    }
   ],
   "source": [
    "s1 = pd.Series(a1, index = ['a', 'b', 'c', 'd'])\n",
    "s2 = pd.Series(a10, index = ['c', 'd', 'e', 'f'])\n",
    "s1 + s2"
   ]
  },
  {
   "cell_type": "markdown",
   "metadata": {
    "pycharm": {
     "name": "#%% md\n"
    }
   },
   "source": [
    "Rows with `NaN` values can be omitted using `dropna`."
   ]
  },
  {
   "cell_type": "code",
   "execution_count": 33,
   "metadata": {
    "pycharm": {
     "name": "#%%\n"
    }
   },
   "outputs": [
    {
     "data": {
      "text/plain": "c    13\nd    24\ndtype: Int64"
     },
     "execution_count": 33,
     "metadata": {},
     "output_type": "execute_result"
    }
   ],
   "source": [
    "(s1 + s2).dropna()"
   ]
  },
  {
   "cell_type": "markdown",
   "metadata": {
    "pycharm": {
     "name": "#%% md\n"
    }
   },
   "source": [
    "The missing values can be filled using `fillna`."
   ]
  },
  {
   "cell_type": "code",
   "execution_count": 34,
   "metadata": {
    "pycharm": {
     "name": "#%%\n"
    }
   },
   "outputs": [
    {
     "data": {
      "text/plain": "a     0\nb     0\nc    13\nd    24\ne     0\nf     0\ndtype: Int64"
     },
     "execution_count": 34,
     "metadata": {},
     "output_type": "execute_result"
    }
   ],
   "source": [
    "(s1 + s2).fillna(0)"
   ]
  },
  {
   "cell_type": "markdown",
   "metadata": {},
   "source": [
    "It's also possible to fill missing values during addition.\n",
    "In that case the missing values will be substituted for the missing arguments _before_ adding."
   ]
  },
  {
   "cell_type": "code",
   "execution_count": 35,
   "metadata": {
    "pycharm": {
     "name": "#%%\n"
    }
   },
   "outputs": [
    {
     "data": {
      "text/plain": "a     1\nb     2\nc    13\nd    24\ne    30\nf    40\ndtype: Int64"
     },
     "execution_count": 35,
     "metadata": {},
     "output_type": "execute_result"
    }
   ],
   "source": [
    "s1.add(s2, fill_value=0)"
   ]
  },
  {
   "cell_type": "markdown",
   "metadata": {
    "pycharm": {
     "name": "#%% md\n"
    }
   },
   "source": [
    "## Pandas Series `apply()`\n",
    "\n",
    "`apply()` for Series is similar to `map` for iterables."
   ]
  },
  {
   "cell_type": "code",
   "execution_count": 36,
   "metadata": {
    "pycharm": {
     "name": "#%%\n"
    }
   },
   "outputs": [
    {
     "name": "stdout",
     "output_type": "stream",
     "text": [
      "a    1\n",
      "b    2\n",
      "c    3\n",
      "d    4\n",
      "dtype: Int64\n",
      "a    100\n",
      "b    200\n",
      "c    300\n",
      "d    400\n",
      "dtype: int64\n"
     ]
    }
   ],
   "source": [
    "print(s1)\n",
    "print(s1.apply(lambda n: n * 100))"
   ]
  },
  {
   "cell_type": "markdown",
   "metadata": {
    "pycharm": {
     "name": "#%% md\n"
    }
   },
   "source": [
    "Write a function to reverse name strings of the form `First Last` into `Last, First`\n",
    "and apply it to a series of names."
   ]
  },
  {
   "cell_type": "code",
   "execution_count": 37,
   "metadata": {
    "pycharm": {
     "name": "#%%\n"
    }
   },
   "outputs": [
    {
     "data": {
      "text/plain": "0    Last1, First1\n1    Last2, First2\ndtype: object"
     },
     "execution_count": 37,
     "metadata": {},
     "output_type": "execute_result"
    }
   ],
   "source": [
    "def reverse_name(name: str):\n",
    "    words = name.split()\n",
    "    return ', '.join(words[1:] + words[:1])\n",
    "\n",
    "def reverse_names(names: pd.Series):\n",
    "    return names.apply(reverse_name)\n",
    "\n",
    "reverse_names(pd.Series(['First1 Last1', 'First2 Last2']))"
   ]
  },
  {
   "cell_type": "markdown",
   "metadata": {
    "pycharm": {
     "name": "#%% md\n"
    }
   },
   "source": [
    "## Plotting in Pandas"
   ]
  },
  {
   "cell_type": "code",
   "execution_count": 38,
   "metadata": {
    "pycharm": {
     "name": "#%%\n"
    }
   },
   "outputs": [],
   "source": [
    "import matplotlib.pyplot as plt\n",
    "import seaborn as sns\n",
    "sns.set()"
   ]
  },
  {
   "cell_type": "markdown",
   "metadata": {
    "pycharm": {
     "name": "#%% md\n"
    }
   },
   "source": [
    "Set `Country` as index column for the data previously read from CSV files."
   ]
  },
  {
   "cell_type": "code",
   "execution_count": 39,
   "metadata": {
    "pycharm": {
     "name": "#%%\n"
    }
   },
   "outputs": [],
   "source": [
    "employment.set_index('Country', inplace=True)\n",
    "completion_rate_female.set_index('Country', inplace=True)\n",
    "completion_rate_male.set_index('Country', inplace=True)\n",
    "gdp_per_capita.set_index('Country', inplace=True)\n",
    "life_expectancy.set_index('Country', inplace=True)"
   ]
  },
  {
   "cell_type": "markdown",
   "metadata": {
    "pycharm": {
     "name": "#%% md\n"
    }
   },
   "source": [
    "Get data series for US."
   ]
  },
  {
   "cell_type": "code",
   "execution_count": 40,
   "metadata": {
    "pycharm": {
     "name": "#%%\n"
    }
   },
   "outputs": [],
   "source": [
    "employment_us = employment.loc['United States']\n",
    "completion_rate_female_us = completion_rate_female.loc['United States']\n",
    "completion_rate_male_us = completion_rate_male.loc['United States']\n",
    "gdp_per_capita_us = gdp_per_capita.loc['United States']\n",
    "life_expectancy_us = life_expectancy.loc['United States']"
   ]
  },
  {
   "cell_type": "markdown",
   "metadata": {
    "pycharm": {
     "name": "#%% md\n"
    }
   },
   "source": [
    "Plot the data. Both `plt.plot(data)` and `data.plot()` works."
   ]
  },
  {
   "cell_type": "code",
   "execution_count": 41,
   "metadata": {
    "pycharm": {
     "name": "#%%\n"
    }
   },
   "outputs": [
    {
     "data": {
      "text/plain": "[<matplotlib.lines.Line2D at 0x2028b156880>]"
     },
     "execution_count": 41,
     "metadata": {},
     "output_type": "execute_result"
    },
    {
     "data": {
      "text/plain": "<Figure size 720x360 with 1 Axes>",
      "image/png": "[encoded data removed]"
     },
     "metadata": {},
     "output_type": "display_data"
    }
   ],
   "source": [
    "fig_size = (10, 5)\n",
    "\n",
    "plt.figure(figsize=fig_size)\n",
    "plt.plot(employment_us)"
   ]
  },
  {
   "cell_type": "code",
   "execution_count": 42,
   "metadata": {
    "pycharm": {
     "name": "#%%\n"
    }
   },
   "outputs": [
    {
     "data": {
      "text/plain": "<matplotlib.axes._subplots.AxesSubplot at 0x2028b22b1f0>"
     },
     "execution_count": 42,
     "metadata": {},
     "output_type": "execute_result"
    },
    {
     "data": {
      "text/plain": "<Figure size 720x360 with 1 Axes>",
      "image/png": "[encoded data removed]"
     },
     "metadata": {},
     "output_type": "display_data"
    }
   ],
   "source": [
    "completion_rate_female_us.plot(figsize=fig_size)"
   ]
  },
  {
   "cell_type": "code",
   "execution_count": 43,
   "metadata": {
    "pycharm": {
     "name": "#%%\n"
    }
   },
   "outputs": [
    {
     "data": {
      "text/plain": "<matplotlib.axes._subplots.AxesSubplot at 0x2028aeb2430>"
     },
     "execution_count": 43,
     "metadata": {},
     "output_type": "execute_result"
    },
    {
     "data": {
      "text/plain": "<Figure size 720x360 with 1 Axes>",
      "image/png": "[encoded data removed]"
     },
     "metadata": {},
     "output_type": "display_data"
    }
   ],
   "source": [
    "completion_rate_male_us.plot(figsize=fig_size)"
   ]
  },
  {
   "cell_type": "code",
   "execution_count": 44,
   "metadata": {
    "pycharm": {
     "name": "#%%\n"
    }
   },
   "outputs": [
    {
     "data": {
      "text/plain": "<matplotlib.axes._subplots.AxesSubplot at 0x2028b2e48e0>"
     },
     "execution_count": 44,
     "metadata": {},
     "output_type": "execute_result"
    },
    {
     "data": {
      "text/plain": "<Figure size 720x360 with 1 Axes>",
      "image/png": "[encoded data removed]"
     },
     "metadata": {},
     "output_type": "display_data"
    }
   ],
   "source": [
    "gdp_per_capita_us.plot(figsize=fig_size)"
   ]
  },
  {
   "cell_type": "code",
   "execution_count": 45,
   "outputs": [
    {
     "data": {
      "text/plain": "<matplotlib.axes._subplots.AxesSubplot at 0x2028b334a60>"
     },
     "execution_count": 45,
     "metadata": {},
     "output_type": "execute_result"
    },
    {
     "data": {
      "text/plain": "<Figure size 720x360 with 1 Axes>",
      "image/png": "[encoded data removed]"
     },
     "metadata": {},
     "output_type": "display_data"
    }
   ],
   "source": [
    "life_expectancy_us.plot(figsize=fig_size)"
   ],
   "metadata": {
    "collapsed": false,
    "pycharm": {
     "name": "#%%\n"
    }
   }
  }
 ],
 "metadata": {
  "kernelspec": {
   "display_name": "PyCharm (python-examples)",
   "language": "python",
   "name": "pycharm-aa33d817"
  },
  "language_info": {
   "codemirror_mode": {
    "name": "ipython",
    "version": 3
   },
   "file_extension": ".py",
   "mimetype": "text/x-python",
   "name": "python",
   "nbconvert_exporter": "python",
   "pygments_lexer": "ipython3",
   "version": "3.8.5"
  }
 },
 "nbformat": 4,
 "nbformat_minor": 1
}